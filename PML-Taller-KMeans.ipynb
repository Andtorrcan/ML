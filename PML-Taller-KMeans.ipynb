{
 "cells": [
  {
   "cell_type": "markdown",
   "metadata": {
    "deletable": false,
    "editable": false,
    "nbgrader": {
     "cell_type": "markdown",
     "checksum": "9c8c2c1038bf76c13cfd29b6bb4e61c1",
     "grade": false,
     "grade_id": "cell-76ec265ed2ab9bbb",
     "locked": true,
     "schema_version": 3,
     "solution": false,
     "task": false
    }
   },
   "source": [
    "# Un problema de agrupación con KMeans\n",
    "\n",
    "En este taller estudiarás conceptos mostrados en el tutorial de \"Solución de problemas con KMeans\", utilizando el conjunto de datos de popularidad de canciones. Particularmente, realizarás los siguientes procesos:\n",
    "\n",
    "1. Cargar un conjunto de datos.\n",
    "2. Limpiar y preparar los datos para el modelado.\n",
    "3. Seleccionar el hiperparámetro K mediante el método del codo y de la silueta.\n",
    "4. Interpretar los grupos resultantes del mejor modelo.\n",
    "\n",
    "El problema a resolver es el siguiente: dadas las propiedades acústicas de un conjunto de canciones, queremos agrupar canciones con características similares. Antes de iniciar, es necesario importar algunas librerías: "
   ]
  },
  {
   "cell_type": "code",
   "execution_count": 1,
   "metadata": {
    "deletable": false,
    "editable": false,
    "nbgrader": {
     "cell_type": "code",
     "checksum": "f8a5609f11c42d0e29b3afcb24103e98",
     "grade": false,
     "grade_id": "cell-08f007017620fd44",
     "locked": true,
     "schema_version": 3,
     "solution": false,
     "task": false
    }
   },
   "outputs": [],
   "source": [
    "import pandas as pd\n",
    "import matplotlib.pyplot as plt\n",
    "import numpy as np\n",
    "\n",
    "from sklearn.preprocessing import StandardScaler\n",
    "from sklearn.metrics import silhouette_score\n",
    "from sklearn.cluster import KMeans\n",
    "from sklearn.pipeline import Pipeline"
   ]
  },
  {
   "cell_type": "markdown",
   "metadata": {
    "deletable": false,
    "editable": false,
    "nbgrader": {
     "cell_type": "markdown",
     "checksum": "13b60d73b3ed56e497e2b2f4f0e1f6d6",
     "grade": false,
     "grade_id": "cell-9ad7736c150bfaa9",
     "locked": true,
     "schema_version": 3,
     "solution": false,
     "task": false
    }
   },
   "source": [
    "## 1. Carga de datos\n",
    "\n",
    "Con las librerías importadas, seguiremos con la carga del conjunto de datos.\n",
    "\n",
    "### Ejercicio 1.1.\n",
    "\n",
    "Utiliza Pandas para importar el archivo que contiene el conjunto de datos de canciones.\n",
    "\n",
    "* La ruta del archivo .csv es: `./data/song_data.csv`, y ya se encuentra en el entorno de Coursera, solo debes importarlo.\n",
    "* La variable resultante debe tener el nombre `data_raw`, que representa el conjunto de datos sin modificar."
   ]
  },
  {
   "cell_type": "code",
   "execution_count": 2,
   "metadata": {
    "deletable": false,
    "nbgrader": {
     "cell_type": "code",
     "checksum": "2ce9f0eff8efbbe562acbd72a27c7716",
     "grade": false,
     "grade_id": "E11",
     "locked": false,
     "schema_version": 3,
     "solution": true,
     "task": false
    }
   },
   "outputs": [],
   "source": [
    "ruta = './data/song_data.csv'\n",
    "# your code here\n",
    "data_raw = pd.read_csv(ruta, sep=',')"
   ]
  },
  {
   "cell_type": "code",
   "execution_count": 3,
   "metadata": {
    "deletable": false,
    "editable": false,
    "nbgrader": {
     "cell_type": "code",
     "checksum": "1802e1d74242024eca1d3c9622d70919",
     "grade": true,
     "grade_id": "E11-tests",
     "locked": true,
     "points": 1,
     "schema_version": 3,
     "solution": false,
     "task": false
    }
   },
   "outputs": [
    {
     "name": "stdout",
     "output_type": "stream",
     "text": [
      "¡Los datos tienen las dimensiones correctas!\n"
     ]
    }
   ],
   "source": [
    "#---------- Celda de Pruebas ----------\n",
    "# La variable \"data_raw\" existe\n",
    "# El resultado es un DataFrame\n",
    "# El resultado tiene las dimensiones correctas\n",
    "#--------------------------------------\n",
    "\n",
    "# Se verifica que la variable está definida\n",
    "assert data_raw is not None, \"Asegúrate de definir la variable correctamente.\"\n",
    "\n",
    "# Se verifica que sea un DataFrame\n",
    "assert isinstance(data_raw, pd.DataFrame), \"El resultado debe ser un DataFrame.\"\n",
    "\n",
    "# Se evalúan las dimensiones de la variable data\n",
    "assert data_raw.shape == (18835,15), \"¿Verificaste que la ruta del archivo CSV y el nombre de la variable son correctos?\"\n",
    "print(\"¡Los datos tienen las dimensiones correctas!\")"
   ]
  },
  {
   "cell_type": "markdown",
   "metadata": {
    "deletable": false,
    "editable": false,
    "nbgrader": {
     "cell_type": "markdown",
     "checksum": "1c0eaf5b995934024f0c69a599465306",
     "grade": false,
     "grade_id": "cell-69d2593d9e4c1a25",
     "locked": true,
     "schema_version": 3,
     "solution": false,
     "task": false
    }
   },
   "source": [
    "En este punto puedes verificar el tamaño del conjunto de datos y puedes obtener una descripción inicial."
   ]
  },
  {
   "cell_type": "code",
   "execution_count": 4,
   "metadata": {
    "deletable": false,
    "editable": false,
    "nbgrader": {
     "cell_type": "code",
     "checksum": "7cffedf319d713e731f9a0f8201a36eb",
     "grade": false,
     "grade_id": "cell-a8cbecd6024012e4",
     "locked": true,
     "schema_version": 3,
     "solution": false,
     "task": false
    }
   },
   "outputs": [
    {
     "data": {
      "text/html": [
       "<div>\n",
       "<style scoped>\n",
       "    .dataframe tbody tr th:only-of-type {\n",
       "        vertical-align: middle;\n",
       "    }\n",
       "\n",
       "    .dataframe tbody tr th {\n",
       "        vertical-align: top;\n",
       "    }\n",
       "\n",
       "    .dataframe thead th {\n",
       "        text-align: right;\n",
       "    }\n",
       "</style>\n",
       "<table border=\"1\" class=\"dataframe\">\n",
       "  <thead>\n",
       "    <tr style=\"text-align: right;\">\n",
       "      <th></th>\n",
       "      <th>song_name</th>\n",
       "      <th>song_popularity</th>\n",
       "      <th>song_duration_ms</th>\n",
       "      <th>acousticness</th>\n",
       "      <th>danceability</th>\n",
       "      <th>energy</th>\n",
       "      <th>instrumentalness</th>\n",
       "      <th>key</th>\n",
       "      <th>liveness</th>\n",
       "      <th>loudness</th>\n",
       "      <th>audio_mode</th>\n",
       "      <th>speechiness</th>\n",
       "      <th>tempo</th>\n",
       "      <th>time_signature</th>\n",
       "      <th>audio_valence</th>\n",
       "    </tr>\n",
       "  </thead>\n",
       "  <tbody>\n",
       "    <tr>\n",
       "      <th>0</th>\n",
       "      <td>Boulevard of Broken Dreams</td>\n",
       "      <td>73</td>\n",
       "      <td>262333</td>\n",
       "      <td>0.005520</td>\n",
       "      <td>0.496</td>\n",
       "      <td>0.682</td>\n",
       "      <td>0.000029</td>\n",
       "      <td>8</td>\n",
       "      <td>0.0589</td>\n",
       "      <td>-4.095</td>\n",
       "      <td>1</td>\n",
       "      <td>0.0294</td>\n",
       "      <td>167.060</td>\n",
       "      <td>4</td>\n",
       "      <td>0.474</td>\n",
       "    </tr>\n",
       "    <tr>\n",
       "      <th>1</th>\n",
       "      <td>In The End</td>\n",
       "      <td>66</td>\n",
       "      <td>216933</td>\n",
       "      <td>0.010300</td>\n",
       "      <td>0.542</td>\n",
       "      <td>0.853</td>\n",
       "      <td>0.000000</td>\n",
       "      <td>3</td>\n",
       "      <td>0.1080</td>\n",
       "      <td>-6.407</td>\n",
       "      <td>0</td>\n",
       "      <td>0.0498</td>\n",
       "      <td>105.256</td>\n",
       "      <td>4</td>\n",
       "      <td>0.370</td>\n",
       "    </tr>\n",
       "    <tr>\n",
       "      <th>2</th>\n",
       "      <td>Seven Nation Army</td>\n",
       "      <td>76</td>\n",
       "      <td>231733</td>\n",
       "      <td>0.008170</td>\n",
       "      <td>0.737</td>\n",
       "      <td>0.463</td>\n",
       "      <td>0.447000</td>\n",
       "      <td>0</td>\n",
       "      <td>0.2550</td>\n",
       "      <td>-7.828</td>\n",
       "      <td>1</td>\n",
       "      <td>0.0792</td>\n",
       "      <td>123.881</td>\n",
       "      <td>4</td>\n",
       "      <td>0.324</td>\n",
       "    </tr>\n",
       "    <tr>\n",
       "      <th>3</th>\n",
       "      <td>By The Way</td>\n",
       "      <td>74</td>\n",
       "      <td>216933</td>\n",
       "      <td>0.026400</td>\n",
       "      <td>0.451</td>\n",
       "      <td>0.970</td>\n",
       "      <td>0.003550</td>\n",
       "      <td>0</td>\n",
       "      <td>0.1020</td>\n",
       "      <td>-4.938</td>\n",
       "      <td>1</td>\n",
       "      <td>0.1070</td>\n",
       "      <td>122.444</td>\n",
       "      <td>4</td>\n",
       "      <td>0.198</td>\n",
       "    </tr>\n",
       "    <tr>\n",
       "      <th>4</th>\n",
       "      <td>How You Remind Me</td>\n",
       "      <td>56</td>\n",
       "      <td>223826</td>\n",
       "      <td>0.000954</td>\n",
       "      <td>0.447</td>\n",
       "      <td>0.766</td>\n",
       "      <td>0.000000</td>\n",
       "      <td>10</td>\n",
       "      <td>0.1130</td>\n",
       "      <td>-5.065</td>\n",
       "      <td>1</td>\n",
       "      <td>0.0313</td>\n",
       "      <td>172.011</td>\n",
       "      <td>4</td>\n",
       "      <td>0.574</td>\n",
       "    </tr>\n",
       "    <tr>\n",
       "      <th>...</th>\n",
       "      <td>...</td>\n",
       "      <td>...</td>\n",
       "      <td>...</td>\n",
       "      <td>...</td>\n",
       "      <td>...</td>\n",
       "      <td>...</td>\n",
       "      <td>...</td>\n",
       "      <td>...</td>\n",
       "      <td>...</td>\n",
       "      <td>...</td>\n",
       "      <td>...</td>\n",
       "      <td>...</td>\n",
       "      <td>...</td>\n",
       "      <td>...</td>\n",
       "      <td>...</td>\n",
       "    </tr>\n",
       "    <tr>\n",
       "      <th>18830</th>\n",
       "      <td>Let It Breathe</td>\n",
       "      <td>60</td>\n",
       "      <td>159645</td>\n",
       "      <td>0.893000</td>\n",
       "      <td>0.500</td>\n",
       "      <td>0.151</td>\n",
       "      <td>0.000065</td>\n",
       "      <td>11</td>\n",
       "      <td>0.1110</td>\n",
       "      <td>-16.107</td>\n",
       "      <td>1</td>\n",
       "      <td>0.0348</td>\n",
       "      <td>113.969</td>\n",
       "      <td>4</td>\n",
       "      <td>0.300</td>\n",
       "    </tr>\n",
       "    <tr>\n",
       "      <th>18831</th>\n",
       "      <td>Answers</td>\n",
       "      <td>60</td>\n",
       "      <td>205666</td>\n",
       "      <td>0.765000</td>\n",
       "      <td>0.495</td>\n",
       "      <td>0.161</td>\n",
       "      <td>0.000001</td>\n",
       "      <td>11</td>\n",
       "      <td>0.1050</td>\n",
       "      <td>-14.078</td>\n",
       "      <td>0</td>\n",
       "      <td>0.0301</td>\n",
       "      <td>94.286</td>\n",
       "      <td>4</td>\n",
       "      <td>0.265</td>\n",
       "    </tr>\n",
       "    <tr>\n",
       "      <th>18832</th>\n",
       "      <td>Sudden Love (Acoustic)</td>\n",
       "      <td>23</td>\n",
       "      <td>182211</td>\n",
       "      <td>0.847000</td>\n",
       "      <td>0.719</td>\n",
       "      <td>0.325</td>\n",
       "      <td>0.000000</td>\n",
       "      <td>0</td>\n",
       "      <td>0.1250</td>\n",
       "      <td>-12.222</td>\n",
       "      <td>1</td>\n",
       "      <td>0.0355</td>\n",
       "      <td>130.534</td>\n",
       "      <td>4</td>\n",
       "      <td>0.286</td>\n",
       "    </tr>\n",
       "    <tr>\n",
       "      <th>18833</th>\n",
       "      <td>Gentle on My Mind</td>\n",
       "      <td>55</td>\n",
       "      <td>352280</td>\n",
       "      <td>0.945000</td>\n",
       "      <td>0.488</td>\n",
       "      <td>0.326</td>\n",
       "      <td>0.015700</td>\n",
       "      <td>3</td>\n",
       "      <td>0.1190</td>\n",
       "      <td>-12.020</td>\n",
       "      <td>1</td>\n",
       "      <td>0.0328</td>\n",
       "      <td>106.063</td>\n",
       "      <td>4</td>\n",
       "      <td>0.323</td>\n",
       "    </tr>\n",
       "    <tr>\n",
       "      <th>18834</th>\n",
       "      <td>Up to Me</td>\n",
       "      <td>60</td>\n",
       "      <td>193533</td>\n",
       "      <td>0.911000</td>\n",
       "      <td>0.640</td>\n",
       "      <td>0.381</td>\n",
       "      <td>0.000254</td>\n",
       "      <td>4</td>\n",
       "      <td>0.1040</td>\n",
       "      <td>-11.790</td>\n",
       "      <td>1</td>\n",
       "      <td>0.0302</td>\n",
       "      <td>91.490</td>\n",
       "      <td>4</td>\n",
       "      <td>0.581</td>\n",
       "    </tr>\n",
       "  </tbody>\n",
       "</table>\n",
       "<p>18835 rows × 15 columns</p>\n",
       "</div>"
      ],
      "text/plain": [
       "                        song_name  song_popularity  song_duration_ms  \\\n",
       "0      Boulevard of Broken Dreams               73            262333   \n",
       "1                      In The End               66            216933   \n",
       "2               Seven Nation Army               76            231733   \n",
       "3                      By The Way               74            216933   \n",
       "4               How You Remind Me               56            223826   \n",
       "...                           ...              ...               ...   \n",
       "18830              Let It Breathe               60            159645   \n",
       "18831                     Answers               60            205666   \n",
       "18832      Sudden Love (Acoustic)               23            182211   \n",
       "18833           Gentle on My Mind               55            352280   \n",
       "18834                    Up to Me               60            193533   \n",
       "\n",
       "       acousticness  danceability  energy  instrumentalness  key  liveness  \\\n",
       "0          0.005520         0.496   0.682          0.000029    8    0.0589   \n",
       "1          0.010300         0.542   0.853          0.000000    3    0.1080   \n",
       "2          0.008170         0.737   0.463          0.447000    0    0.2550   \n",
       "3          0.026400         0.451   0.970          0.003550    0    0.1020   \n",
       "4          0.000954         0.447   0.766          0.000000   10    0.1130   \n",
       "...             ...           ...     ...               ...  ...       ...   \n",
       "18830      0.893000         0.500   0.151          0.000065   11    0.1110   \n",
       "18831      0.765000         0.495   0.161          0.000001   11    0.1050   \n",
       "18832      0.847000         0.719   0.325          0.000000    0    0.1250   \n",
       "18833      0.945000         0.488   0.326          0.015700    3    0.1190   \n",
       "18834      0.911000         0.640   0.381          0.000254    4    0.1040   \n",
       "\n",
       "       loudness  audio_mode  speechiness    tempo  time_signature  \\\n",
       "0        -4.095           1       0.0294  167.060               4   \n",
       "1        -6.407           0       0.0498  105.256               4   \n",
       "2        -7.828           1       0.0792  123.881               4   \n",
       "3        -4.938           1       0.1070  122.444               4   \n",
       "4        -5.065           1       0.0313  172.011               4   \n",
       "...         ...         ...          ...      ...             ...   \n",
       "18830   -16.107           1       0.0348  113.969               4   \n",
       "18831   -14.078           0       0.0301   94.286               4   \n",
       "18832   -12.222           1       0.0355  130.534               4   \n",
       "18833   -12.020           1       0.0328  106.063               4   \n",
       "18834   -11.790           1       0.0302   91.490               4   \n",
       "\n",
       "       audio_valence  \n",
       "0              0.474  \n",
       "1              0.370  \n",
       "2              0.324  \n",
       "3              0.198  \n",
       "4              0.574  \n",
       "...              ...  \n",
       "18830          0.300  \n",
       "18831          0.265  \n",
       "18832          0.286  \n",
       "18833          0.323  \n",
       "18834          0.581  \n",
       "\n",
       "[18835 rows x 15 columns]"
      ]
     },
     "execution_count": 4,
     "metadata": {},
     "output_type": "execute_result"
    }
   ],
   "source": [
    "data_raw"
   ]
  },
  {
   "cell_type": "markdown",
   "metadata": {
    "deletable": false,
    "editable": false,
    "nbgrader": {
     "cell_type": "markdown",
     "checksum": "259b1996ba814aa7965df0bbe95939d5",
     "grade": false,
     "grade_id": "cell-8459bb716b15ffd0",
     "locked": true,
     "schema_version": 3,
     "solution": false,
     "task": false
    }
   },
   "source": [
    "## 2. Limpieza y preparación de los datos\n",
    "\n",
    "Utilizaremos una nueva variable `data` para verificar que el conjunto no contiene errores, además de realizar las modificaciones necesarias al conjunto de datos."
   ]
  },
  {
   "cell_type": "code",
   "execution_count": 5,
   "metadata": {
    "deletable": false,
    "editable": false,
    "nbgrader": {
     "cell_type": "code",
     "checksum": "17fb95ef0ad4f5f10920c88414dca8d9",
     "grade": false,
     "grade_id": "cell-26c73fc7592f815a",
     "locked": true,
     "schema_version": 3,
     "solution": false,
     "task": false
    }
   },
   "outputs": [],
   "source": [
    "data = data_raw.copy()"
   ]
  },
  {
   "cell_type": "markdown",
   "metadata": {
    "deletable": false,
    "editable": false,
    "nbgrader": {
     "cell_type": "markdown",
     "checksum": "0fc7fc831e06c10a471bc7a8bdf0d5e4",
     "grade": false,
     "grade_id": "cell-aad037409fa92c43",
     "locked": true,
     "schema_version": 3,
     "solution": false,
     "task": false
    }
   },
   "source": [
    "### Ejercicio 2.1.\n",
    "\n",
    "Utiliza Pandas para obtener la cantidad de datos faltantes por variable.\n",
    "\n",
    "* Define una variable con el nombre `p21` y asígnale las operaciones correspondientes para obtener la lista de datos faltantes. (`p21 = <<Operaciones>>`)\n",
    "* La respuesta debe ser un arreglo con los datos faltantes por variable. Este arreglo es resultado de aplicar dos funciones a la variable `data`. (**Ejemplo: `p21 = data.<<Función1>>.<<Función2>>`**)\n",
    "* Encontrarás una línea solo con el nombre de la variable. Esta línea se usa para que puedas visualizar tu respuesta, por lo que siempre debe ir al final y no la debes modificar."
   ]
  },
  {
   "cell_type": "code",
   "execution_count": 6,
   "metadata": {
    "deletable": false,
    "nbgrader": {
     "cell_type": "code",
     "checksum": "6c81b2fc9d69afcbb56f1b47a28df9f3",
     "grade": false,
     "grade_id": "E21",
     "locked": false,
     "schema_version": 3,
     "solution": true,
     "task": false
    }
   },
   "outputs": [],
   "source": [
    "# your code here\n",
    "\n",
    "p21 = data.isna().sum()"
   ]
  },
  {
   "cell_type": "code",
   "execution_count": 7,
   "metadata": {
    "deletable": false,
    "editable": false,
    "nbgrader": {
     "cell_type": "code",
     "checksum": "708303b54872f98443d4cc665682ebab",
     "grade": true,
     "grade_id": "E21-tests",
     "locked": true,
     "points": 1,
     "schema_version": 3,
     "solution": false,
     "task": false
    }
   },
   "outputs": [
    {
     "name": "stdout",
     "output_type": "stream",
     "text": [
      "¡Las dimensiones son correctas!\n"
     ]
    }
   ],
   "source": [
    "#---------- Celda de Pruebas ----------\n",
    "# La variable \"p21\" existe\n",
    "# El resultado es una Serie de Pandas\n",
    "# El resultado tiene las dimensiones correctas\n",
    "#--------------------------------------\n",
    "\n",
    "# Se verifica que la variable está definida\n",
    "assert p21 is not None, \"Asegúrate de definir la variable correctamente.\"\n",
    "\n",
    "# Se verifica que sea una Serie de Pandas\n",
    "assert isinstance(p21, pd.Series), \"El resultado debe ser una Serie de Pandas.\"\n",
    "\n",
    "# Se verifican las dimensiones de la respuesta\n",
    "assert p21.shape == (15,), \"Utiliza una función de Pandas para obtener los datos faltantes, y luego usa otra función para sumarlos.\"\n",
    "print(\"¡Las dimensiones son correctas!\")"
   ]
  },
  {
   "cell_type": "markdown",
   "metadata": {
    "deletable": false,
    "editable": false,
    "nbgrader": {
     "cell_type": "markdown",
     "checksum": "5a44e935b1c824320ebe9233f0beb12b",
     "grade": false,
     "grade_id": "cell-42f04ef6fcd201bd",
     "locked": true,
     "schema_version": 3,
     "solution": false,
     "task": false
    }
   },
   "source": [
    "### Ejercicio 2.2.\n",
    "\n",
    "Similar al ejercicio anterior, utiliza Pandas para obtener la cantidad de filas duplicadas.\n",
    "\n",
    "* Define una variable con el nombre `p22` y asígnale las operaciones correspondientes para obtener el número de filas duplicadas (`p22 = <<Operaciones>>`).\n",
    "* La respuesta debe ser un número entero con la cantidad de datos (filas) duplicados. Este número es resultado de aplicar dos funciones consecutivas a la variable `data`. (**Ejemplo: `p22 = data.<<Función1>>.<<Función2>>`**)\n",
    "* Encontrarás una línea solo con el nombre de la variable. Esta línea se usa para que puedas visualizar tu respuesta, por lo que siempre debe ir al final y no la debes modificar."
   ]
  },
  {
   "cell_type": "code",
   "execution_count": 8,
   "metadata": {
    "deletable": false,
    "nbgrader": {
     "cell_type": "code",
     "checksum": "819e014d9bf2ca8d4b16203a7fcc41c3",
     "grade": false,
     "grade_id": "E22",
     "locked": false,
     "schema_version": 3,
     "solution": true,
     "task": false
    }
   },
   "outputs": [],
   "source": [
    "# your code here\n",
    "\n",
    "p22 = data.duplicated().sum()"
   ]
  },
  {
   "cell_type": "code",
   "execution_count": 9,
   "metadata": {
    "deletable": false,
    "editable": false,
    "nbgrader": {
     "cell_type": "code",
     "checksum": "f3ea42b39addf62e9f1f13a96502c488",
     "grade": true,
     "grade_id": "E22-tests",
     "locked": true,
     "points": 1,
     "schema_version": 3,
     "solution": false,
     "task": false
    }
   },
   "outputs": [
    {
     "name": "stdout",
     "output_type": "stream",
     "text": [
      "¡El tipo y rango de la respuesta son correctos!\n"
     ]
    }
   ],
   "source": [
    "#---------- Celda de Pruebas ----------\n",
    "# La variable \"p22\" existe\n",
    "# El resultado es un número entero\n",
    "# El resultado está en el rango [0,18835]\n",
    "#--------------------------------------\n",
    "\n",
    "# Se verifica que la variable está definida\n",
    "assert p22 is not None, \"Asegúrate de definir la variable correctamente.\"\n",
    "\n",
    "# Se evalúa el tipo de dato\n",
    "assert type(p22) == np.int64 or type(p22) == int, \"Recuerda que tu respuesta debe ser un número entero.\"\n",
    "\n",
    "# Se evalúa el rango de respuesta\n",
    "assert (p22 >= 0 and p22 <= 18835), \"El número de filas duplicadas debe ser positivo y menor al total de filas\"\n",
    "print(\"¡El tipo y rango de la respuesta son correctos!\")"
   ]
  },
  {
   "cell_type": "markdown",
   "metadata": {
    "deletable": false,
    "editable": false,
    "nbgrader": {
     "cell_type": "markdown",
     "checksum": "be364017bc9b715635cf9ed282cf8a7f",
     "grade": false,
     "grade_id": "cell-a5133db5701aa420",
     "locked": true,
     "schema_version": 3,
     "solution": false,
     "task": false
    }
   },
   "source": [
    "Es conveniente eliminar los datos duplicados, por lo que utilizaremos la función `drop_duplicates()`:"
   ]
  },
  {
   "cell_type": "code",
   "execution_count": 10,
   "metadata": {
    "deletable": false,
    "editable": false,
    "nbgrader": {
     "cell_type": "code",
     "checksum": "989017a7cc58e4291cca55267c627efe",
     "grade": false,
     "grade_id": "cell-23ae3be0bb7e8e9b",
     "locked": true,
     "schema_version": 3,
     "solution": false,
     "task": false
    }
   },
   "outputs": [],
   "source": [
    "data = data.drop_duplicates()"
   ]
  },
  {
   "cell_type": "markdown",
   "metadata": {
    "deletable": false,
    "editable": false,
    "nbgrader": {
     "cell_type": "markdown",
     "checksum": "564964ac358052de6df89547d29ed6f3",
     "grade": false,
     "grade_id": "cell-1966bf4cb704c734",
     "locked": true,
     "schema_version": 3,
     "solution": false,
     "task": false
    }
   },
   "source": [
    "Después de la limpieza de datos, puedes crear una celda para verificar el tamaño del conjunto resultante."
   ]
  },
  {
   "cell_type": "markdown",
   "metadata": {
    "deletable": false,
    "editable": false,
    "nbgrader": {
     "cell_type": "markdown",
     "checksum": "40553c9767982c6a3e4161c2d3745f34",
     "grade": false,
     "grade_id": "cell-5092906d3652663c",
     "locked": true,
     "schema_version": 3,
     "solution": false,
     "task": false
    }
   },
   "source": [
    "### Ejercicio 2.3.\n",
    "\n",
    "Teniendo en cuenta que queremos predecir la popularidad de una canción dadas sus características acústicas, vamos a eliminar una variable que no es muy relevante: el nombre. Adicionalmente, vamos a eliminar las variables categóricas del conjunto, lo que nos ayudará con la agrupación. A continuación, utiliza Pandas para eliminar las columnas definidas en la variable `dropped_columns`.\n",
    "\n",
    "* Para este punto no debes definir una nueva variable, sino asignar tu respuesta a la variable `data`. (**Ejemplo: `data = data.<<Función>>`**)"
   ]
  },
  {
   "cell_type": "code",
   "execution_count": 11,
   "metadata": {
    "deletable": false,
    "nbgrader": {
     "cell_type": "code",
     "checksum": "bf6425edf6ea46eebae7cfa3a6e5f910",
     "grade": false,
     "grade_id": "E23",
     "locked": false,
     "schema_version": 3,
     "solution": true,
     "task": false
    }
   },
   "outputs": [],
   "source": [
    "dropped_columns = ['song_name', 'key', 'time_signature', 'audio_mode']\n",
    "# your code here\n",
    "data = data.drop(columns=dropped_columns)"
   ]
  },
  {
   "cell_type": "code",
   "execution_count": 12,
   "metadata": {
    "deletable": false,
    "editable": false,
    "nbgrader": {
     "cell_type": "code",
     "checksum": "601bd6cdb1ad62b1b4161db1612c7bab",
     "grade": true,
     "grade_id": "E23-tests",
     "locked": true,
     "points": 1,
     "schema_version": 3,
     "solution": false,
     "task": false
    }
   },
   "outputs": [
    {
     "name": "stdout",
     "output_type": "stream",
     "text": [
      "¡La variable tiene las dimensiones correctas!\n"
     ]
    }
   ],
   "source": [
    "#---------- Celda de Pruebas ----------\n",
    "# La variable \"data\" existe\n",
    "# El resultado es un DataFrame\n",
    "# El resultado tiene las dimensiones correctas\n",
    "# El resultado no contiene las variables en \"dropped_columns\"\n",
    "#--------------------------------------\n",
    "\n",
    "# Se verifica que la variable está definida\n",
    "assert data is not None, \"Asegúrate de definir la variable correctamente.\"\n",
    "\n",
    "# Se verifica que sea un DataFrame\n",
    "assert isinstance(data, pd.DataFrame), \"El resultado debe ser un DataFrame.\"\n",
    "\n",
    "# Se evalúan las dimensiones de la variable data\n",
    "assert data.shape == (14926,11), \"¿Verificaste que el nombre de la variable es correcto y que la función utilizada es correcta?\"\n",
    "\n",
    "# Se verifica que las variables eliminadas son correctas\n",
    "assert \"song_name\" not in data.columns, \"Recuerda que debes eliminar la columna \\'song_name\\'.\"\n",
    "assert \"key\" not in data.columns, \"Recuerda que debes eliminar la columna \\'key\\'.\"\n",
    "assert \"time_signature\" not in data.columns, \"Recuerda que debes eliminar la columna \\'time_signature\\'.\"\n",
    "assert \"audio_mode\" not in data.columns, \"Recuerda que debes eliminar la columna \\'audio_mode\\'.\"\n",
    "\n",
    "print(\"¡La variable tiene las dimensiones correctas!\")"
   ]
  },
  {
   "cell_type": "markdown",
   "metadata": {
    "deletable": false,
    "editable": false,
    "nbgrader": {
     "cell_type": "markdown",
     "checksum": "aedf926000435adb7e238dc6361560df",
     "grade": false,
     "grade_id": "cell-f9426e6a8f539065",
     "locked": true,
     "schema_version": 3,
     "solution": false,
     "task": false
    }
   },
   "source": [
    "Finalmente definiremos un objeto de la clase `StandardScaler()`, que utilizarás para realizar la estandarización:"
   ]
  },
  {
   "cell_type": "code",
   "execution_count": 13,
   "metadata": {
    "deletable": false,
    "editable": false,
    "nbgrader": {
     "cell_type": "code",
     "checksum": "99cbe18827306191e3e6858ab1d1cabd",
     "grade": false,
     "grade_id": "cell-c773544ceace3f16",
     "locked": true,
     "schema_version": 3,
     "solution": false,
     "task": false
    }
   },
   "outputs": [],
   "source": [
    "scaler = StandardScaler()"
   ]
  },
  {
   "cell_type": "markdown",
   "metadata": {
    "deletable": false,
    "editable": false,
    "nbgrader": {
     "cell_type": "markdown",
     "checksum": "beff7c9efbd85544e0e0abc54004fc52",
     "grade": false,
     "grade_id": "cell-5c0ab9ccd6721329",
     "locked": true,
     "schema_version": 3,
     "solution": false,
     "task": false
    }
   },
   "source": [
    "## 3. Selección del hiperparámetro K\n",
    "\n",
    "Inicialmente crearemos un objeto de la clase `KMeans` para ejecutar el algoritmo de agrupación, especificando un máximo de iteraciones con el parámetro `max_iter` y la semilla con el parámetro `random_state`:"
   ]
  },
  {
   "cell_type": "code",
   "execution_count": 14,
   "metadata": {
    "deletable": false,
    "editable": false,
    "nbgrader": {
     "cell_type": "code",
     "checksum": "42c8ad22f262f0060ff763f57da525e1",
     "grade": false,
     "grade_id": "cell-dddd9fb1b9458c93",
     "locked": true,
     "schema_version": 3,
     "solution": false,
     "task": false
    }
   },
   "outputs": [],
   "source": [
    "kmeans = KMeans(max_iter=300, random_state=0)"
   ]
  },
  {
   "cell_type": "markdown",
   "metadata": {
    "deletable": false,
    "editable": false,
    "nbgrader": {
     "cell_type": "markdown",
     "checksum": "99943e78f1cc483558813b80d59ddc1e",
     "grade": false,
     "grade_id": "cell-829bd095a11cbd09",
     "locked": true,
     "schema_version": 3,
     "solution": false,
     "task": false
    }
   },
   "source": [
    "### Ejercicio 3.1.\n",
    "\n",
    "Utiliza `scikit-learn` para construir un pipeline con los pasos de estandarización y ejecución del algoritmo KMeans.\n",
    "\n",
    "* Define una variable con el nombre `pipe` y asígnale la expresión necesaria para crear un pipeline con las variables `scaler` y `kmeans`. (**Ejemplo: `pipe = <<Expresión>>`**)\n",
    "* Los nombres de los pasos deben ser `\"scaler\"` para la variable `scaler` y `\"model\"` para la variable `kmeans`."
   ]
  },
  {
   "cell_type": "code",
   "execution_count": 21,
   "metadata": {
    "deletable": false,
    "nbgrader": {
     "cell_type": "code",
     "checksum": "88b1b4c6c196af2c4c3e8fa592efce0d",
     "grade": false,
     "grade_id": "E31",
     "locked": false,
     "schema_version": 3,
     "solution": true,
     "task": false
    }
   },
   "outputs": [],
   "source": [
    "# your code here\n",
    "pipe = Pipeline(steps=[(\"scaler\", scaler), (\"model\", kmeans)])"
   ]
  },
  {
   "cell_type": "code",
   "execution_count": 22,
   "metadata": {
    "deletable": false,
    "editable": false,
    "nbgrader": {
     "cell_type": "code",
     "checksum": "4f9e6fea8de24d16c33f8e0ea36f5784",
     "grade": true,
     "grade_id": "E31-tests",
     "locked": true,
     "points": 1,
     "schema_version": 3,
     "solution": false,
     "task": false
    }
   },
   "outputs": [
    {
     "name": "stdout",
     "output_type": "stream",
     "text": [
      "¡El pipeline está definido correctamente!\n"
     ]
    }
   ],
   "source": [
    "#---------- Celda de Pruebas ----------\n",
    "# La variable \"pipe\" existe\n",
    "# La variable \"pipe\" es una instancia de la clase Pipeline\n",
    "#--------------------------------------\n",
    "\n",
    "# Se verifica que la variable está definida\n",
    "assert pipe is not None, \"Asegúrate de definir la variable correctamente.\"\n",
    "\n",
    "# Se verifica que sea una instancia de la clase Pipeline\n",
    "assert isinstance(pipe, Pipeline), \"El resultado debe ser una instancia de la clase Pipeline.\"\n",
    "\n",
    "print(\"¡El pipeline está definido correctamente!\")"
   ]
  },
  {
   "cell_type": "markdown",
   "metadata": {
    "deletable": false,
    "editable": false,
    "nbgrader": {
     "cell_type": "markdown",
     "checksum": "12ad037927865b2b05bc5171334a6a8e",
     "grade": false,
     "grade_id": "cell-26eda0aae0c64b6a",
     "locked": true,
     "schema_version": 3,
     "solution": false,
     "task": false
    }
   },
   "source": [
    "A continuación definiremos la función `elbow_plot()`, que ejecutará KMeans con cada valor de _k_ definido por el rango `[k_min, k_max]`, generando una gráfica con los valores de inercia:"
   ]
  },
  {
   "cell_type": "code",
   "execution_count": 23,
   "metadata": {
    "deletable": false,
    "editable": false,
    "nbgrader": {
     "cell_type": "code",
     "checksum": "662298a3dc9922edb1056e5a877a0f98",
     "grade": false,
     "grade_id": "cell-99c76bd8a450ff42",
     "locked": true,
     "schema_version": 3,
     "solution": false,
     "task": false
    }
   },
   "outputs": [],
   "source": [
    "def elbow_plot(data, k_min=2, k_max=10):\n",
    "    \"\"\"\n",
    "    Genera la gráfica para el método del codo\n",
    "    \n",
    "    Parametros:\n",
    "    data : np.array\n",
    "        El arreglo con los datos\n",
    "    k_min : int\n",
    "        Valor mínimo para k\n",
    "    k_max : int\n",
    "        Valor máximo para k\n",
    "    \"\"\"\n",
    "    inertias = []\n",
    "    for i in range(k_min, k_max+1):\n",
    "        # Modificamos el parámetro k\n",
    "        pipe.set_params(model__n_clusters=i)\n",
    "        # Ejecutamos el pipeline, entrenando el modelo de KMeans\n",
    "        pipe.fit(data)\n",
    "        # Almacenamos el valor de inercia\n",
    "        inertias.append(pipe['model'].inertia_)\n",
    "    \n",
    "    # Graficamos los valores de inercia\n",
    "    plt.plot(range(k_min,k_max+1), inertias, marker='o')\n",
    "    plt.xlabel('Número de clusters')\n",
    "    plt.ylabel('Inercia')\n",
    "    plt.grid()\n",
    "    plt.show()"
   ]
  },
  {
   "cell_type": "markdown",
   "metadata": {
    "deletable": false,
    "editable": false,
    "nbgrader": {
     "cell_type": "markdown",
     "checksum": "644d29f7e87dc5b97baf70def7dfb2db",
     "grade": false,
     "grade_id": "cell-878f46c4a30f734c",
     "locked": true,
     "schema_version": 3,
     "solution": false,
     "task": false
    }
   },
   "source": [
    "Con la función construida, veremos el comportamiento para este conjunto de datos:"
   ]
  },
  {
   "cell_type": "code",
   "execution_count": 24,
   "metadata": {
    "deletable": false,
    "editable": false,
    "nbgrader": {
     "cell_type": "code",
     "checksum": "df7a76353ed2c4a10eb217025aa15b70",
     "grade": false,
     "grade_id": "cell-1c13b0649e2687f2",
     "locked": true,
     "schema_version": 3,
     "solution": false,
     "task": false
    }
   },
   "outputs": [
    {
     "data": {
      "image/png": "[encoded data removed]",
      "text/plain": [
       "<Figure size 432x288 with 1 Axes>"
      ]
     },
     "metadata": {
      "needs_background": "light"
     },
     "output_type": "display_data"
    }
   ],
   "source": [
    "elbow_plot(data, 2, 15)"
   ]
  },
  {
   "cell_type": "markdown",
   "metadata": {
    "deletable": false,
    "editable": false,
    "nbgrader": {
     "cell_type": "markdown",
     "checksum": "ca951e468394af0b908d54786c183758",
     "grade": false,
     "grade_id": "cell-fc9d406036a3def3",
     "locked": true,
     "schema_version": 3,
     "solution": false,
     "task": false
    }
   },
   "source": [
    "Igualmente, definiremos la función `silhouette_plot()` para obtener el valor promedio del coeficiente de la silueta para cada valor de _k_:"
   ]
  },
  {
   "cell_type": "code",
   "execution_count": 25,
   "metadata": {
    "deletable": false,
    "editable": false,
    "nbgrader": {
     "cell_type": "code",
     "checksum": "b45c1dbd749c35c05e9f3a0c3fa6b60e",
     "grade": false,
     "grade_id": "cell-a1dcc29d807fd581",
     "locked": true,
     "schema_version": 3,
     "solution": false,
     "task": false
    }
   },
   "outputs": [],
   "source": [
    "def silhouette_plot(data, k_min=2, k_max=5):\n",
    "    \"\"\"\n",
    "    Genera la gráfica con el coeficiente de la silueta\n",
    "    \n",
    "    Parametros:\n",
    "    data : np.array\n",
    "        El arreglo con los datos\n",
    "    k_min : int\n",
    "        Valor mínimo para k\n",
    "    k_max : int\n",
    "        Valor máximo para k\n",
    "    \"\"\"\n",
    "    scores = []\n",
    "    for i in range(k_min, k_max+1):\n",
    "        # Modificamos el parámetro k\n",
    "        pipe.set_params(model__n_clusters=i)\n",
    "        # Ejecutamos el pipeline, entrenando el modelo de KMeans\n",
    "        pipe.fit(data)\n",
    "        # Procesamos los datos\n",
    "        scaler_data = scaler.fit_transform(data)\n",
    "        # Almacenamos el coeficiente de la silueta\n",
    "        score = silhouette_score(scaler_data, pipe['model'].labels_)\n",
    "        scores.append(score)\n",
    "    \n",
    "    # Graficamos los coeficientes de la silueta\n",
    "    plt.plot(range(k_min,k_max+1), scores, marker='o')\n",
    "    plt.xlabel('Número de clusters')\n",
    "    plt.ylabel('Silhouette Score')\n",
    "    plt.grid()\n",
    "    plt.show()"
   ]
  },
  {
   "cell_type": "markdown",
   "metadata": {
    "deletable": false,
    "editable": false,
    "nbgrader": {
     "cell_type": "markdown",
     "checksum": "1bade25cff9859149fa9b3a4a148f107",
     "grade": false,
     "grade_id": "cell-22f60662c236a5c9",
     "locked": true,
     "schema_version": 3,
     "solution": false,
     "task": false
    }
   },
   "source": [
    "Con la función para el método de la silueta, veremos el comportamiento:"
   ]
  },
  {
   "cell_type": "code",
   "execution_count": 26,
   "metadata": {
    "deletable": false,
    "editable": false,
    "nbgrader": {
     "cell_type": "code",
     "checksum": "16f7b01a493ba53c39bdfb8caa0743b1",
     "grade": false,
     "grade_id": "cell-1f9a95923964a47b",
     "locked": true,
     "schema_version": 3,
     "solution": false,
     "task": false
    }
   },
   "outputs": [
    {
     "data": {
      "image/png": "[encoded data removed]",
      "text/plain": [
       "<Figure size 432x288 with 1 Axes>"
      ]
     },
     "metadata": {
      "needs_background": "light"
     },
     "output_type": "display_data"
    }
   ],
   "source": [
    "silhouette_plot(data, 2, 6)"
   ]
  },
  {
   "cell_type": "markdown",
   "metadata": {
    "deletable": false,
    "editable": false,
    "nbgrader": {
     "cell_type": "markdown",
     "checksum": "7592cce3552a7fe1c11c35585d723400",
     "grade": false,
     "grade_id": "cell-2643a9152c52dd6b",
     "locked": true,
     "schema_version": 3,
     "solution": false,
     "task": false
    }
   },
   "source": [
    "### Ejercicio 3.2.\n",
    "\n",
    "Con las gráficas generadas, utiliza el método del codo y el método de la silueta para seleccionar el mejor _k_.\n",
    "\n",
    "* Define una variable con el nombre `mejor_k` y asígnale el mejor valor de K. (**Ejemplo: `mejor_k = 10`**)\n",
    "* Encontrarás una línea solo con el nombre de la variable. Esta línea se usa para que puedas visualizar tu respuesta, por lo que siempre debe ir al final y no la debes modificar."
   ]
  },
  {
   "cell_type": "code",
   "execution_count": 27,
   "metadata": {
    "deletable": false,
    "nbgrader": {
     "cell_type": "code",
     "checksum": "c759a29644a027c3d19d930b0e6ab2b7",
     "grade": false,
     "grade_id": "E32",
     "locked": false,
     "schema_version": 3,
     "solution": true,
     "task": false
    }
   },
   "outputs": [],
   "source": [
    "# your code here\n",
    "\n",
    "mejor_k = 2"
   ]
  },
  {
   "cell_type": "code",
   "execution_count": 28,
   "metadata": {
    "deletable": false,
    "editable": false,
    "nbgrader": {
     "cell_type": "code",
     "checksum": "e7190075788d808ea2308ac0100e573a",
     "grade": true,
     "grade_id": "E32-tests",
     "locked": true,
     "points": 1,
     "schema_version": 3,
     "solution": false,
     "task": false
    }
   },
   "outputs": [
    {
     "name": "stdout",
     "output_type": "stream",
     "text": [
      "¡El tipo y valor de K son correctos!\n"
     ]
    }
   ],
   "source": [
    "#---------- Celda de Pruebas ----------\n",
    "# La variable \"mejor_k\" existe\n",
    "# La variable es un número entero\n",
    "# La variable se encuentra en el rango [2,15]\n",
    "#--------------------------------------\n",
    "# Se verifica que la variable está definida\n",
    "assert mejor_k is not None, \"Asegúrate de definir la variable correctamente.\"\n",
    "\n",
    "# Se evalúa el tipo de dato\n",
    "assert type(mejor_k) == int or type(mejor_k) == np.int64, \"Recuerda que tu respuesta debe ser un número entero.\"\n",
    "\n",
    "# Se evalúa el rango de respuesta\n",
    "assert (mejor_k >= 2 and mejor_k <= 15), \"Verifica los límites de la variable, que corresponden a los límites usados en el llamado a la función elbow_plot().\"\n",
    "print(\"¡El tipo y valor de K son correctos!\")"
   ]
  },
  {
   "cell_type": "markdown",
   "metadata": {
    "deletable": false,
    "editable": false,
    "nbgrader": {
     "cell_type": "markdown",
     "checksum": "a26bfb2e9377813beac78aa331b50d7d",
     "grade": false,
     "grade_id": "cell-645c032d496cd09d",
     "locked": true,
     "schema_version": 3,
     "solution": false,
     "task": false
    }
   },
   "source": [
    "## 4. Interpretación de los grupos resultantes del mejor modelo\n",
    "\n",
    "Con el mejor valor de K, primero ejecutaremos el algoritmo de KMeans:"
   ]
  },
  {
   "cell_type": "code",
   "execution_count": 29,
   "metadata": {
    "deletable": false,
    "editable": false,
    "nbgrader": {
     "cell_type": "code",
     "checksum": "70cfa72b1185cb759e009315058aa500",
     "grade": false,
     "grade_id": "cell-035d662159a6fa05",
     "locked": true,
     "schema_version": 3,
     "solution": false,
     "task": false
    }
   },
   "outputs": [
    {
     "data": {
      "text/plain": [
       "Pipeline(memory=None,\n",
       "         steps=[('scaler',\n",
       "                 StandardScaler(copy=True, with_mean=True, with_std=True)),\n",
       "                ('model',\n",
       "                 KMeans(algorithm='auto', copy_x=True, init='k-means++',\n",
       "                        max_iter=300, n_clusters=3, n_init=10, n_jobs=None,\n",
       "                        precompute_distances='auto', random_state=0, tol=0.0001,\n",
       "                        verbose=0))],\n",
       "         verbose=False)"
      ]
     },
     "execution_count": 29,
     "metadata": {},
     "output_type": "execute_result"
    }
   ],
   "source": [
    "pipe.set_params(model__n_clusters=mejor_k)\n",
    "pipe.fit(data)"
   ]
  },
  {
   "cell_type": "markdown",
   "metadata": {
    "deletable": false,
    "editable": false,
    "nbgrader": {
     "cell_type": "markdown",
     "checksum": "55fa2112b032433e9aa7e4b257594008",
     "grade": false,
     "grade_id": "cell-e7d7791cdbea338e",
     "locked": true,
     "schema_version": 3,
     "solution": false,
     "task": false
    }
   },
   "source": [
    "### Ejercicio 4.1.\n",
    "\n",
    "Utilizando el modelo entrenado con el mejor valor de K, obtén la lista de etiquetas del grupo al que pertenece cada dato.\n",
    "\n",
    "* Define una variable con el nombre `labels` y, utilizando la variable `pipe`, asígnale la lista de etiquetas para el conjunto de datos. (**Ejemplo: `labels = pipe<<Expresión>>`**)\n",
    "* Encontrarás dos líneas al final de la celda para obtener el número de datos por grupo. Estas líneas se usan para que puedas visualizar tu respuesta, por lo que siempre deben ir al final y no las debes modificar."
   ]
  },
  {
   "cell_type": "code",
   "execution_count": 30,
   "metadata": {
    "deletable": false,
    "nbgrader": {
     "cell_type": "code",
     "checksum": "35ef347a8b63028879dae7af532debdb",
     "grade": false,
     "grade_id": "E41",
     "locked": false,
     "schema_version": 3,
     "solution": true,
     "task": false
    }
   },
   "outputs": [
    {
     "data": {
      "text/plain": [
       "{0: 7060, 1: 3031, 2: 4835}"
      ]
     },
     "execution_count": 30,
     "metadata": {},
     "output_type": "execute_result"
    }
   ],
   "source": [
    "# your code here\n",
    "labels = pipe['model'].labels_\n",
    "indexes, values = np.unique(labels, return_counts=True)\n",
    "{indexes[i]: values[i] for i in range(len(indexes))}"
   ]
  },
  {
   "cell_type": "code",
   "execution_count": 31,
   "metadata": {
    "deletable": false,
    "editable": false,
    "nbgrader": {
     "cell_type": "code",
     "checksum": "4b57e6d92bb6f8772642afd7df1dd553",
     "grade": true,
     "grade_id": "E41-tests",
     "locked": true,
     "points": 1,
     "schema_version": 3,
     "solution": false,
     "task": false
    }
   },
   "outputs": [
    {
     "name": "stdout",
     "output_type": "stream",
     "text": [
      "¡El tipo y longitud del arreglo de etiquetas son correctos!\n"
     ]
    }
   ],
   "source": [
    "#---------- Celda de Pruebas ----------\n",
    "# La variable \"labels\" existe\n",
    "# La variable es un arreglo de numpy\n",
    "# La variable tiene longitud igual al conjunto de datos\n",
    "#--------------------------------------\n",
    "# Se verifica que la variable está definida\n",
    "assert labels is not None, \"Asegúrate de definir la variable correctamente.\"\n",
    "\n",
    "# Se evalúa el tipo de dato\n",
    "assert type(labels) == np.ndarray, \"Recuerda que tu respuesta debe ser un arreglo de numpy.\"\n",
    "\n",
    "# El arreglo tiene la longitud correcta\n",
    "assert len(labels) == 14926, \"El arreglo debe tener longitud igual al número de datos del conjunto.\"\n",
    "print(\"¡El tipo y longitud del arreglo de etiquetas son correctos!\")"
   ]
  },
  {
   "cell_type": "markdown",
   "metadata": {
    "deletable": false,
    "editable": false,
    "nbgrader": {
     "cell_type": "markdown",
     "checksum": "d51df5b9184eb39548b629479dc4c2ab",
     "grade": false,
     "grade_id": "cell-96f750121c89e82d",
     "locked": true,
     "schema_version": 3,
     "solution": false,
     "task": false
    }
   },
   "source": [
    "### Ejercicio 4.2.\n",
    "\n",
    "Similar al ejercicio anterior, obtén la lista de centroides de cada grupo generado.\n",
    "\n",
    "* Define una variable con el nombre `centroids_array` y, utilizando la variable `pipe`, asígnale la lista de centroides generados. (**Ejemplo: `centroids_array = pipe<<Expresión>>`**)\n",
    "* Encontrarás dos líneas al final de la celda para convertir la lista de centroides a un DataFrame. Estas líneas se usan para que puedas visualizar tu respuesta, por lo que siempre deben ir al final y no las debes modificar."
   ]
  },
  {
   "cell_type": "code",
   "execution_count": 32,
   "metadata": {
    "deletable": false,
    "nbgrader": {
     "cell_type": "code",
     "checksum": "b2c1dbf60e19c5d4f7ad3022e0737c38",
     "grade": false,
     "grade_id": "E42",
     "locked": false,
     "schema_version": 3,
     "solution": true,
     "task": false
    }
   },
   "outputs": [
    {
     "data": {
      "text/html": [
       "<div>\n",
       "<style scoped>\n",
       "    .dataframe tbody tr th:only-of-type {\n",
       "        vertical-align: middle;\n",
       "    }\n",
       "\n",
       "    .dataframe tbody tr th {\n",
       "        vertical-align: top;\n",
       "    }\n",
       "\n",
       "    .dataframe thead th {\n",
       "        text-align: right;\n",
       "    }\n",
       "</style>\n",
       "<table border=\"1\" class=\"dataframe\">\n",
       "  <thead>\n",
       "    <tr style=\"text-align: right;\">\n",
       "      <th></th>\n",
       "      <th>song_popularity</th>\n",
       "      <th>song_duration_ms</th>\n",
       "      <th>acousticness</th>\n",
       "      <th>danceability</th>\n",
       "      <th>energy</th>\n",
       "      <th>instrumentalness</th>\n",
       "      <th>liveness</th>\n",
       "      <th>loudness</th>\n",
       "      <th>speechiness</th>\n",
       "      <th>tempo</th>\n",
       "      <th>audio_valence</th>\n",
       "    </tr>\n",
       "  </thead>\n",
       "  <tbody>\n",
       "    <tr>\n",
       "      <th>0</th>\n",
       "      <td>0.192028</td>\n",
       "      <td>-0.097064</td>\n",
       "      <td>-0.234879</td>\n",
       "      <td>0.651901</td>\n",
       "      <td>0.180336</td>\n",
       "      <td>-0.269545</td>\n",
       "      <td>-0.224988</td>\n",
       "      <td>0.242483</td>\n",
       "      <td>0.206370</td>\n",
       "      <td>-0.192471</td>\n",
       "      <td>0.473385</td>\n",
       "    </tr>\n",
       "    <tr>\n",
       "      <th>1</th>\n",
       "      <td>-0.079185</td>\n",
       "      <td>-0.184058</td>\n",
       "      <td>1.432823</td>\n",
       "      <td>-0.520634</td>\n",
       "      <td>-1.428901</td>\n",
       "      <td>0.579848</td>\n",
       "      <td>-0.229953</td>\n",
       "      <td>-1.269935</td>\n",
       "      <td>-0.317039</td>\n",
       "      <td>-0.318302</td>\n",
       "      <td>-0.647359</td>\n",
       "    </tr>\n",
       "    <tr>\n",
       "      <th>2</th>\n",
       "      <td>-0.230614</td>\n",
       "      <td>0.257059</td>\n",
       "      <td>-0.555530</td>\n",
       "      <td>-0.625012</td>\n",
       "      <td>0.632675</td>\n",
       "      <td>0.029849</td>\n",
       "      <td>0.472536</td>\n",
       "      <td>0.442307</td>\n",
       "      <td>-0.102419</td>\n",
       "      <td>0.480470</td>\n",
       "      <td>-0.285021</td>\n",
       "    </tr>\n",
       "  </tbody>\n",
       "</table>\n",
       "</div>"
      ],
      "text/plain": [
       "   song_popularity  song_duration_ms  acousticness  danceability    energy  \\\n",
       "0         0.192028         -0.097064     -0.234879      0.651901  0.180336   \n",
       "1        -0.079185         -0.184058      1.432823     -0.520634 -1.428901   \n",
       "2        -0.230614          0.257059     -0.555530     -0.625012  0.632675   \n",
       "\n",
       "   instrumentalness  liveness  loudness  speechiness     tempo  audio_valence  \n",
       "0         -0.269545 -0.224988  0.242483     0.206370 -0.192471       0.473385  \n",
       "1          0.579848 -0.229953 -1.269935    -0.317039 -0.318302      -0.647359  \n",
       "2          0.029849  0.472536  0.442307    -0.102419  0.480470      -0.285021  "
      ]
     },
     "execution_count": 32,
     "metadata": {},
     "output_type": "execute_result"
    }
   ],
   "source": [
    "# your code here\n",
    "centroids_array = pipe['model'].cluster_centers_\n",
    "centroids = pd.DataFrame(centroids_array, columns=data.columns)\n",
    "centroids"
   ]
  },
  {
   "cell_type": "code",
   "execution_count": 33,
   "metadata": {
    "deletable": false,
    "editable": false,
    "nbgrader": {
     "cell_type": "code",
     "checksum": "9c6f6d4c4065cc24b09cf17bea92bc53",
     "grade": true,
     "grade_id": "E42-tests",
     "locked": true,
     "points": 1,
     "schema_version": 3,
     "solution": false,
     "task": false
    }
   },
   "outputs": [
    {
     "name": "stdout",
     "output_type": "stream",
     "text": [
      "¡El tipo y dimensiones del arreglo son correctos!\n"
     ]
    }
   ],
   "source": [
    "#---------- Celda de Pruebas ----------\n",
    "# La variable \"centroids_array\" existe\n",
    "# La variable es un arreglo de numpy\n",
    "# La variable tiene dimensiones correctas\n",
    "#--------------------------------------\n",
    "# Se verifica que la variable está definida\n",
    "assert centroids_array is not None, \"Asegúrate de definir la variable correctamente.\"\n",
    "\n",
    "# Se evalúa el tipo de dato\n",
    "assert type(centroids_array) == np.ndarray, \"Recuerda que tu respuesta debe ser un arreglo de numpy.\"\n",
    "print(\"¡El tipo y dimensiones del arreglo son correctos!\")"
   ]
  },
  {
   "cell_type": "markdown",
   "metadata": {
    "deletable": false,
    "editable": false,
    "nbgrader": {
     "cell_type": "markdown",
     "checksum": "095735f0c1587a60a0ea995a0e6a3bf8",
     "grade": false,
     "grade_id": "cell-1eda2951ff2e9cb4",
     "locked": true,
     "schema_version": 3,
     "solution": false,
     "task": false
    }
   },
   "source": [
    "### Ejercicio 4.3.\n",
    "\n",
    "Finalmente, utiliza el objeto `scaler` para convertir los valores de los centroides a sus escalas originales.\n",
    "\n",
    "* Define una variable con el nombre `centroids_transformed` y, utilizando la variable `scaler` y los centroides `centroids`, transforma los valores de los centroides. (**Ejemplo: `centroids_transformed = scaler.<<Función>>`**)\n",
    "* Encontrarás dos líneas al final de la celda para convertir la lista de centroides a un DataFrame. Estas líneas se usan para que puedas visualizar tu respuesta, por lo que siempre deben ir al final y no las debes modificar."
   ]
  },
  {
   "cell_type": "code",
   "execution_count": 34,
   "metadata": {
    "deletable": false,
    "nbgrader": {
     "cell_type": "code",
     "checksum": "544d1bb2b1e1ac92098da38c35ee4c94",
     "grade": false,
     "grade_id": "E43",
     "locked": false,
     "schema_version": 3,
     "solution": true,
     "task": false
    }
   },
   "outputs": [
    {
     "data": {
      "text/html": [
       "<div>\n",
       "<style scoped>\n",
       "    .dataframe tbody tr th:only-of-type {\n",
       "        vertical-align: middle;\n",
       "    }\n",
       "\n",
       "    .dataframe tbody tr th {\n",
       "        vertical-align: top;\n",
       "    }\n",
       "\n",
       "    .dataframe thead th {\n",
       "        text-align: right;\n",
       "    }\n",
       "</style>\n",
       "<table border=\"1\" class=\"dataframe\">\n",
       "  <thead>\n",
       "    <tr style=\"text-align: right;\">\n",
       "      <th></th>\n",
       "      <th>song_popularity</th>\n",
       "      <th>song_duration_ms</th>\n",
       "      <th>acousticness</th>\n",
       "      <th>danceability</th>\n",
       "      <th>energy</th>\n",
       "      <th>instrumentalness</th>\n",
       "      <th>liveness</th>\n",
       "      <th>loudness</th>\n",
       "      <th>speechiness</th>\n",
       "      <th>tempo</th>\n",
       "      <th>audio_valence</th>\n",
       "    </tr>\n",
       "  </thead>\n",
       "  <tbody>\n",
       "    <tr>\n",
       "      <th>0</th>\n",
       "      <td>52.664211</td>\n",
       "      <td>212898.757155</td>\n",
       "      <td>0.200433</td>\n",
       "      <td>0.727563</td>\n",
       "      <td>0.679752</td>\n",
       "      <td>0.027257</td>\n",
       "      <td>0.147791</td>\n",
       "      <td>-6.702804</td>\n",
       "      <td>0.120787</td>\n",
       "      <td>115.514942</td>\n",
       "      <td>0.644249</td>\n",
       "    </tr>\n",
       "    <tr>\n",
       "      <th>1</th>\n",
       "      <td>47.137203</td>\n",
       "      <td>207475.659631</td>\n",
       "      <td>0.697587</td>\n",
       "      <td>0.542214</td>\n",
       "      <td>0.322906</td>\n",
       "      <td>0.231487</td>\n",
       "      <td>0.147070</td>\n",
       "      <td>-12.780510</td>\n",
       "      <td>0.066592</td>\n",
       "      <td>111.860336</td>\n",
       "      <td>0.366584</td>\n",
       "    </tr>\n",
       "    <tr>\n",
       "      <th>2</th>\n",
       "      <td>44.051282</td>\n",
       "      <td>234974.321960</td>\n",
       "      <td>0.104845</td>\n",
       "      <td>0.525715</td>\n",
       "      <td>0.780057</td>\n",
       "      <td>0.099244</td>\n",
       "      <td>0.248996</td>\n",
       "      <td>-5.899806</td>\n",
       "      <td>0.088814</td>\n",
       "      <td>135.059622</td>\n",
       "      <td>0.456354</td>\n",
       "    </tr>\n",
       "  </tbody>\n",
       "</table>\n",
       "</div>"
      ],
      "text/plain": [
       "   song_popularity  song_duration_ms  acousticness  danceability    energy  \\\n",
       "0        52.664211     212898.757155      0.200433      0.727563  0.679752   \n",
       "1        47.137203     207475.659631      0.697587      0.542214  0.322906   \n",
       "2        44.051282     234974.321960      0.104845      0.525715  0.780057   \n",
       "\n",
       "   instrumentalness  liveness   loudness  speechiness       tempo  \\\n",
       "0          0.027257  0.147791  -6.702804     0.120787  115.514942   \n",
       "1          0.231487  0.147070 -12.780510     0.066592  111.860336   \n",
       "2          0.099244  0.248996  -5.899806     0.088814  135.059622   \n",
       "\n",
       "   audio_valence  \n",
       "0       0.644249  \n",
       "1       0.366584  \n",
       "2       0.456354  "
      ]
     },
     "execution_count": 34,
     "metadata": {},
     "output_type": "execute_result"
    }
   ],
   "source": [
    "# your code here\n",
    "centroids_transformed = scaler.inverse_transform(centroids)\n",
    "centroids_transformed_df = pd.DataFrame(centroids_transformed, columns=data.columns)\n",
    "centroids_transformed_df"
   ]
  },
  {
   "cell_type": "code",
   "execution_count": 35,
   "metadata": {
    "deletable": false,
    "editable": false,
    "nbgrader": {
     "cell_type": "code",
     "checksum": "f62a80c4d06c4821a014ddead6c86284",
     "grade": true,
     "grade_id": "E43-tests",
     "locked": true,
     "points": 1,
     "schema_version": 3,
     "solution": false,
     "task": false
    }
   },
   "outputs": [
    {
     "name": "stdout",
     "output_type": "stream",
     "text": [
      "¡El tipo y dimensiones del arreglo son correctos!\n"
     ]
    }
   ],
   "source": [
    "#---------- Celda de Pruebas ----------\n",
    "# La variable \"centroids_transformed\" existe\n",
    "# La variable es un arreglo de numpy\n",
    "# La variable tiene dimensiones correctas\n",
    "#--------------------------------------\n",
    "# Se verifica que la variable está definida\n",
    "assert centroids_transformed is not None, \"Asegúrate de definir la variable correctamente.\"\n",
    "\n",
    "# Se evalúa el tipo de dato\n",
    "assert type(centroids_transformed) == np.ndarray, \"Recuerda que tu respuesta debe ser un arreglo de numpy.\"\n",
    "print(\"¡El tipo y dimensiones del arreglo son correctos!\")"
   ]
  },
  {
   "cell_type": "markdown",
   "metadata": {
    "deletable": false,
    "editable": false,
    "nbgrader": {
     "cell_type": "markdown",
     "checksum": "a93f9bddb6b5e1cc4fd01593dd0d2588",
     "grade": false,
     "grade_id": "cell-87ee0e8873e1b1d4",
     "locked": true,
     "schema_version": 3,
     "solution": false,
     "task": false
    }
   },
   "source": [
    "## Cierre\n",
    "\n",
    "Al realizar los ejercicios de este taller, has reforzado tus capacidades para entrenar un modelo de KMeans y obtener el mejor valor de K mediante el método del codo y el método de la silueta. Además, lograste obtener el número de elementos por cada grupo, además de los centroides resultantes. \n",
    "\n",
    "---\n",
    "*Creado por: Nicolás Díaz*  \n",
    "*Revisado por: Haydemar Nuñez*  \n",
    "*Versión de: Agosto 31, 2023*  \n",
    "*Universidad de los Andes*   "
   ]
  },
  {
   "cell_type": "code",
   "execution_count": null,
   "metadata": {},
   "outputs": [],
   "source": []
  }
 ],
 "metadata": {
  "kernelspec": {
   "display_name": "Python 3",
   "language": "python",
   "name": "python3"
  },
  "language_info": {
   "codemirror_mode": {
    "name": "ipython",
    "version": 3
   },
   "file_extension": ".py",
   "mimetype": "text/x-python",
   "name": "python",
   "nbconvert_exporter": "python",
   "pygments_lexer": "ipython3",
   "version": "3.7.6"
  }
 },
 "nbformat": 4,
 "nbformat_minor": 4
}
