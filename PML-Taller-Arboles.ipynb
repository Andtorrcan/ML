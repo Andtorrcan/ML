{
 "cells": [
  {
   "cell_type": "markdown",
   "metadata": {
    "deletable": false,
    "editable": false,
    "nbgrader": {
     "cell_type": "markdown",
     "checksum": "330adf89589b9fcc553985dcdac2a5af",
     "grade": false,
     "grade_id": "cell-c065870f1e0164c0",
     "locked": true,
     "schema_version": 3,
     "solution": false,
     "task": false
    }
   },
   "source": [
    "# Un problema de árboles de decisión\n",
    "\n",
    "En este taller estudiarás conceptos mostrados en el tutorial \"Solución de problemas con árboles de decisión\", utilizando el conjunto de datos correspondiente al desempeño y desgaste de empleados. Particularmente, realizarás los siguientes procesos:\n",
    "\n",
    "1. Cargar un conjunto de datos.\n",
    "2. Preparar los datos para el modelado.\n",
    "3. Realizar la búsqueda de hiperparámetros para el modelo de árbol de decisión.\n",
    "4. Evaluar el mejor modelo resultante.\n",
    "\n",
    "Entonces, dadas algunas características en áreas como la educación, trabajos previos, salario, entre otras, queremos clasificar a un empleado como agotado (con bajo desempeño) o no. Antes de iniciar, vamos a importar las librerías necesarias:"
   ]
  },
  {
   "cell_type": "code",
   "execution_count": 1,
   "metadata": {
    "deletable": false,
    "editable": false,
    "nbgrader": {
     "cell_type": "code",
     "checksum": "1387d82606d360356d097e23d65c1885",
     "grade": false,
     "grade_id": "cell-7d8b1d93a328f31e",
     "locked": true,
     "schema_version": 3,
     "solution": false,
     "task": false
    }
   },
   "outputs": [],
   "source": [
    "import pandas as pd\n",
    "import matplotlib.pyplot as plt\n",
    "import numpy as np\n",
    "\n",
    "from sklearn.tree import DecisionTreeClassifier, plot_tree\n",
    "from sklearn.model_selection import train_test_split, KFold, GridSearchCV\n",
    "from sklearn.metrics import accuracy_score, precision_score, recall_score, f1_score\n",
    "from sklearn.metrics import confusion_matrix, classification_report, plot_confusion_matrix"
   ]
  },
  {
   "cell_type": "markdown",
   "metadata": {
    "deletable": false,
    "editable": false,
    "nbgrader": {
     "cell_type": "markdown",
     "checksum": "68700570dbe2bd6f2379590a15070fff",
     "grade": false,
     "grade_id": "cell-d478be0cf0074e7c",
     "locked": true,
     "schema_version": 3,
     "solution": false,
     "task": false
    }
   },
   "source": [
    "## 1. Carga de datos\n",
    "\n",
    "Con las librerías importadas, realizaremos la carga del conjunto de datos:\n",
    "\n",
    "### Ejercicio 1.1.\n",
    "\n",
    "Utiliza Pandas para importar el archivo que contiene el conjunto de datos de desgaste de empleados.\n",
    "\n",
    "* La ruta del archivo .csv es: `./data/EmployeeAttrition.csv`, y ya se encuentra en el entorno de Coursera, solo debes importarlo.\n",
    "* La variable resultante debe tener el nombre `data_raw`, que representa el conjunto de datos sin modificar."
   ]
  },
  {
   "cell_type": "code",
   "execution_count": 2,
   "metadata": {
    "deletable": false,
    "nbgrader": {
     "cell_type": "code",
     "checksum": "27cbbc8f71555fc8e730e8eb6b02167e",
     "grade": false,
     "grade_id": "E11",
     "locked": false,
     "schema_version": 3,
     "solution": true,
     "task": false
    }
   },
   "outputs": [],
   "source": [
    "ruta = './data/Employee-Attrition.csv'\n",
    "# your code here\n",
    "data_raw = pd.read_csv(ruta, sep=',')"
   ]
  },
  {
   "cell_type": "code",
   "execution_count": 3,
   "metadata": {
    "deletable": false,
    "editable": false,
    "nbgrader": {
     "cell_type": "code",
     "checksum": "64bad93ae8f3b14d4f403544badf8a00",
     "grade": true,
     "grade_id": "E11-tests",
     "locked": true,
     "points": 1,
     "schema_version": 3,
     "solution": false,
     "task": false
    }
   },
   "outputs": [
    {
     "name": "stdout",
     "output_type": "stream",
     "text": [
      "¡Los datos tienen las dimensiones correctas!\n"
     ]
    }
   ],
   "source": [
    "#---------- Celda de Pruebas ----------\n",
    "# El resultado existe\n",
    "# El resultado es un DataFrame\n",
    "# El resultado tiene las dimensiones correctas\n",
    "#--------------------------------------\n",
    "\n",
    "# Se verifica que la variable exista\n",
    "assert data_raw is not None, \"Asegúrate de definir la variable /`data_raw/` igualándola a una función de Pandas para leer el archivo.\"\n",
    "\n",
    "# Se verifica que sea un DataFrame\n",
    "assert isinstance(data_raw, pd.DataFrame), \"El resultado debe ser un DataFrame.\"\n",
    "\n",
    "# Se evalúan las dimensiones de la variable\n",
    "assert data_raw.shape == (1470,32), \"¿Verificaste que la ruta del archivo CSV y el nombre de la variable son correctos?\"\n",
    "print(\"¡Los datos tienen las dimensiones correctas!\")"
   ]
  },
  {
   "cell_type": "markdown",
   "metadata": {
    "deletable": false,
    "editable": false,
    "nbgrader": {
     "cell_type": "markdown",
     "checksum": "79cfe53124cba472d2bb6ce4286cfa23",
     "grade": false,
     "grade_id": "cell-25d53136677f0289",
     "locked": true,
     "schema_version": 3,
     "solution": false,
     "task": false
    }
   },
   "source": [
    "En este punto es conveniente observar la estructura de los datos. ¿Cuántas variables categóricas tiene este conjunto de datos?"
   ]
  },
  {
   "cell_type": "markdown",
   "metadata": {
    "deletable": false,
    "editable": false,
    "nbgrader": {
     "cell_type": "markdown",
     "checksum": "72e5e7a76e066ef73a453601966095f6",
     "grade": false,
     "grade_id": "cell-4b7c64b079903518",
     "locked": true,
     "schema_version": 3,
     "solution": false,
     "task": false
    }
   },
   "source": [
    "## 2. Preparación de datos\n",
    "\n",
    "Primero vamos a definir la variable `data` para almacenar un conjunto de datos modificado:"
   ]
  },
  {
   "cell_type": "code",
   "execution_count": 4,
   "metadata": {
    "deletable": false,
    "editable": false,
    "nbgrader": {
     "cell_type": "code",
     "checksum": "d51ed072c626c66aed5f9312b3f6307d",
     "grade": false,
     "grade_id": "cell-cc52690afff7f7cc",
     "locked": true,
     "schema_version": 3,
     "solution": false,
     "task": false
    }
   },
   "outputs": [],
   "source": [
    "data = data_raw.copy()"
   ]
  },
  {
   "cell_type": "markdown",
   "metadata": {
    "deletable": false,
    "editable": false,
    "nbgrader": {
     "cell_type": "markdown",
     "checksum": "2f0b02dca2240919c58ca0d1c2b67e40",
     "grade": false,
     "grade_id": "cell-df3200e4690fb112",
     "locked": true,
     "schema_version": 3,
     "solution": false,
     "task": false
    }
   },
   "source": [
    "A continuación, verificaremos si hay valores faltantes:"
   ]
  },
  {
   "cell_type": "code",
   "execution_count": 5,
   "metadata": {
    "deletable": false,
    "editable": false,
    "nbgrader": {
     "cell_type": "code",
     "checksum": "3b393938fb17052315d15fe237882cca",
     "grade": false,
     "grade_id": "cell-b48e77181586c4da",
     "locked": true,
     "schema_version": 3,
     "solution": false,
     "task": false
    }
   },
   "outputs": [
    {
     "data": {
      "text/plain": [
       "Age                         0\n",
       "Attrition                   0\n",
       "BusinessTravel              0\n",
       "DailyRate                   0\n",
       "Department                  0\n",
       "DistanceFromHome            0\n",
       "Education                   0\n",
       "EducationField              0\n",
       "EmployeeNumber              0\n",
       "EnvironmentSatisfaction     0\n",
       "Gender                      0\n",
       "HourlyRate                  0\n",
       "JobInvolvement              0\n",
       "JobLevel                    0\n",
       "JobRole                     0\n",
       "JobSatisfaction             0\n",
       "MaritalStatus               0\n",
       "MonthlyIncome               0\n",
       "MonthlyRate                 0\n",
       "NumCompaniesWorked          0\n",
       "OverTime                    0\n",
       "PercentSalaryHike           0\n",
       "PerformanceRating           0\n",
       "RelationshipSatisfaction    0\n",
       "StockOptionLevel            0\n",
       "TotalWorkingYears           0\n",
       "TrainingTimesLastYear       0\n",
       "WorkLifeBalance             0\n",
       "YearsAtCompany              0\n",
       "YearsInCurrentRole          0\n",
       "YearsSinceLastPromotion     0\n",
       "YearsWithCurrManager        0\n",
       "dtype: int64"
      ]
     },
     "execution_count": 5,
     "metadata": {},
     "output_type": "execute_result"
    }
   ],
   "source": [
    "data.isna().sum()"
   ]
  },
  {
   "cell_type": "markdown",
   "metadata": {
    "deletable": false,
    "editable": false,
    "nbgrader": {
     "cell_type": "markdown",
     "checksum": "177a89ff0f0bdc01294b3bd4886e4633",
     "grade": false,
     "grade_id": "cell-df726dac1a82cd88",
     "locked": true,
     "schema_version": 3,
     "solution": false,
     "task": false
    }
   },
   "source": [
    "Y verificaremos si hay filas duplicadas:"
   ]
  },
  {
   "cell_type": "code",
   "execution_count": 6,
   "metadata": {
    "deletable": false,
    "editable": false,
    "nbgrader": {
     "cell_type": "code",
     "checksum": "1ad29c4ac79af4b104d14d7103819e97",
     "grade": false,
     "grade_id": "cell-c503b41ec11c2d12",
     "locked": true,
     "schema_version": 3,
     "solution": false,
     "task": false
    }
   },
   "outputs": [
    {
     "data": {
      "text/plain": [
       "0"
      ]
     },
     "execution_count": 6,
     "metadata": {},
     "output_type": "execute_result"
    }
   ],
   "source": [
    "data.duplicated().sum()"
   ]
  },
  {
   "cell_type": "markdown",
   "metadata": {
    "deletable": false,
    "editable": false,
    "nbgrader": {
     "cell_type": "markdown",
     "checksum": "6b5314cd25e0599905b7eade4f653785",
     "grade": false,
     "grade_id": "cell-0182345c6d7e081c",
     "locked": true,
     "schema_version": 3,
     "solution": false,
     "task": false
    }
   },
   "source": [
    "Como puedes observar, no tenemos que hacer una limpieza previa, por lo que seguiremos con la preparación de los datos."
   ]
  },
  {
   "cell_type": "markdown",
   "metadata": {
    "deletable": false,
    "editable": false,
    "nbgrader": {
     "cell_type": "markdown",
     "checksum": "a01a690da0c8faca8d30d0198c6d9923",
     "grade": false,
     "grade_id": "cell-36aac7536f86195b",
     "locked": true,
     "schema_version": 3,
     "solution": false,
     "task": false
    }
   },
   "source": [
    "### Ejercicio 2.1.\n",
    "\n",
    "Primero vas a realizar la transformación de las variables categóricas. Utiliza Pandas para transformar todas las variables categóricas en variables numéricas que puedan ser interpretadas por nuestro modelo.\n",
    "\n",
    "* Utiliza una función de Pandas y asigna tu respuesta a la misma variable `data`. (**Ejemplo: `data = pd.<<Función>>`**)\n",
    "* Encontrarás la línea `data.head()` al final de la celda. Esta línea se usa para que puedas visualizar el resultado de la transformación, por lo que debes dejarla al final y no debes modificarla."
   ]
  },
  {
   "cell_type": "code",
   "execution_count": 7,
   "metadata": {
    "deletable": false,
    "nbgrader": {
     "cell_type": "code",
     "checksum": "6b55a5a5688cbd1a7291171ef166bfb9",
     "grade": false,
     "grade_id": "E21",
     "locked": false,
     "schema_version": 3,
     "solution": true,
     "task": false
    }
   },
   "outputs": [
    {
     "data": {
      "text/html": [
       "<div>\n",
       "<style scoped>\n",
       "    .dataframe tbody tr th:only-of-type {\n",
       "        vertical-align: middle;\n",
       "    }\n",
       "\n",
       "    .dataframe tbody tr th {\n",
       "        vertical-align: top;\n",
       "    }\n",
       "\n",
       "    .dataframe thead th {\n",
       "        text-align: right;\n",
       "    }\n",
       "</style>\n",
       "<table border=\"1\" class=\"dataframe\">\n",
       "  <thead>\n",
       "    <tr style=\"text-align: right;\">\n",
       "      <th></th>\n",
       "      <th>Age</th>\n",
       "      <th>Attrition</th>\n",
       "      <th>DailyRate</th>\n",
       "      <th>DistanceFromHome</th>\n",
       "      <th>Education</th>\n",
       "      <th>EmployeeNumber</th>\n",
       "      <th>EnvironmentSatisfaction</th>\n",
       "      <th>HourlyRate</th>\n",
       "      <th>JobInvolvement</th>\n",
       "      <th>JobLevel</th>\n",
       "      <th>...</th>\n",
       "      <th>JobRole_Manufacturing Director</th>\n",
       "      <th>JobRole_Research Director</th>\n",
       "      <th>JobRole_Research Scientist</th>\n",
       "      <th>JobRole_Sales Executive</th>\n",
       "      <th>JobRole_Sales Representative</th>\n",
       "      <th>MaritalStatus_Divorced</th>\n",
       "      <th>MaritalStatus_Married</th>\n",
       "      <th>MaritalStatus_Single</th>\n",
       "      <th>OverTime_No</th>\n",
       "      <th>OverTime_Yes</th>\n",
       "    </tr>\n",
       "  </thead>\n",
       "  <tbody>\n",
       "    <tr>\n",
       "      <th>0</th>\n",
       "      <td>41</td>\n",
       "      <td>1</td>\n",
       "      <td>1102</td>\n",
       "      <td>1</td>\n",
       "      <td>2</td>\n",
       "      <td>1</td>\n",
       "      <td>2</td>\n",
       "      <td>94</td>\n",
       "      <td>3</td>\n",
       "      <td>2</td>\n",
       "      <td>...</td>\n",
       "      <td>0</td>\n",
       "      <td>0</td>\n",
       "      <td>0</td>\n",
       "      <td>1</td>\n",
       "      <td>0</td>\n",
       "      <td>0</td>\n",
       "      <td>0</td>\n",
       "      <td>1</td>\n",
       "      <td>0</td>\n",
       "      <td>1</td>\n",
       "    </tr>\n",
       "    <tr>\n",
       "      <th>1</th>\n",
       "      <td>49</td>\n",
       "      <td>0</td>\n",
       "      <td>279</td>\n",
       "      <td>8</td>\n",
       "      <td>1</td>\n",
       "      <td>2</td>\n",
       "      <td>3</td>\n",
       "      <td>61</td>\n",
       "      <td>2</td>\n",
       "      <td>2</td>\n",
       "      <td>...</td>\n",
       "      <td>0</td>\n",
       "      <td>0</td>\n",
       "      <td>1</td>\n",
       "      <td>0</td>\n",
       "      <td>0</td>\n",
       "      <td>0</td>\n",
       "      <td>1</td>\n",
       "      <td>0</td>\n",
       "      <td>1</td>\n",
       "      <td>0</td>\n",
       "    </tr>\n",
       "    <tr>\n",
       "      <th>2</th>\n",
       "      <td>37</td>\n",
       "      <td>1</td>\n",
       "      <td>1373</td>\n",
       "      <td>2</td>\n",
       "      <td>2</td>\n",
       "      <td>4</td>\n",
       "      <td>4</td>\n",
       "      <td>92</td>\n",
       "      <td>2</td>\n",
       "      <td>1</td>\n",
       "      <td>...</td>\n",
       "      <td>0</td>\n",
       "      <td>0</td>\n",
       "      <td>0</td>\n",
       "      <td>0</td>\n",
       "      <td>0</td>\n",
       "      <td>0</td>\n",
       "      <td>0</td>\n",
       "      <td>1</td>\n",
       "      <td>0</td>\n",
       "      <td>1</td>\n",
       "    </tr>\n",
       "    <tr>\n",
       "      <th>3</th>\n",
       "      <td>33</td>\n",
       "      <td>0</td>\n",
       "      <td>1392</td>\n",
       "      <td>3</td>\n",
       "      <td>4</td>\n",
       "      <td>5</td>\n",
       "      <td>4</td>\n",
       "      <td>56</td>\n",
       "      <td>3</td>\n",
       "      <td>1</td>\n",
       "      <td>...</td>\n",
       "      <td>0</td>\n",
       "      <td>0</td>\n",
       "      <td>1</td>\n",
       "      <td>0</td>\n",
       "      <td>0</td>\n",
       "      <td>0</td>\n",
       "      <td>1</td>\n",
       "      <td>0</td>\n",
       "      <td>0</td>\n",
       "      <td>1</td>\n",
       "    </tr>\n",
       "    <tr>\n",
       "      <th>4</th>\n",
       "      <td>27</td>\n",
       "      <td>0</td>\n",
       "      <td>591</td>\n",
       "      <td>2</td>\n",
       "      <td>1</td>\n",
       "      <td>7</td>\n",
       "      <td>1</td>\n",
       "      <td>40</td>\n",
       "      <td>3</td>\n",
       "      <td>1</td>\n",
       "      <td>...</td>\n",
       "      <td>0</td>\n",
       "      <td>0</td>\n",
       "      <td>0</td>\n",
       "      <td>0</td>\n",
       "      <td>0</td>\n",
       "      <td>0</td>\n",
       "      <td>1</td>\n",
       "      <td>0</td>\n",
       "      <td>1</td>\n",
       "      <td>0</td>\n",
       "    </tr>\n",
       "  </tbody>\n",
       "</table>\n",
       "<p>5 rows × 53 columns</p>\n",
       "</div>"
      ],
      "text/plain": [
       "   Age  Attrition  DailyRate  DistanceFromHome  Education  EmployeeNumber  \\\n",
       "0   41          1       1102                 1          2               1   \n",
       "1   49          0        279                 8          1               2   \n",
       "2   37          1       1373                 2          2               4   \n",
       "3   33          0       1392                 3          4               5   \n",
       "4   27          0        591                 2          1               7   \n",
       "\n",
       "   EnvironmentSatisfaction  HourlyRate  JobInvolvement  JobLevel  ...  \\\n",
       "0                        2          94               3         2  ...   \n",
       "1                        3          61               2         2  ...   \n",
       "2                        4          92               2         1  ...   \n",
       "3                        4          56               3         1  ...   \n",
       "4                        1          40               3         1  ...   \n",
       "\n",
       "   JobRole_Manufacturing Director  JobRole_Research Director  \\\n",
       "0                               0                          0   \n",
       "1                               0                          0   \n",
       "2                               0                          0   \n",
       "3                               0                          0   \n",
       "4                               0                          0   \n",
       "\n",
       "   JobRole_Research Scientist  JobRole_Sales Executive  \\\n",
       "0                           0                        1   \n",
       "1                           1                        0   \n",
       "2                           0                        0   \n",
       "3                           1                        0   \n",
       "4                           0                        0   \n",
       "\n",
       "   JobRole_Sales Representative  MaritalStatus_Divorced  \\\n",
       "0                             0                       0   \n",
       "1                             0                       0   \n",
       "2                             0                       0   \n",
       "3                             0                       0   \n",
       "4                             0                       0   \n",
       "\n",
       "   MaritalStatus_Married  MaritalStatus_Single  OverTime_No  OverTime_Yes  \n",
       "0                      0                     1            0             1  \n",
       "1                      1                     0            1             0  \n",
       "2                      0                     1            0             1  \n",
       "3                      1                     0            0             1  \n",
       "4                      1                     0            1             0  \n",
       "\n",
       "[5 rows x 53 columns]"
      ]
     },
     "execution_count": 7,
     "metadata": {},
     "output_type": "execute_result"
    }
   ],
   "source": [
    "# your code here\n",
    "data = pd.get_dummies(data)\n",
    "data.head()"
   ]
  },
  {
   "cell_type": "code",
   "execution_count": 8,
   "metadata": {
    "deletable": false,
    "editable": false,
    "nbgrader": {
     "cell_type": "code",
     "checksum": "4ed9532bf15a949a9b55871877903cd6",
     "grade": true,
     "grade_id": "E21-tests",
     "locked": true,
     "points": 1,
     "schema_version": 3,
     "solution": false,
     "task": false
    }
   },
   "outputs": [
    {
     "name": "stdout",
     "output_type": "stream",
     "text": [
      "¡Los datos tienen las dimensiones correctas!\n"
     ]
    }
   ],
   "source": [
    "#---------- Celda de Pruebas ----------\n",
    "# La variable 'data' existe\n",
    "# La variable 'data' es un DataFrame\n",
    "# La variable 'data' ha aumentado su número de columnas\n",
    "#--------------------------------------\n",
    "\n",
    "# Se verifica que la variable exista\n",
    "assert data is not None, \"Asegúrate de definir la variable /`data/` igualándola a una función de Pandas.\"\n",
    "\n",
    "# Se verifica que sea un DataFrame\n",
    "assert isinstance(data, pd.DataFrame), \"El resultado debe ser un DataFrame.\"\n",
    "\n",
    "# Se evalúan las dimensiones de la variable data\n",
    "assert data.shape == (1470,53), \"Recuerda que la codificación de variables categóricas resulta en un aumento del número de columnas.\"\n",
    "print(\"¡Los datos tienen las dimensiones correctas!\")"
   ]
  },
  {
   "cell_type": "markdown",
   "metadata": {
    "deletable": false,
    "editable": false,
    "nbgrader": {
     "cell_type": "markdown",
     "checksum": "7abf48442d6eaf3e4ef030ee3832c9e3",
     "grade": false,
     "grade_id": "cell-a82e3ce8ecd7d01f",
     "locked": true,
     "schema_version": 3,
     "solution": false,
     "task": false
    }
   },
   "source": [
    "### Ejercicio 2.2.\n",
    "\n",
    "Ahora debes dividir el conjunto de datos en entrenamiento y pruebas. Usando el 80% de los datos para entrenar el modelo y el 20% restante para probarlo, utiliza `scikit-learn` para separar el conjunto de datos en dos.\n",
    "\n",
    "* Guarda tu respuesta en dos variables: `train` y `test`. (**Ejemplo: `train, test = <<Función>>`**)\n",
    "* Utiliza el parámetro `random_state=0`. Esto hará que la partición sea siempre la misma.\n",
    "* Encontrarás la línea `train.head()`. Esta línea se usa para que puedas visualizar el resultado del conjunto de entrenamiento. Déjala al final de la celda y no la modifiques."
   ]
  },
  {
   "cell_type": "code",
   "execution_count": 9,
   "metadata": {
    "deletable": false,
    "nbgrader": {
     "cell_type": "code",
     "checksum": "322f0ee77f149e61b96a4f12146390ad",
     "grade": false,
     "grade_id": "E22",
     "locked": false,
     "schema_version": 3,
     "solution": true,
     "task": false
    }
   },
   "outputs": [
    {
     "data": {
      "text/html": [
       "<div>\n",
       "<style scoped>\n",
       "    .dataframe tbody tr th:only-of-type {\n",
       "        vertical-align: middle;\n",
       "    }\n",
       "\n",
       "    .dataframe tbody tr th {\n",
       "        vertical-align: top;\n",
       "    }\n",
       "\n",
       "    .dataframe thead th {\n",
       "        text-align: right;\n",
       "    }\n",
       "</style>\n",
       "<table border=\"1\" class=\"dataframe\">\n",
       "  <thead>\n",
       "    <tr style=\"text-align: right;\">\n",
       "      <th></th>\n",
       "      <th>Age</th>\n",
       "      <th>Attrition</th>\n",
       "      <th>DailyRate</th>\n",
       "      <th>DistanceFromHome</th>\n",
       "      <th>Education</th>\n",
       "      <th>EmployeeNumber</th>\n",
       "      <th>EnvironmentSatisfaction</th>\n",
       "      <th>HourlyRate</th>\n",
       "      <th>JobInvolvement</th>\n",
       "      <th>JobLevel</th>\n",
       "      <th>...</th>\n",
       "      <th>JobRole_Manufacturing Director</th>\n",
       "      <th>JobRole_Research Director</th>\n",
       "      <th>JobRole_Research Scientist</th>\n",
       "      <th>JobRole_Sales Executive</th>\n",
       "      <th>JobRole_Sales Representative</th>\n",
       "      <th>MaritalStatus_Divorced</th>\n",
       "      <th>MaritalStatus_Married</th>\n",
       "      <th>MaritalStatus_Single</th>\n",
       "      <th>OverTime_No</th>\n",
       "      <th>OverTime_Yes</th>\n",
       "    </tr>\n",
       "  </thead>\n",
       "  <tbody>\n",
       "    <tr>\n",
       "      <th>1374</th>\n",
       "      <td>58</td>\n",
       "      <td>0</td>\n",
       "      <td>605</td>\n",
       "      <td>21</td>\n",
       "      <td>3</td>\n",
       "      <td>1938</td>\n",
       "      <td>4</td>\n",
       "      <td>72</td>\n",
       "      <td>3</td>\n",
       "      <td>4</td>\n",
       "      <td>...</td>\n",
       "      <td>0</td>\n",
       "      <td>0</td>\n",
       "      <td>0</td>\n",
       "      <td>0</td>\n",
       "      <td>0</td>\n",
       "      <td>0</td>\n",
       "      <td>1</td>\n",
       "      <td>0</td>\n",
       "      <td>0</td>\n",
       "      <td>1</td>\n",
       "    </tr>\n",
       "    <tr>\n",
       "      <th>1092</th>\n",
       "      <td>45</td>\n",
       "      <td>0</td>\n",
       "      <td>950</td>\n",
       "      <td>28</td>\n",
       "      <td>3</td>\n",
       "      <td>1546</td>\n",
       "      <td>4</td>\n",
       "      <td>97</td>\n",
       "      <td>3</td>\n",
       "      <td>1</td>\n",
       "      <td>...</td>\n",
       "      <td>0</td>\n",
       "      <td>0</td>\n",
       "      <td>1</td>\n",
       "      <td>0</td>\n",
       "      <td>0</td>\n",
       "      <td>0</td>\n",
       "      <td>1</td>\n",
       "      <td>0</td>\n",
       "      <td>1</td>\n",
       "      <td>0</td>\n",
       "    </tr>\n",
       "    <tr>\n",
       "      <th>768</th>\n",
       "      <td>40</td>\n",
       "      <td>0</td>\n",
       "      <td>300</td>\n",
       "      <td>26</td>\n",
       "      <td>3</td>\n",
       "      <td>1066</td>\n",
       "      <td>3</td>\n",
       "      <td>74</td>\n",
       "      <td>3</td>\n",
       "      <td>2</td>\n",
       "      <td>...</td>\n",
       "      <td>0</td>\n",
       "      <td>0</td>\n",
       "      <td>0</td>\n",
       "      <td>1</td>\n",
       "      <td>0</td>\n",
       "      <td>0</td>\n",
       "      <td>1</td>\n",
       "      <td>0</td>\n",
       "      <td>1</td>\n",
       "      <td>0</td>\n",
       "    </tr>\n",
       "    <tr>\n",
       "      <th>569</th>\n",
       "      <td>36</td>\n",
       "      <td>0</td>\n",
       "      <td>1434</td>\n",
       "      <td>8</td>\n",
       "      <td>4</td>\n",
       "      <td>789</td>\n",
       "      <td>1</td>\n",
       "      <td>76</td>\n",
       "      <td>2</td>\n",
       "      <td>3</td>\n",
       "      <td>...</td>\n",
       "      <td>0</td>\n",
       "      <td>0</td>\n",
       "      <td>0</td>\n",
       "      <td>1</td>\n",
       "      <td>0</td>\n",
       "      <td>0</td>\n",
       "      <td>0</td>\n",
       "      <td>1</td>\n",
       "      <td>1</td>\n",
       "      <td>0</td>\n",
       "    </tr>\n",
       "    <tr>\n",
       "      <th>911</th>\n",
       "      <td>25</td>\n",
       "      <td>1</td>\n",
       "      <td>599</td>\n",
       "      <td>24</td>\n",
       "      <td>1</td>\n",
       "      <td>1273</td>\n",
       "      <td>3</td>\n",
       "      <td>73</td>\n",
       "      <td>1</td>\n",
       "      <td>1</td>\n",
       "      <td>...</td>\n",
       "      <td>0</td>\n",
       "      <td>0</td>\n",
       "      <td>0</td>\n",
       "      <td>0</td>\n",
       "      <td>1</td>\n",
       "      <td>0</td>\n",
       "      <td>0</td>\n",
       "      <td>1</td>\n",
       "      <td>0</td>\n",
       "      <td>1</td>\n",
       "    </tr>\n",
       "  </tbody>\n",
       "</table>\n",
       "<p>5 rows × 53 columns</p>\n",
       "</div>"
      ],
      "text/plain": [
       "      Age  Attrition  DailyRate  DistanceFromHome  Education  EmployeeNumber  \\\n",
       "1374   58          0        605                21          3            1938   \n",
       "1092   45          0        950                28          3            1546   \n",
       "768    40          0        300                26          3            1066   \n",
       "569    36          0       1434                 8          4             789   \n",
       "911    25          1        599                24          1            1273   \n",
       "\n",
       "      EnvironmentSatisfaction  HourlyRate  JobInvolvement  JobLevel  ...  \\\n",
       "1374                        4          72               3         4  ...   \n",
       "1092                        4          97               3         1  ...   \n",
       "768                         3          74               3         2  ...   \n",
       "569                         1          76               2         3  ...   \n",
       "911                         3          73               1         1  ...   \n",
       "\n",
       "      JobRole_Manufacturing Director  JobRole_Research Director  \\\n",
       "1374                               0                          0   \n",
       "1092                               0                          0   \n",
       "768                                0                          0   \n",
       "569                                0                          0   \n",
       "911                                0                          0   \n",
       "\n",
       "      JobRole_Research Scientist  JobRole_Sales Executive  \\\n",
       "1374                           0                        0   \n",
       "1092                           1                        0   \n",
       "768                            0                        1   \n",
       "569                            0                        1   \n",
       "911                            0                        0   \n",
       "\n",
       "      JobRole_Sales Representative  MaritalStatus_Divorced  \\\n",
       "1374                             0                       0   \n",
       "1092                             0                       0   \n",
       "768                              0                       0   \n",
       "569                              0                       0   \n",
       "911                              1                       0   \n",
       "\n",
       "      MaritalStatus_Married  MaritalStatus_Single  OverTime_No  OverTime_Yes  \n",
       "1374                      1                     0            0             1  \n",
       "1092                      1                     0            1             0  \n",
       "768                       1                     0            1             0  \n",
       "569                       0                     1            1             0  \n",
       "911                       0                     1            0             1  \n",
       "\n",
       "[5 rows x 53 columns]"
      ]
     },
     "execution_count": 9,
     "metadata": {},
     "output_type": "execute_result"
    }
   ],
   "source": [
    "# your code here\n",
    "train, test = train_test_split(data, test_size=0.2, random_state=0)\n",
    "train.head()"
   ]
  },
  {
   "cell_type": "code",
   "execution_count": 10,
   "metadata": {
    "deletable": false,
    "editable": false,
    "nbgrader": {
     "cell_type": "code",
     "checksum": "a69b8177cb364e5a99622304c82f48b1",
     "grade": true,
     "grade_id": "E22-tests",
     "locked": true,
     "points": 1,
     "schema_version": 3,
     "solution": false,
     "task": false
    }
   },
   "outputs": [
    {
     "name": "stdout",
     "output_type": "stream",
     "text": [
      "¡Los conjuntos de entrenamiento y pruebas tienen las dimensiones correctas!\n"
     ]
    }
   ],
   "source": [
    "#---------- Celda de Pruebas ----------\n",
    "# Las variables \"train\" y \"test\" existen\n",
    "# Las variables \"train\" y \"test\" son un DataFrame\n",
    "# Las variables tienen las dimensiones correctas\n",
    "#--------------------------------------\n",
    "\n",
    "# Se verifica que \"train\" y \"test\" están definidas\n",
    "assert train is not None, \"Asegúrate de definir la variable \\'train\\' con el nombre correcto.\"\n",
    "assert test is not None, \"Asegúrate de definir la variable \\'test\\' con el nombre correcto.\"\n",
    "\n",
    "# Se verifica que \"train\" y \"test\" sean un DataFrame\n",
    "assert isinstance(train, pd.DataFrame), \"La variable \\'train\\' debe ser un DataFrame.\"\n",
    "assert isinstance(test, pd.DataFrame), \"La variable \\'test\\' debe ser un DataFrame.\"\n",
    "\n",
    "# Se evalúan las dimensiones de las variables\n",
    "assert train.shape == (1176,53), \"Verifica que estés utilizando el 80% de los datos para el conjunto de entrenamiento.\"\n",
    "assert test.shape == (294,53), \"Verifica que estés utilizando el 20% de los datos para el conjunto de pruebas.\"\n",
    "print(\"¡Los conjuntos de entrenamiento y pruebas tienen las dimensiones correctas!\")"
   ]
  },
  {
   "cell_type": "markdown",
   "metadata": {
    "deletable": false,
    "editable": false,
    "nbgrader": {
     "cell_type": "markdown",
     "checksum": "e57062ffbb900019e20fce2de95b0367",
     "grade": false,
     "grade_id": "cell-4001dc7f6ba464c4",
     "locked": true,
     "schema_version": 3,
     "solution": false,
     "task": false
    }
   },
   "source": [
    "### Ejercicio 2.3.\n",
    "\n",
    "Ahora debes aislar la variable objetivo, `Attrition`, de las variables independientes. Utiliza Pandas para crear dos variables, `x_train` y `y_train`, que almacenarán las variables independientes y la variable objetivo, respectivamente.\n",
    "\n",
    "* Crea una variable con nombre `x_train` y asígnale la operación necesaria para almacenar solo las variables independientes del conjunto de entrenamiento. (**Ejemplo: `x_train = train.<<Función>>`**)\n",
    "* Crea una variable con nombre `y_train` y asígnale la operación necesaria para almacenar la variable objetivo del conjunto de entrenamiento. (**Ejemplo: `y_train = <<Consulta>>`**)"
   ]
  },
  {
   "cell_type": "code",
   "execution_count": 13,
   "metadata": {
    "deletable": false,
    "nbgrader": {
     "cell_type": "code",
     "checksum": "2fd7c527c0a623f9661f326fc257c041",
     "grade": false,
     "grade_id": "E23",
     "locked": false,
     "schema_version": 3,
     "solution": true,
     "task": false
    }
   },
   "outputs": [],
   "source": [
    "# Tu respuesta deben ser dos líneas consecutivas:\n",
    "#    x_train = train.<<Función>>\n",
    "#    y_train = <<Consulta>>\n",
    "# your code here\n",
    "x_train = train.drop(['Attrition'],axis=1)\n",
    "y_train = train['Attrition']"
   ]
  },
  {
   "cell_type": "code",
   "execution_count": 14,
   "metadata": {
    "deletable": false,
    "editable": false,
    "nbgrader": {
     "cell_type": "code",
     "checksum": "1071c6b423e2d6e51fa00af62a8fe4bc",
     "grade": true,
     "grade_id": "E23-tests",
     "locked": true,
     "points": 1,
     "schema_version": 3,
     "solution": false,
     "task": false
    }
   },
   "outputs": [
    {
     "name": "stdout",
     "output_type": "stream",
     "text": [
      "¡Los conjuntos 'x_train' y 'y_train' tienen las dimensiones correctas!\n"
     ]
    }
   ],
   "source": [
    "#---------- Celda de Pruebas ----------\n",
    "# Las variables \"x_train\" y \"y_train\" existen\n",
    "# La variable \"x_train\" es un DataFrame\n",
    "# La variable \"y_train\" es una Serie de Pandas\n",
    "# Las variables tienen las dimensiones correctas\n",
    "#--------------------------------------\n",
    "\n",
    "# Se verifica que las variables están definidas\n",
    "assert x_train is not None, \"Asegúrate de definir la variable \\'x_train\\' correctamente.\"\n",
    "assert y_train is not None, \"Asegúrate de definir la variable \\'y_train\\' correctamente.\"\n",
    "\n",
    "# Se verifica que \"x_train\" sea un DataFrame\n",
    "assert isinstance(x_train, pd.DataFrame), \"El resultado debe ser un DataFrame.\"\n",
    "\n",
    "# Se verifica que \"y_train\" sea una Serie\n",
    "assert isinstance(y_train, pd.Series), \"El resultado debe ser una Serie de Pandas.\"\n",
    "\n",
    "# Se evalúan las dimensiones de las variables\n",
    "assert x_train.shape == (1176,52), \"\\'x_train\\' debe tener el mismo número de filas pero una columna menos que \\'train\\'.\"\n",
    "assert y_train.shape == (1176,), \"\\'y_train\\' solamente contiene una columna.\"\n",
    "print(\"¡Los conjuntos \\'x_train\\' y \\'y_train\\' tienen las dimensiones correctas!\")"
   ]
  },
  {
   "cell_type": "markdown",
   "metadata": {
    "deletable": false,
    "editable": false,
    "nbgrader": {
     "cell_type": "markdown",
     "checksum": "6531b7356b801bce60c30689fd35c2df",
     "grade": false,
     "grade_id": "cell-93bdb75681f0de09",
     "locked": true,
     "schema_version": 3,
     "solution": false,
     "task": false
    }
   },
   "source": [
    "Debido a que los árboles de decisión no necesitan estandarización, podemos pasar directamente a la búsqueda de hiperparámetros."
   ]
  },
  {
   "cell_type": "markdown",
   "metadata": {
    "deletable": false,
    "editable": false,
    "nbgrader": {
     "cell_type": "markdown",
     "checksum": "c9d717fdffbe4b9914b6778f5abc48fb",
     "grade": false,
     "grade_id": "cell-3dcf26d8bd04fa6a",
     "locked": true,
     "schema_version": 3,
     "solution": false,
     "task": false
    }
   },
   "source": [
    "## 3. Búsqueda de hiperparámetros\n",
    "\n",
    "Con el conjunto de entrenamiento preparado, realizaremos una búsqueda de los hiperparámetros `criterion`, `max_depth` y `min_samples_split`. Para esto utilizaremos un objeto de la clase `KFold`, con el que definiremos 10 subconjuntos sobre el conjunto de entrenamiento:"
   ]
  },
  {
   "cell_type": "code",
   "execution_count": 15,
   "metadata": {
    "deletable": false,
    "editable": false,
    "nbgrader": {
     "cell_type": "code",
     "checksum": "b37f70a6d487dfaa2101d78cc66c14ae",
     "grade": false,
     "grade_id": "cell-767ed79b53f05f0e",
     "locked": true,
     "schema_version": 3,
     "solution": false,
     "task": false
    }
   },
   "outputs": [],
   "source": [
    "kfold = KFold(n_splits=10, shuffle=True, random_state=0)"
   ]
  },
  {
   "cell_type": "markdown",
   "metadata": {
    "deletable": false,
    "editable": false,
    "nbgrader": {
     "cell_type": "markdown",
     "checksum": "6c01aafcd559908a80f3437a67fe2623",
     "grade": false,
     "grade_id": "cell-ccbf520f3f650584",
     "locked": true,
     "schema_version": 3,
     "solution": false,
     "task": false
    }
   },
   "source": [
    "Además, definiremos el objeto de la clase `DecisionTreeClassifier` para realizar el entrenamiento con un árbol de decisión. Ten en cuenta que usamos el parámetro `random_state=0` para que, después de definir una división, la reorganización de las variables restantes sea siempre la misma:"
   ]
  },
  {
   "cell_type": "code",
   "execution_count": 19,
   "metadata": {
    "deletable": false,
    "editable": false,
    "nbgrader": {
     "cell_type": "code",
     "checksum": "30ad10faeedcf2d04579bffa4efb7359",
     "grade": false,
     "grade_id": "cell-5d8562aa352419a5",
     "locked": true,
     "schema_version": 3,
     "solution": false,
     "task": false
    }
   },
   "outputs": [],
   "source": [
    "decision_tree = DecisionTreeClassifier(random_state=0)"
   ]
  },
  {
   "cell_type": "markdown",
   "metadata": {
    "deletable": false,
    "editable": false,
    "nbgrader": {
     "cell_type": "markdown",
     "checksum": "972248e7ba78a790ffec9c5aaa61059d",
     "grade": false,
     "grade_id": "cell-7cd5a95ceea10379",
     "locked": true,
     "schema_version": 3,
     "solution": false,
     "task": false
    }
   },
   "source": [
    "### Ejercicio 3.1.\n",
    "\n",
    "El siguiente paso es definir el espacio de búsqueda de los hiperparámetros.\n",
    "\n",
    "* Define una variable con el nombre `param_grid` y asígnale la expresión necesaria para crear un diccionario con tres tuplas (**Ejemplo: `param_grid = <<Expresión>>`**):\n",
    "    * Llave `criterion` y valor `valores_criterion`.\n",
    "    * Llave `max_depth` y valor `valores_max_depth`.\n",
    "    * Llave `min_samples_split` y valor `valores_min_samples_split`."
   ]
  },
  {
   "cell_type": "code",
   "execution_count": 20,
   "metadata": {
    "deletable": false,
    "nbgrader": {
     "cell_type": "code",
     "checksum": "a85cdadf1bf0503047b2b0cdca425902",
     "grade": false,
     "grade_id": "E31",
     "locked": false,
     "schema_version": 3,
     "solution": true,
     "task": false
    }
   },
   "outputs": [],
   "source": [
    "valores_criterion = ['entropy', 'gini']\n",
    "valores_max_depth = [2, 4, 6, 8]\n",
    "valores_min_samples_split = [2, 3, 5, 10]\n",
    "# your code here\n",
    "param_grid = {'criterion': valores_criterion,\n",
    "              'max_depth': valores_max_depth,\n",
    "              'min_samples_split': valores_min_samples_split}"
   ]
  },
  {
   "cell_type": "code",
   "execution_count": 21,
   "metadata": {
    "deletable": false,
    "editable": false,
    "nbgrader": {
     "cell_type": "code",
     "checksum": "b0abe6d0ec188c1e653a1eeeefd016f3",
     "grade": true,
     "grade_id": "E31-tests",
     "locked": true,
     "points": 1,
     "schema_version": 3,
     "solution": false,
     "task": false
    }
   },
   "outputs": [
    {
     "name": "stdout",
     "output_type": "stream",
     "text": [
      "¡'param_grid' está definida correctamente!\n"
     ]
    }
   ],
   "source": [
    "#---------- Celda de Pruebas ----------\n",
    "# La variable \"param_grid\" existe\n",
    "# La variable \"param_grid\" es un diccionario\n",
    "# La variable tiene la longitud correcta\n",
    "#--------------------------------------\n",
    "\n",
    "# Se verifica que \"param_grid\" está definida\n",
    "assert param_grid is not None, \"Asegúrate de definir la variable \\'param_grid\\' correctamente.\"\n",
    "\n",
    "# Se verifica que \"param_grid\" sea un diccionario\n",
    "assert isinstance(param_grid, dict), \"El resultado debe ser un diccionario de Python, es decir, no necesitas ninguna función específica de ninguna librería para definir la variable.\"\n",
    "\n",
    "# Se evalúa la longitud de la variable\n",
    "assert len(param_grid) == 3, \"\\'param_grid\\' debe contener tres tuplas.\"\n",
    "print(\"¡\\'param_grid\\' está definida correctamente!\")"
   ]
  },
  {
   "cell_type": "markdown",
   "metadata": {
    "deletable": false,
    "editable": false,
    "nbgrader": {
     "cell_type": "markdown",
     "checksum": "62f1f7b88cbb95a5166e2df7798dc928",
     "grade": false,
     "grade_id": "cell-b251c8b2b89bb68c",
     "locked": true,
     "schema_version": 3,
     "solution": false,
     "task": false
    }
   },
   "source": [
    "### Ejercicio 3.2.\n",
    "\n",
    "Finalmente, el último paso antes de realizar la búsqueda de hiperparámetros es crear el objeto de tipo `GridSearchCV`. Utiliza las variables `decision_tree`, `param_grid` y `kfold` para definirlo:\n",
    "\n",
    "* Define una variable con el nombre `grid` y asígnale la función necesaria para crear un objeto de la clase `GridSearchCV`. (**Ejemplo: `grid = <<Función>>`**)\n",
    "* Utiliza el parámetro `scoring='accuracy'` para que se seleccione el mejor modelo de acuerdo con los valores de exactitud."
   ]
  },
  {
   "cell_type": "code",
   "execution_count": 22,
   "metadata": {
    "deletable": false,
    "nbgrader": {
     "cell_type": "code",
     "checksum": "334c5e0067a5868725b22e9953edf1ec",
     "grade": false,
     "grade_id": "E32",
     "locked": false,
     "schema_version": 3,
     "solution": true,
     "task": false
    }
   },
   "outputs": [],
   "source": [
    "# your code here\n",
    "grid = GridSearchCV(decision_tree, param_grid, cv=kfold, n_jobs=-1,scoring='accuracy')"
   ]
  },
  {
   "cell_type": "code",
   "execution_count": 23,
   "metadata": {
    "deletable": false,
    "editable": false,
    "nbgrader": {
     "cell_type": "code",
     "checksum": "88d38eb7951aa261b848e707dd6e93e9",
     "grade": true,
     "grade_id": "E32-tests",
     "locked": true,
     "points": 1,
     "schema_version": 3,
     "solution": false,
     "task": false
    }
   },
   "outputs": [
    {
     "name": "stdout",
     "output_type": "stream",
     "text": [
      "¡'grid' está definida correctamente!\n"
     ]
    }
   ],
   "source": [
    "#---------- Celda de Pruebas ----------\n",
    "# La variable \"grid\" existe\n",
    "# La variable \"grid\" es un objeto de la clase GridSearchCV\n",
    "# La variable \"grid\" usa la exactitud como método de selección\n",
    "#--------------------------------------\n",
    "\n",
    "# Se verifica que \"grid\" está definida\n",
    "assert grid is not None, \"Asegúrate de definir la variable \\'grid\\' correctamente.\"\n",
    "\n",
    "# Se verifica que \"grid\" es un objeto de la clase GridSearchCV\n",
    "assert type(grid) == GridSearchCV, \"La variable \\'grid\\' debe ser un objeto de la clase GridSearchCV.\"\n",
    "\n",
    "# Se verifica que \"grid\" tiene un atributo \"scoring\" igual a \"accuracy\"\n",
    "assert grid.scoring == 'accuracy', \"La variable \\'grid\\' debe usar la exactitud como método de selección.\"\n",
    "print(\"¡\\'grid\\' está definida correctamente!\")"
   ]
  },
  {
   "cell_type": "markdown",
   "metadata": {
    "deletable": false,
    "editable": false,
    "nbgrader": {
     "cell_type": "markdown",
     "checksum": "e3d2c210e0044f9e83086845cfe2fb6a",
     "grade": false,
     "grade_id": "cell-af0d479fbccb7236",
     "locked": true,
     "schema_version": 3,
     "solution": false,
     "task": false
    }
   },
   "source": [
    "### Ejercicio 3.3.\n",
    "\n",
    "A continuación, realiza la búsqueda de hiperparámetros utilizando el conjunto de entrenamiento, compuesto por las variables `x_train` y `y_train`.\n",
    "\n",
    "* Para este ejercicio no debes asignar tu resultado a ninguna variable. Es decir, solo debes ejecutar una función sobre la variable `grid`, utilizando las variables `x_train` y `y_train` como parámetros. (**Ejemplo: `grid.<<Función>>`**)"
   ]
  },
  {
   "cell_type": "code",
   "execution_count": 24,
   "metadata": {
    "deletable": false,
    "nbgrader": {
     "cell_type": "code",
     "checksum": "432e6bbc6e7be336f7583ec401a5d012",
     "grade": false,
     "grade_id": "E33",
     "locked": false,
     "schema_version": 3,
     "solution": true,
     "task": false
    }
   },
   "outputs": [
    {
     "data": {
      "text/plain": [
       "GridSearchCV(cv=KFold(n_splits=10, random_state=0, shuffle=True),\n",
       "             error_score=nan,\n",
       "             estimator=DecisionTreeClassifier(ccp_alpha=0.0, class_weight=None,\n",
       "                                              criterion='gini', max_depth=None,\n",
       "                                              max_features=None,\n",
       "                                              max_leaf_nodes=None,\n",
       "                                              min_impurity_decrease=0.0,\n",
       "                                              min_impurity_split=None,\n",
       "                                              min_samples_leaf=1,\n",
       "                                              min_samples_split=2,\n",
       "                                              min_weight_fraction_leaf=0.0,\n",
       "                                              presort='deprecated',\n",
       "                                              random_state=0, splitter='best'),\n",
       "             iid='deprecated', n_jobs=-1,\n",
       "             param_grid={'criterion': ['entropy', 'gini'],\n",
       "                         'max_depth': [2, 4, 6, 8],\n",
       "                         'min_samples_split': [2, 3, 5, 10]},\n",
       "             pre_dispatch='2*n_jobs', refit=True, return_train_score=False,\n",
       "             scoring='accuracy', verbose=0)"
      ]
     },
     "execution_count": 24,
     "metadata": {},
     "output_type": "execute_result"
    }
   ],
   "source": [
    "# your code here\n",
    "grid.fit(x_train, y_train)"
   ]
  },
  {
   "cell_type": "code",
   "execution_count": 25,
   "metadata": {
    "deletable": false,
    "editable": false,
    "nbgrader": {
     "cell_type": "code",
     "checksum": "bca9e05dbfa66c096d5ecae211625a82",
     "grade": true,
     "grade_id": "E33-tests",
     "locked": true,
     "points": 1,
     "schema_version": 3,
     "solution": false,
     "task": false
    }
   },
   "outputs": [
    {
     "name": "stdout",
     "output_type": "stream",
     "text": [
      "¡Se ha realizado la búsqueda de hiperparámetros correctamente!\n"
     ]
    }
   ],
   "source": [
    "#---------- Celda de Pruebas ----------\n",
    "# El atributo \"best_params_\" de la variable \"grid\" existe\n",
    "# El atributo \"best_estimator_\" de la variable \"grid\" existe\n",
    "#--------------------------------------\n",
    "\n",
    "# El atributo \"best_params_\" está definido\n",
    "assert grid.best_params_ is not None, \"Asegúrate de ejecutar la función de entrenamiento para generar un diccionario con los mejores hiperparámetros.\"\n",
    "\n",
    "# El atributo \"best_estimator_\" está definido\n",
    "assert grid.best_estimator_ is not None, \"Asegúrate de ejecutar la función de entrenamiento para generar un modelo de árboles de decisión.\"\n",
    "\n",
    "# Se verifica que \"grid\" haya generado tres mejores hiperparámetros\n",
    "assert len(grid.best_params_) == 3, \"Al ejecutar una función usando el objeto \\'grid\\', se deben generar tres tuplas con los hiperparámetros.\"\n",
    "\n",
    "# Se verifica que \"grid\" haya generado un modelo de árboles de decisión\n",
    "assert isinstance(grid.best_estimator_, DecisionTreeClassifier), \"Al ejecutar una función usando el objeto \\'grid\\', se debe generar un modelo de árboles de decisión.\"\n",
    "print(\"¡Se ha realizado la búsqueda de hiperparámetros correctamente!\")"
   ]
  },
  {
   "cell_type": "markdown",
   "metadata": {
    "deletable": false,
    "editable": false,
    "nbgrader": {
     "cell_type": "markdown",
     "checksum": "d8b09628164c5f0036748d5201b66158",
     "grade": false,
     "grade_id": "cell-733b624a18c030ac",
     "locked": true,
     "schema_version": 3,
     "solution": false,
     "task": false
    }
   },
   "source": [
    "Ahora obtendremos los mejores valores de los hiperparámetros usando `grid.best_params_`:"
   ]
  },
  {
   "cell_type": "code",
   "execution_count": 29,
   "metadata": {
    "deletable": false,
    "editable": false,
    "nbgrader": {
     "cell_type": "code",
     "checksum": "804d3f46401624d4099468db43253fac",
     "grade": false,
     "grade_id": "cell-25f14c67373f0722",
     "locked": true,
     "schema_version": 3,
     "solution": false,
     "task": false
    }
   },
   "outputs": [
    {
     "name": "stdout",
     "output_type": "stream",
     "text": [
      "Mejores parámetros: {'criterion': 'gini', 'max_depth': 2, 'min_samples_split': 2}\n"
     ]
    }
   ],
   "source": [
    "print(\"Mejores parámetros: {}\".format(grid.best_params_)) "
   ]
  },
  {
   "cell_type": "markdown",
   "metadata": {
    "deletable": false,
    "editable": false,
    "nbgrader": {
     "cell_type": "markdown",
     "checksum": "409f7dc6b1897e1008e11a43313ff6aa",
     "grade": false,
     "grade_id": "cell-a98356149f3ea5e0",
     "locked": true,
     "schema_version": 3,
     "solution": false,
     "task": false
    }
   },
   "source": [
    "Además, almacenaremos el mejor modelo utilizando `grid.best_estimator_`:"
   ]
  },
  {
   "cell_type": "code",
   "execution_count": 30,
   "metadata": {
    "deletable": false,
    "editable": false,
    "nbgrader": {
     "cell_type": "code",
     "checksum": "7f8a0d267efaf86024342db29754fd33",
     "grade": false,
     "grade_id": "cell-e027f06e18ad7adf",
     "locked": true,
     "schema_version": 3,
     "solution": false,
     "task": false
    }
   },
   "outputs": [],
   "source": [
    "mejor_modelo = grid.best_estimator_"
   ]
  },
  {
   "cell_type": "markdown",
   "metadata": {
    "deletable": false,
    "editable": false,
    "nbgrader": {
     "cell_type": "markdown",
     "checksum": "9846e17ad783d6fc9361f5f79b0aab17",
     "grade": false,
     "grade_id": "cell-c7899314363c487f",
     "locked": true,
     "schema_version": 3,
     "solution": false,
     "task": false
    }
   },
   "source": [
    "### Ejercicio 3.4.\n",
    "\n",
    "Utilizando el mejor modelo, obtén el arreglo de importancia de las variables utilizadas para los criterios de división.\n",
    "\n",
    "* Para este ejercicio define una variable `importancia` que debe contener un arreglo de valores representando la importancia de cada variable del mejor modelo de árbol de decisión. (**Ejemplo: `importancia = mejor_modelo.<<atributo>>`**)\n",
    "* Encontrarás dos líneas para convertir el arreglo en un DataFrame y para ordenarlo. Debes dejar estas líneas al final de la celda y no las debes modificar."
   ]
  },
  {
   "cell_type": "code",
   "execution_count": 31,
   "metadata": {
    "deletable": false,
    "nbgrader": {
     "cell_type": "code",
     "checksum": "8f272f6ab6c3475e26d20327bbb17bdb",
     "grade": false,
     "grade_id": "E34",
     "locked": false,
     "schema_version": 3,
     "solution": true,
     "task": false
    }
   },
   "outputs": [
    {
     "data": {
      "text/html": [
       "<div>\n",
       "<style scoped>\n",
       "    .dataframe tbody tr th:only-of-type {\n",
       "        vertical-align: middle;\n",
       "    }\n",
       "\n",
       "    .dataframe tbody tr th {\n",
       "        vertical-align: top;\n",
       "    }\n",
       "\n",
       "    .dataframe thead th {\n",
       "        text-align: right;\n",
       "    }\n",
       "</style>\n",
       "<table border=\"1\" class=\"dataframe\">\n",
       "  <thead>\n",
       "    <tr style=\"text-align: right;\">\n",
       "      <th></th>\n",
       "      <th>Variable</th>\n",
       "      <th>Importancia</th>\n",
       "    </tr>\n",
       "  </thead>\n",
       "  <tbody>\n",
       "    <tr>\n",
       "      <th>17</th>\n",
       "      <td>TotalWorkingYears</td>\n",
       "      <td>0.510643</td>\n",
       "    </tr>\n",
       "    <tr>\n",
       "      <th>51</th>\n",
       "      <td>OverTime_Yes</td>\n",
       "      <td>0.336951</td>\n",
       "    </tr>\n",
       "    <tr>\n",
       "      <th>49</th>\n",
       "      <td>MaritalStatus_Single</td>\n",
       "      <td>0.152406</td>\n",
       "    </tr>\n",
       "    <tr>\n",
       "      <th>38</th>\n",
       "      <td>JobRole_Healthcare Representative</td>\n",
       "      <td>0.000000</td>\n",
       "    </tr>\n",
       "    <tr>\n",
       "      <th>29</th>\n",
       "      <td>Department_Sales</td>\n",
       "      <td>0.000000</td>\n",
       "    </tr>\n",
       "    <tr>\n",
       "      <th>30</th>\n",
       "      <td>EducationField_Human Resources</td>\n",
       "      <td>0.000000</td>\n",
       "    </tr>\n",
       "    <tr>\n",
       "      <th>31</th>\n",
       "      <td>EducationField_Life Sciences</td>\n",
       "      <td>0.000000</td>\n",
       "    </tr>\n",
       "    <tr>\n",
       "      <th>32</th>\n",
       "      <td>EducationField_Marketing</td>\n",
       "      <td>0.000000</td>\n",
       "    </tr>\n",
       "    <tr>\n",
       "      <th>33</th>\n",
       "      <td>EducationField_Medical</td>\n",
       "      <td>0.000000</td>\n",
       "    </tr>\n",
       "    <tr>\n",
       "      <th>34</th>\n",
       "      <td>EducationField_Other</td>\n",
       "      <td>0.000000</td>\n",
       "    </tr>\n",
       "    <tr>\n",
       "      <th>35</th>\n",
       "      <td>EducationField_Technical Degree</td>\n",
       "      <td>0.000000</td>\n",
       "    </tr>\n",
       "    <tr>\n",
       "      <th>36</th>\n",
       "      <td>Gender_Female</td>\n",
       "      <td>0.000000</td>\n",
       "    </tr>\n",
       "    <tr>\n",
       "      <th>37</th>\n",
       "      <td>Gender_Male</td>\n",
       "      <td>0.000000</td>\n",
       "    </tr>\n",
       "    <tr>\n",
       "      <th>39</th>\n",
       "      <td>JobRole_Human Resources</td>\n",
       "      <td>0.000000</td>\n",
       "    </tr>\n",
       "    <tr>\n",
       "      <th>27</th>\n",
       "      <td>Department_Human Resources</td>\n",
       "      <td>0.000000</td>\n",
       "    </tr>\n",
       "    <tr>\n",
       "      <th>40</th>\n",
       "      <td>JobRole_Laboratory Technician</td>\n",
       "      <td>0.000000</td>\n",
       "    </tr>\n",
       "    <tr>\n",
       "      <th>41</th>\n",
       "      <td>JobRole_Manager</td>\n",
       "      <td>0.000000</td>\n",
       "    </tr>\n",
       "    <tr>\n",
       "      <th>42</th>\n",
       "      <td>JobRole_Manufacturing Director</td>\n",
       "      <td>0.000000</td>\n",
       "    </tr>\n",
       "    <tr>\n",
       "      <th>43</th>\n",
       "      <td>JobRole_Research Director</td>\n",
       "      <td>0.000000</td>\n",
       "    </tr>\n",
       "    <tr>\n",
       "      <th>44</th>\n",
       "      <td>JobRole_Research Scientist</td>\n",
       "      <td>0.000000</td>\n",
       "    </tr>\n",
       "    <tr>\n",
       "      <th>45</th>\n",
       "      <td>JobRole_Sales Executive</td>\n",
       "      <td>0.000000</td>\n",
       "    </tr>\n",
       "    <tr>\n",
       "      <th>46</th>\n",
       "      <td>JobRole_Sales Representative</td>\n",
       "      <td>0.000000</td>\n",
       "    </tr>\n",
       "    <tr>\n",
       "      <th>47</th>\n",
       "      <td>MaritalStatus_Divorced</td>\n",
       "      <td>0.000000</td>\n",
       "    </tr>\n",
       "    <tr>\n",
       "      <th>48</th>\n",
       "      <td>MaritalStatus_Married</td>\n",
       "      <td>0.000000</td>\n",
       "    </tr>\n",
       "    <tr>\n",
       "      <th>50</th>\n",
       "      <td>OverTime_No</td>\n",
       "      <td>0.000000</td>\n",
       "    </tr>\n",
       "    <tr>\n",
       "      <th>28</th>\n",
       "      <td>Department_Research &amp; Development</td>\n",
       "      <td>0.000000</td>\n",
       "    </tr>\n",
       "    <tr>\n",
       "      <th>0</th>\n",
       "      <td>Age</td>\n",
       "      <td>0.000000</td>\n",
       "    </tr>\n",
       "    <tr>\n",
       "      <th>1</th>\n",
       "      <td>DailyRate</td>\n",
       "      <td>0.000000</td>\n",
       "    </tr>\n",
       "    <tr>\n",
       "      <th>12</th>\n",
       "      <td>NumCompaniesWorked</td>\n",
       "      <td>0.000000</td>\n",
       "    </tr>\n",
       "    <tr>\n",
       "      <th>2</th>\n",
       "      <td>DistanceFromHome</td>\n",
       "      <td>0.000000</td>\n",
       "    </tr>\n",
       "    <tr>\n",
       "      <th>3</th>\n",
       "      <td>Education</td>\n",
       "      <td>0.000000</td>\n",
       "    </tr>\n",
       "    <tr>\n",
       "      <th>4</th>\n",
       "      <td>EmployeeNumber</td>\n",
       "      <td>0.000000</td>\n",
       "    </tr>\n",
       "    <tr>\n",
       "      <th>5</th>\n",
       "      <td>EnvironmentSatisfaction</td>\n",
       "      <td>0.000000</td>\n",
       "    </tr>\n",
       "    <tr>\n",
       "      <th>6</th>\n",
       "      <td>HourlyRate</td>\n",
       "      <td>0.000000</td>\n",
       "    </tr>\n",
       "    <tr>\n",
       "      <th>7</th>\n",
       "      <td>JobInvolvement</td>\n",
       "      <td>0.000000</td>\n",
       "    </tr>\n",
       "    <tr>\n",
       "      <th>8</th>\n",
       "      <td>JobLevel</td>\n",
       "      <td>0.000000</td>\n",
       "    </tr>\n",
       "    <tr>\n",
       "      <th>9</th>\n",
       "      <td>JobSatisfaction</td>\n",
       "      <td>0.000000</td>\n",
       "    </tr>\n",
       "    <tr>\n",
       "      <th>10</th>\n",
       "      <td>MonthlyIncome</td>\n",
       "      <td>0.000000</td>\n",
       "    </tr>\n",
       "    <tr>\n",
       "      <th>11</th>\n",
       "      <td>MonthlyRate</td>\n",
       "      <td>0.000000</td>\n",
       "    </tr>\n",
       "    <tr>\n",
       "      <th>13</th>\n",
       "      <td>PercentSalaryHike</td>\n",
       "      <td>0.000000</td>\n",
       "    </tr>\n",
       "    <tr>\n",
       "      <th>25</th>\n",
       "      <td>BusinessTravel_Travel_Frequently</td>\n",
       "      <td>0.000000</td>\n",
       "    </tr>\n",
       "    <tr>\n",
       "      <th>14</th>\n",
       "      <td>PerformanceRating</td>\n",
       "      <td>0.000000</td>\n",
       "    </tr>\n",
       "    <tr>\n",
       "      <th>15</th>\n",
       "      <td>RelationshipSatisfaction</td>\n",
       "      <td>0.000000</td>\n",
       "    </tr>\n",
       "    <tr>\n",
       "      <th>16</th>\n",
       "      <td>StockOptionLevel</td>\n",
       "      <td>0.000000</td>\n",
       "    </tr>\n",
       "    <tr>\n",
       "      <th>18</th>\n",
       "      <td>TrainingTimesLastYear</td>\n",
       "      <td>0.000000</td>\n",
       "    </tr>\n",
       "    <tr>\n",
       "      <th>19</th>\n",
       "      <td>WorkLifeBalance</td>\n",
       "      <td>0.000000</td>\n",
       "    </tr>\n",
       "    <tr>\n",
       "      <th>20</th>\n",
       "      <td>YearsAtCompany</td>\n",
       "      <td>0.000000</td>\n",
       "    </tr>\n",
       "    <tr>\n",
       "      <th>21</th>\n",
       "      <td>YearsInCurrentRole</td>\n",
       "      <td>0.000000</td>\n",
       "    </tr>\n",
       "    <tr>\n",
       "      <th>22</th>\n",
       "      <td>YearsSinceLastPromotion</td>\n",
       "      <td>0.000000</td>\n",
       "    </tr>\n",
       "    <tr>\n",
       "      <th>23</th>\n",
       "      <td>YearsWithCurrManager</td>\n",
       "      <td>0.000000</td>\n",
       "    </tr>\n",
       "    <tr>\n",
       "      <th>24</th>\n",
       "      <td>BusinessTravel_Non-Travel</td>\n",
       "      <td>0.000000</td>\n",
       "    </tr>\n",
       "    <tr>\n",
       "      <th>26</th>\n",
       "      <td>BusinessTravel_Travel_Rarely</td>\n",
       "      <td>0.000000</td>\n",
       "    </tr>\n",
       "  </tbody>\n",
       "</table>\n",
       "</div>"
      ],
      "text/plain": [
       "                             Variable  Importancia\n",
       "17                  TotalWorkingYears     0.510643\n",
       "51                       OverTime_Yes     0.336951\n",
       "49               MaritalStatus_Single     0.152406\n",
       "38  JobRole_Healthcare Representative     0.000000\n",
       "29                   Department_Sales     0.000000\n",
       "30     EducationField_Human Resources     0.000000\n",
       "31       EducationField_Life Sciences     0.000000\n",
       "32           EducationField_Marketing     0.000000\n",
       "33             EducationField_Medical     0.000000\n",
       "34               EducationField_Other     0.000000\n",
       "35    EducationField_Technical Degree     0.000000\n",
       "36                      Gender_Female     0.000000\n",
       "37                        Gender_Male     0.000000\n",
       "39            JobRole_Human Resources     0.000000\n",
       "27         Department_Human Resources     0.000000\n",
       "40      JobRole_Laboratory Technician     0.000000\n",
       "41                    JobRole_Manager     0.000000\n",
       "42     JobRole_Manufacturing Director     0.000000\n",
       "43          JobRole_Research Director     0.000000\n",
       "44         JobRole_Research Scientist     0.000000\n",
       "45            JobRole_Sales Executive     0.000000\n",
       "46       JobRole_Sales Representative     0.000000\n",
       "47             MaritalStatus_Divorced     0.000000\n",
       "48              MaritalStatus_Married     0.000000\n",
       "50                        OverTime_No     0.000000\n",
       "28  Department_Research & Development     0.000000\n",
       "0                                 Age     0.000000\n",
       "1                           DailyRate     0.000000\n",
       "12                 NumCompaniesWorked     0.000000\n",
       "2                    DistanceFromHome     0.000000\n",
       "3                           Education     0.000000\n",
       "4                      EmployeeNumber     0.000000\n",
       "5             EnvironmentSatisfaction     0.000000\n",
       "6                          HourlyRate     0.000000\n",
       "7                      JobInvolvement     0.000000\n",
       "8                            JobLevel     0.000000\n",
       "9                     JobSatisfaction     0.000000\n",
       "10                      MonthlyIncome     0.000000\n",
       "11                        MonthlyRate     0.000000\n",
       "13                  PercentSalaryHike     0.000000\n",
       "25   BusinessTravel_Travel_Frequently     0.000000\n",
       "14                  PerformanceRating     0.000000\n",
       "15           RelationshipSatisfaction     0.000000\n",
       "16                   StockOptionLevel     0.000000\n",
       "18              TrainingTimesLastYear     0.000000\n",
       "19                    WorkLifeBalance     0.000000\n",
       "20                     YearsAtCompany     0.000000\n",
       "21                 YearsInCurrentRole     0.000000\n",
       "22            YearsSinceLastPromotion     0.000000\n",
       "23               YearsWithCurrManager     0.000000\n",
       "24          BusinessTravel_Non-Travel     0.000000\n",
       "26       BusinessTravel_Travel_Rarely     0.000000"
      ]
     },
     "execution_count": 31,
     "metadata": {},
     "output_type": "execute_result"
    }
   ],
   "source": [
    "# your code here\n",
    "importancia = mejor_modelo.feature_importances_\n",
    "importancia_df = pd.DataFrame(data={'Variable':x_train.columns, 'Importancia':importancia})\n",
    "importancia_df.sort_values('Importancia', ascending=False)"
   ]
  },
  {
   "cell_type": "code",
   "execution_count": 32,
   "metadata": {
    "deletable": false,
    "editable": false,
    "nbgrader": {
     "cell_type": "code",
     "checksum": "866cf259b33ee8460319299309bb2b37",
     "grade": true,
     "grade_id": "E34-tests",
     "locked": true,
     "points": 1,
     "schema_version": 3,
     "solution": false,
     "task": false
    }
   },
   "outputs": [
    {
     "name": "stdout",
     "output_type": "stream",
     "text": [
      "¡'importancia' está definida correctamente!\n"
     ]
    }
   ],
   "source": [
    "#---------- Celda de Pruebas ----------\n",
    "# La variable \"importancia\" existe\n",
    "# La variable \"importancia\" es un arreglo de numpy\n",
    "# La variable \"importancia\" tiene las dimensiones correctas\n",
    "#--------------------------------------\n",
    "\n",
    "# Se verifica que \"importancia\" está definida\n",
    "assert importancia is not None, \"Asegúrate de definir la variable \\'importancia\\' correctamente.\"\n",
    "\n",
    "# Se verifica que \"importancia\" es un arreglo de numpy\n",
    "assert type(importancia) == np.ndarray, \"La variable \\'importancia\\' debe ser un arreglo de numpy.\"\n",
    "\n",
    "# Se verifica que \"importancia\" tiene las dimensiones correctas\n",
    "assert importancia.shape == (52,), \"La variable \\'importancia\\' debe tener dimensiones (52,).\"\n",
    "print(\"¡\\'importancia\\' está definida correctamente!\")"
   ]
  },
  {
   "cell_type": "markdown",
   "metadata": {
    "deletable": false,
    "editable": false,
    "nbgrader": {
     "cell_type": "markdown",
     "checksum": "1ec9c4bc7c6e7e507c961f3a53aacc3a",
     "grade": false,
     "grade_id": "cell-38479feef3c9f8ac",
     "locked": true,
     "schema_version": 3,
     "solution": false,
     "task": false
    }
   },
   "source": [
    "¿Qué variables son las más relevantes para nuestro árbol? ¿Qué variables no son utilizadas? A continuación puedes observar el árbol resultante para visualizar las importancias obtenidas:"
   ]
  },
  {
   "cell_type": "code",
   "execution_count": 33,
   "metadata": {
    "deletable": false,
    "editable": false,
    "nbgrader": {
     "cell_type": "code",
     "checksum": "761e41b29d410a94b90a36d00904b794",
     "grade": false,
     "grade_id": "cell-8564b6454bc35a81",
     "locked": true,
     "schema_version": 3,
     "solution": false,
     "task": false
    }
   },
   "outputs": [
    {
     "data": {
      "image/png": "[encoded data removed]",
      "text/plain": [
       "<Figure size 1800x720 with 1 Axes>"
      ]
     },
     "metadata": {
      "needs_background": "light"
     },
     "output_type": "display_data"
    }
   ],
   "source": [
    "plt.figure(figsize=(25,10))\n",
    "tree = plot_tree(mejor_modelo, feature_names=x_train.columns, class_names=['No','Yes'], filled=True, fontsize=9)"
   ]
  },
  {
   "cell_type": "markdown",
   "metadata": {
    "deletable": false,
    "editable": false,
    "nbgrader": {
     "cell_type": "markdown",
     "checksum": "d86edd6496802c02caaab68e09bcf77b",
     "grade": false,
     "grade_id": "cell-681947a6f969c413",
     "locked": true,
     "schema_version": 3,
     "solution": false,
     "task": false
    }
   },
   "source": [
    "## 4. Evaluación del modelo\n",
    "\n",
    "Por último, evaluarás el modelo entrenado utilizando el conjunto de prueba.\n",
    "\n",
    "### Ejercicio 4.1.\n",
    "\n",
    "Separa las variables independientes y la variable objetivo en el conjunto de pruebas. Para ello, utiliza Pandas para crear dos variables, `x_test` y `y_test`, que almacenarán las variables independientes y la variable objetivo, respectivamente.\n",
    "\n",
    "* Crea una variable con nombre `x_test` y asígnale la operación necesaria para almacenar solo las variables independientes del conjunto de pruebas. (**Ejemplo: `x_test = test.<<Función>>`**)\n",
    "* Crea una variable con nombre `y_test` y asígnale la operación necesaria para almacenar la variable objetivo del conjunto de pruebas. (**Ejemplo: `y_test = <<Consulta>>`**)"
   ]
  },
  {
   "cell_type": "code",
   "execution_count": 36,
   "metadata": {
    "deletable": false,
    "nbgrader": {
     "cell_type": "code",
     "checksum": "0e7fcda78ad34849ea4cfd21c22c043f",
     "grade": false,
     "grade_id": "E41",
     "locked": false,
     "schema_version": 3,
     "solution": true,
     "task": false
    }
   },
   "outputs": [],
   "source": [
    "# Tu respuesta deben ser dos líneas consecutivas:\n",
    "#    x_test = test.<<Función>>\n",
    "#    y_test = <<Consulta>>\n",
    "# your code here\n",
    "x_test = test.drop(['Attrition'],axis=1)\n",
    "y_test = test['Attrition']"
   ]
  },
  {
   "cell_type": "code",
   "execution_count": 37,
   "metadata": {
    "deletable": false,
    "editable": false,
    "nbgrader": {
     "cell_type": "code",
     "checksum": "16ca8a94c3ed9b47457159c22eafd941",
     "grade": true,
     "grade_id": "E41-tests",
     "locked": true,
     "points": 1,
     "schema_version": 3,
     "solution": false,
     "task": false
    }
   },
   "outputs": [
    {
     "name": "stdout",
     "output_type": "stream",
     "text": [
      "¡Los conjuntos 'x_test' y 'y_test' tienen las dimensiones correctas!\n"
     ]
    }
   ],
   "source": [
    "#---------- Celda de Pruebas ----------\n",
    "# Las variables existen\n",
    "# La variable \"x_test\" es un DataFrame\n",
    "# La variable \"y_test\" es una Serie de Pandas\n",
    "# Las variables tienen las dimensiones correctas\n",
    "#--------------------------------------\n",
    "\n",
    "# Se verifica que las variables están definidas\n",
    "assert x_test is not None, \"Asegúrate de definir la variable con el nombre correcto.\"\n",
    "assert y_test is not None, \"Asegúrate de definir la variable con el nombre correcto.\"\n",
    "\n",
    "# Se verifica que \"x_test\" sea un DataFrame\n",
    "assert isinstance(x_test, pd.DataFrame), \"El resultado debe ser un DataFrame.\"\n",
    "\n",
    "# Se verifica que \"y_test\" sea una Serie\n",
    "assert isinstance(y_test, pd.Series), \"El resultado debe ser una Serie de Pandas.\"\n",
    "\n",
    "# Se evalúan las dimensiones de las variables\n",
    "assert x_test.shape == (294,52), \"\\'x_test\\' debe tener el mismo número de filas pero una columna menos que \\'test\\'.\"\n",
    "assert y_test.shape == (294,), \"\\'y_test\\' solamente contiene una columna.\"\n",
    "print(\"¡Los conjuntos \\'x_test\\' y \\'y_test\\' tienen las dimensiones correctas!\")"
   ]
  },
  {
   "cell_type": "markdown",
   "metadata": {
    "deletable": false,
    "editable": false,
    "nbgrader": {
     "cell_type": "markdown",
     "checksum": "cb4d9c5dfabca50a03d77b2875eb6f04",
     "grade": false,
     "grade_id": "cell-317d208959bc3242",
     "locked": true,
     "schema_version": 3,
     "solution": false,
     "task": false
    }
   },
   "source": [
    "### Ejercicio 4.2.\n",
    "\n",
    "Con el conjunto de pruebas preparado, realiza predicciones con el fin de compararlas con los valores reales almacenados en `y_test`.\n",
    "\n",
    "* Utiliza la variable `mejor_modelo` para realizar las predicciones sobre el mejor modelo. Asigna el resultado a una variable con nombre `y_pred` (**Ejemplo: `y_pred = mejor_modelo.<<Función>>`**)."
   ]
  },
  {
   "cell_type": "code",
   "execution_count": 38,
   "metadata": {
    "deletable": false,
    "nbgrader": {
     "cell_type": "code",
     "checksum": "8207d8c364c4c9c4112412066124625b",
     "grade": false,
     "grade_id": "E42",
     "locked": false,
     "schema_version": 3,
     "solution": true,
     "task": false
    }
   },
   "outputs": [],
   "source": [
    "# your code here\n",
    "y_pred = mejor_modelo.predict(x_test)"
   ]
  },
  {
   "cell_type": "code",
   "execution_count": 39,
   "metadata": {
    "deletable": false,
    "editable": false,
    "nbgrader": {
     "cell_type": "code",
     "checksum": "c68da3a46331baadafc03e418fcf1a5c",
     "grade": true,
     "grade_id": "E42-tests",
     "locked": true,
     "points": 1,
     "schema_version": 3,
     "solution": false,
     "task": false
    }
   },
   "outputs": [
    {
     "name": "stdout",
     "output_type": "stream",
     "text": [
      "¡'y_pred' es un arreglo con las dimensiones correctas!\n"
     ]
    }
   ],
   "source": [
    "#---------- Celda de Pruebas ----------\n",
    "# La variable \"y_pred\" existe\n",
    "# La variable \"y_pred\" es un arreglo\n",
    "# La variable \"y_pred\" tiene las dimensiones correctas\n",
    "#--------------------------------------\n",
    "\n",
    "# Se verifica que \"y_pred\" está definida\n",
    "assert y_pred is not None, \"Asegúrate de definir la variable con el nombre correcto.\"\n",
    "\n",
    "# Se verifica que \"y_pred\" sea un arreglo\n",
    "assert isinstance(y_pred, np.ndarray), \"El resultado debe ser un arreglo de Numpy.\"\n",
    "\n",
    "# Se evalúan las dimensiones de \"y_pred\"\n",
    "assert y_pred.shape == (294,), \"\\'y_pred\\' debe tener el mismo número de filas (predicciones) que \\'x_test\\' y \\'y_test\\'.\"\n",
    "print(\"¡\\'y_pred\\' es un arreglo con las dimensiones correctas!\")"
   ]
  },
  {
   "cell_type": "markdown",
   "metadata": {
    "deletable": false,
    "editable": false,
    "nbgrader": {
     "cell_type": "markdown",
     "checksum": "b7187b590521fd8812c9ec2e5074a066",
     "grade": false,
     "grade_id": "cell-9fb13f41b4a0843c",
     "locked": true,
     "schema_version": 3,
     "solution": false,
     "task": false
    }
   },
   "source": [
    "### Ejercicio 4.3.\n",
    "\n",
    "Utiliza el conjunto de predicciones `y_pred` y el conjunto de valores reales `y_test` para obtener la matriz de confusión del mejor modelo.\n",
    "\n",
    "* Haz un llamado a la función que retorna la matriz de confusión como un arreglo. Asigna el resultado a una nueva variable con el nombre `p43` (**Ejemplo: `p43 = <<Función>>`**).\n",
    "* Encontrarás la línea `p43` al final de la celda. Esta línea se usa para que puedas visualizar la matriz resultante, por lo que no la debes modificar."
   ]
  },
  {
   "cell_type": "code",
   "execution_count": 40,
   "metadata": {
    "deletable": false,
    "nbgrader": {
     "cell_type": "code",
     "checksum": "420eb659de723300f175291cdd2917d1",
     "grade": false,
     "grade_id": "E43",
     "locked": false,
     "schema_version": 3,
     "solution": true,
     "task": false
    }
   },
   "outputs": [],
   "source": [
    "# your code here\n",
    "\n",
    "p43 = confusion_matrix(y_test, y_pred)"
   ]
  },
  {
   "cell_type": "code",
   "execution_count": 41,
   "metadata": {
    "deletable": false,
    "editable": false,
    "nbgrader": {
     "cell_type": "code",
     "checksum": "b19bb94483b618405d9d34216a292355",
     "grade": true,
     "grade_id": "E43-tests",
     "locked": true,
     "points": 1,
     "schema_version": 3,
     "solution": false,
     "task": false
    }
   },
   "outputs": [
    {
     "name": "stdout",
     "output_type": "stream",
     "text": [
      "¡'p43' es un arreglo con las dimensiones correctas!\n"
     ]
    }
   ],
   "source": [
    "#---------- Celda de Pruebas ----------\n",
    "# La variable \"p43\" existe\n",
    "# La variable \"p43\" es un arreglo de numpy\n",
    "# La variable \"p43\" tiene las dimensiones correctas\n",
    "#--------------------------------------\n",
    "\n",
    "# Se verifica que \"p43\" está definida\n",
    "assert p43 is not None, \"Asegúrate de definir la variable con el nombre correcto.\"\n",
    "\n",
    "# Se verifica que \"p43\" sea un arreglo de numpy\n",
    "assert isinstance(p43, np.ndarray), \"El resultado debe ser un arreglo de Numpy.\"\n",
    "\n",
    "# Se evalúan las dimensiones de \"p43\"\n",
    "assert p43.shape == (2,2), \"\\'p43\\' debe tener dos filas y dos columnas, equivalente al número de clases del problema.\"\n",
    "print(\"¡\\'p43\\' es un arreglo con las dimensiones correctas!\")"
   ]
  },
  {
   "cell_type": "markdown",
   "metadata": {
    "deletable": false,
    "editable": false,
    "nbgrader": {
     "cell_type": "markdown",
     "checksum": "77c9dde677906d9ff31995bbd24d1ba2",
     "grade": false,
     "grade_id": "cell-c41a7d96d120c76d",
     "locked": true,
     "schema_version": 3,
     "solution": false,
     "task": false
    }
   },
   "source": [
    "### Ejercicio 4.4.\n",
    "\n",
    "Finalmente, obtén cuatro métricas de rendimiento utilizando las predicciones del modelo.\n",
    "\n",
    "#### Ejercicio 4.4.1.\n",
    "\n",
    "Utiliza `scikit-learn` para obtener la exactitud (accuracy).\n",
    "\n",
    "* Define una variable con el nombre `accuracy` y asígnale la función necesaria para obtener la exactitud (`accuracy = <<Función>>`).\n",
    "* Encontrarás una línea que mostrará tu resultado. Esta línea debe ir al final y no la debes modificar."
   ]
  },
  {
   "cell_type": "code",
   "execution_count": 42,
   "metadata": {
    "deletable": false,
    "nbgrader": {
     "cell_type": "code",
     "checksum": "d8a288083899f685163931af69055641",
     "grade": false,
     "grade_id": "E441",
     "locked": false,
     "schema_version": 3,
     "solution": true,
     "task": false
    }
   },
   "outputs": [
    {
     "name": "stdout",
     "output_type": "stream",
     "text": [
      "Exactitud:  0.8299319727891157\n"
     ]
    }
   ],
   "source": [
    "# your code here\n",
    "\n",
    "accuracy = accuracy_score(y_test, y_pred)\n",
    "\n",
    "print(\"Exactitud: \", accuracy)"
   ]
  },
  {
   "cell_type": "code",
   "execution_count": 43,
   "metadata": {
    "deletable": false,
    "editable": false,
    "nbgrader": {
     "cell_type": "code",
     "checksum": "95df688f746a5fa710178878d5d669e5",
     "grade": true,
     "grade_id": "E441-tests",
     "locked": true,
     "points": 1,
     "schema_version": 3,
     "solution": false,
     "task": false
    }
   },
   "outputs": [
    {
     "name": "stdout",
     "output_type": "stream",
     "text": [
      "¡'accuracy' es un número válido!\n"
     ]
    }
   ],
   "source": [
    "#---------- Celda de Pruebas ----------\n",
    "# La variable \"accuracy\" existe\n",
    "# La variable \"accuracy\" es un número\n",
    "# La variable \"accuracy\" tiene un valor válido\n",
    "#--------------------------------------\n",
    "\n",
    "# Se verifica que \"accuracy\" está definida\n",
    "assert accuracy is not None, \"Asegúrate de definir la variable con el nombre correcto.\"\n",
    "\n",
    "# Se verifica que \"accuracy\" sea un número\n",
    "assert isinstance(accuracy, np.float64) or isinstance(accuracy, float), \"El resultado debe ser un número decimal.\"\n",
    "\n",
    "# Se verifica que \"accuracy\" tiene un valor válido\n",
    "assert accuracy >= 0 and accuracy <= 1, \"\\'accuracy\\' debe tener un valor entre 0 y 1.\"\n",
    "print(\"¡\\'accuracy\\' es un número válido!\")"
   ]
  },
  {
   "cell_type": "markdown",
   "metadata": {
    "deletable": false,
    "editable": false,
    "nbgrader": {
     "cell_type": "markdown",
     "checksum": "2880cde298bd5fa8812cbec6dcb12bf3",
     "grade": false,
     "grade_id": "cell-280cf38c2623b5fd",
     "locked": true,
     "schema_version": 3,
     "solution": false,
     "task": false
    }
   },
   "source": [
    "#### Ejercicio 4.4.2.\n",
    "\n",
    "Utiliza `scikit-learn` para obtener la sensibilidad (recall).\n",
    "\n",
    "* Define una variable con el nombre `recall` y asígnale la función necesaria para obtener la sensibilidad (`recall = <<Función>>`).\n",
    "* Encontrarás una línea que mostrará tu resultado. Esta línea debe ir al final y no la debes modificar."
   ]
  },
  {
   "cell_type": "code",
   "execution_count": 44,
   "metadata": {
    "deletable": false,
    "nbgrader": {
     "cell_type": "code",
     "checksum": "549605ae7092c75ec58df4b3b30a7c58",
     "grade": false,
     "grade_id": "E442",
     "locked": false,
     "schema_version": 3,
     "solution": true,
     "task": false
    }
   },
   "outputs": [
    {
     "name": "stdout",
     "output_type": "stream",
     "text": [
      "Sensibilidad:  0.8299319727891157\n"
     ]
    }
   ],
   "source": [
    "# your code here\n",
    "recall = recall_score(y_test, y_pred, average='weighted')\n",
    "print(\"Sensibilidad: \", recall)"
   ]
  },
  {
   "cell_type": "code",
   "execution_count": 45,
   "metadata": {
    "deletable": false,
    "editable": false,
    "nbgrader": {
     "cell_type": "code",
     "checksum": "b9dd741b769a03a3dc681fa9c3478947",
     "grade": true,
     "grade_id": "E442-tests",
     "locked": true,
     "points": 1,
     "schema_version": 3,
     "solution": false,
     "task": false
    }
   },
   "outputs": [
    {
     "name": "stdout",
     "output_type": "stream",
     "text": [
      "¡'recall' es un número válido!\n"
     ]
    }
   ],
   "source": [
    "#---------- Celda de Pruebas ----------\n",
    "# La variable \"recall\" existe\n",
    "# La variable \"recall\" es un número\n",
    "# La variable \"recall\" tiene un valor válido\n",
    "#--------------------------------------\n",
    "\n",
    "# Se verifica que \"recall\" está definida\n",
    "assert recall is not None, \"Asegúrate de definir la variable con el nombre correcto.\"\n",
    "\n",
    "# Se verifica que \"recall\" sea un número\n",
    "assert isinstance(recall, np.float64) or isinstance(recall, float), \"El resultado debe ser un número decimal.\"\n",
    "\n",
    "# Se verifica que \"recall\" tiene un valor válido\n",
    "assert recall >= 0 and recall <= 1, \"\\'recall\\' debe tener un valor entre 0 y 1.\"\n",
    "print(\"¡\\'recall\\' es un número válido!\")"
   ]
  },
  {
   "cell_type": "markdown",
   "metadata": {
    "deletable": false,
    "editable": false,
    "nbgrader": {
     "cell_type": "markdown",
     "checksum": "7eddf1ec680125053a2905505b94b679",
     "grade": false,
     "grade_id": "cell-d102f59868e86cca",
     "locked": true,
     "schema_version": 3,
     "solution": false,
     "task": false
    }
   },
   "source": [
    "#### Ejercicio 4.4.3.\n",
    "\n",
    "Utiliza `scikit-learn` para obtener la precisión.\n",
    "\n",
    "* Define una variable con el nombre `precision` y asígnale la función necesaria para obtener la precisión (`precision = <<Función>>`).\n",
    "* Encontrarás una línea que mostrará tu resultado. Esta línea debe ir al final y no la debes modificar."
   ]
  },
  {
   "cell_type": "code",
   "execution_count": 46,
   "metadata": {
    "deletable": false,
    "nbgrader": {
     "cell_type": "code",
     "checksum": "e918650e71d9edeb55453a0bf47a7c31",
     "grade": false,
     "grade_id": "E443",
     "locked": false,
     "schema_version": 3,
     "solution": true,
     "task": false
    }
   },
   "outputs": [
    {
     "name": "stdout",
     "output_type": "stream",
     "text": [
      "Precisión:  0.7711962833914053\n"
     ]
    }
   ],
   "source": [
    "# your code here\n",
    "precision = precision_score(y_test, y_pred, average='weighted')\n",
    "print('Precisión: ', precision)"
   ]
  },
  {
   "cell_type": "code",
   "execution_count": 47,
   "metadata": {
    "deletable": false,
    "editable": false,
    "nbgrader": {
     "cell_type": "code",
     "checksum": "21bf49807c6061c96f7bf12e02440dd9",
     "grade": true,
     "grade_id": "E443-tests",
     "locked": true,
     "points": 1,
     "schema_version": 3,
     "solution": false,
     "task": false
    }
   },
   "outputs": [
    {
     "name": "stdout",
     "output_type": "stream",
     "text": [
      "¡'precision' es un número válido!\n"
     ]
    }
   ],
   "source": [
    "#---------- Celda de Pruebas ----------\n",
    "# La variable \"precision\" existe\n",
    "# La variable \"precision\" es un número\n",
    "# La variable \"precision\" tiene un valor válido\n",
    "#--------------------------------------\n",
    "\n",
    "# Se verifica que \"precision\" está definida\n",
    "assert precision is not None, \"Asegúrate de definir la variable con el nombre correcto.\"\n",
    "\n",
    "# Se verifica que \"precision\" sea un número\n",
    "assert isinstance(precision, np.float64) or isinstance(precision, float), \"El resultado debe ser un número decimal.\"\n",
    "\n",
    "# Se verifica que \"precision\" tiene un valor válido\n",
    "assert precision >= 0 and precision <= 1, \"\\'precision\\' debe tener un valor entre 0 y 1.\"\n",
    "print(\"¡\\'precision\\' es un número válido!\")"
   ]
  },
  {
   "cell_type": "markdown",
   "metadata": {
    "deletable": false,
    "editable": false,
    "nbgrader": {
     "cell_type": "markdown",
     "checksum": "62319d6b4e959637babdba04c88b8851",
     "grade": false,
     "grade_id": "cell-d91aa57104e33826",
     "locked": true,
     "schema_version": 3,
     "solution": false,
     "task": false
    }
   },
   "source": [
    "#### Ejercicio 4.4.4.\n",
    "\n",
    "Utiliza `scikit-learn` para obtener el F1-Score.\n",
    "\n",
    "* Define una variable con el nombre `f1_score` y asígnale la función necesaria para obtener el F1-Score (`f1_score = <<Función>>`).\n",
    "* Encontrarás una línea que mostrará tu resultado. Esta línea debe ir al final y no la debes modificar."
   ]
  },
  {
   "cell_type": "code",
   "execution_count": 50,
   "metadata": {
    "deletable": false,
    "nbgrader": {
     "cell_type": "code",
     "checksum": "f1618d57d635b5ab7949b49197feb4d3",
     "grade": false,
     "grade_id": "E444",
     "locked": false,
     "schema_version": 3,
     "solution": true,
     "task": false
    }
   },
   "outputs": [
    {
     "name": "stdout",
     "output_type": "stream",
     "text": [
      "F1-Score:  0.7728696741854636\n"
     ]
    }
   ],
   "source": [
    "# your code here\n",
    "f1_score = f1_score(y_test, y_pred, average='weighted')\n",
    "print('F1-Score: ', f1_score)"
   ]
  },
  {
   "cell_type": "code",
   "execution_count": 51,
   "metadata": {
    "deletable": false,
    "editable": false,
    "nbgrader": {
     "cell_type": "code",
     "checksum": "75ce4292cf789c5e5d2491b33d19b512",
     "grade": true,
     "grade_id": "E444-tests",
     "locked": true,
     "points": 1,
     "schema_version": 3,
     "solution": false,
     "task": false
    }
   },
   "outputs": [
    {
     "name": "stdout",
     "output_type": "stream",
     "text": [
      "¡'f1_score' es un número válido!\n"
     ]
    }
   ],
   "source": [
    "#---------- Celda de Pruebas ----------\n",
    "# La variable \"f1_score\" existe\n",
    "# La variable \"f1_score\" es un número\n",
    "# La variable \"f1_score\" tiene un valor válido\n",
    "#--------------------------------------\n",
    "\n",
    "# Se verifica que \"f1_score\" está definida\n",
    "assert f1_score is not None, \"Asegúrate de definir la variable con el nombre correcto.\"\n",
    "\n",
    "# Se verifica que \"f1_score\" sea un número\n",
    "assert isinstance(f1_score, np.float64) or isinstance(f1_score, float), \"El resultado debe ser un número decimal.\"\n",
    "\n",
    "# Se verifica que \"f1_score\" tiene un valor válido\n",
    "assert f1_score >= 0 and f1_score <= 1, \"\\'f1_score\\' debe tener un valor entre 0 y 1.\"\n",
    "print(\"¡\\'f1_score\\' es un número válido!\")"
   ]
  },
  {
   "cell_type": "markdown",
   "metadata": {
    "deletable": false,
    "editable": false,
    "nbgrader": {
     "cell_type": "markdown",
     "checksum": "ae7873c5056ebc4e4fa9216a351e57bd",
     "grade": false,
     "grade_id": "cell-aab4775875b84eff",
     "locked": true,
     "schema_version": 3,
     "solution": false,
     "task": false
    }
   },
   "source": [
    "## Cierre\n",
    "\n",
    "Al realizar los ejercicios de este taller, has reforzado tus capacidades para realizar una búsqueda exhaustiva de hiperparámetros, visualizar la importancia de las variables y el árbol resultante, además de evaluar el modelo utilizando la matriz de confusión y cuatro métricas de rendimiento. \n",
    "\n",
    "---\n",
    "*Creado por: Nicolás Díaz*  \n",
    "*Revisado por: Haydemar Nuñez*  \n",
    "*Versión de: Agosto 31, 2023*  \n",
    "*Universidad de los Andes*   "
   ]
  }
 ],
 "metadata": {
  "kernelspec": {
   "display_name": "Python 3",
   "language": "python",
   "name": "python3"
  },
  "language_info": {
   "codemirror_mode": {
    "name": "ipython",
    "version": 3
   },
   "file_extension": ".py",
   "mimetype": "text/x-python",
   "name": "python",
   "nbconvert_exporter": "python",
   "pygments_lexer": "ipython3",
   "version": "3.7.6"
  }
 },
 "nbformat": 4,
 "nbformat_minor": 4
}
