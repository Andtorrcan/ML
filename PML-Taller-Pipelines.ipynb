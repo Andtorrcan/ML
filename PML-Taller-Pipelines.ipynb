{
 "cells": [
  {
   "cell_type": "markdown",
   "metadata": {
    "deletable": false,
    "editable": false,
    "nbgrader": {
     "cell_type": "markdown",
     "checksum": "b11833a09a1eefa7e3364a3f7d3c28d5",
     "grade": false,
     "grade_id": "cell-c065870f1e0164c0",
     "locked": true,
     "schema_version": 3,
     "solution": false,
     "task": false
    }
   },
   "source": [
    "# Un problema de árboles de decisión y pipelines\n",
    "\n",
    "En este taller estudiarás conceptos mostrados en los tutoriales de \"Solución de problemas con pipelines\" para el preprocesamiento y búsqueda de hiperparámetros, utilizando el conjunto de datos correspondiente al desempeño y desgaste de empleados. Particularmente, realizarás los siguientes procesos:\n",
    "\n",
    "1. Cargar un conjunto de datos.\n",
    "2. Definir los pasos del preprocesamiento.\n",
    "3. Realizar la búsqueda de hiperparámetros con un pipeline.\n",
    "4. Evaluar el mejor modelo resultante.\n",
    "\n",
    "Entonces, dadas algunas características en áreas como la educación, trabajos previos, salario, entre otras, queremos clasificar a un empleado como agotado (con bajo desempeño) o no. Antes de iniciar, vamos a importar las librerías necesarias:"
   ]
  },
  {
   "cell_type": "code",
   "execution_count": 2,
   "metadata": {
    "deletable": false,
    "editable": false,
    "nbgrader": {
     "cell_type": "code",
     "checksum": "0523251467eee903d02ed75aceffcb96",
     "grade": false,
     "grade_id": "cell-7d8b1d93a328f31e",
     "locked": true,
     "schema_version": 3,
     "solution": false,
     "task": false
    }
   },
   "outputs": [],
   "source": [
    "import pandas as pd\n",
    "import matplotlib.pyplot as plt\n",
    "import numpy as np\n",
    "\n",
    "from sklearn.pipeline import Pipeline\n",
    "from sklearn.impute import SimpleImputer\n",
    "from sklearn.compose import ColumnTransformer\n",
    "from sklearn.preprocessing import OneHotEncoder\n",
    "from sklearn.tree import DecisionTreeClassifier\n",
    "from sklearn.model_selection import train_test_split, KFold, GridSearchCV\n",
    "from sklearn.metrics import accuracy_score, precision_score, recall_score, f1_score\n",
    "from sklearn.metrics import confusion_matrix, classification_report"
   ]
  },
  {
   "cell_type": "markdown",
   "metadata": {
    "deletable": false,
    "editable": false,
    "nbgrader": {
     "cell_type": "markdown",
     "checksum": "68700570dbe2bd6f2379590a15070fff",
     "grade": false,
     "grade_id": "cell-d478be0cf0074e7c",
     "locked": true,
     "schema_version": 3,
     "solution": false,
     "task": false
    }
   },
   "source": [
    "## 1. Carga de datos\n",
    "\n",
    "Con las librerías importadas, realizaremos la carga del conjunto de datos:\n",
    "\n",
    "### Ejercicio 1.1.\n",
    "\n",
    "Utiliza Pandas para importar el archivo que contiene el conjunto de datos de desgaste de empleados.\n",
    "\n",
    "* La ruta del archivo .csv es: `./data/EmployeeAttrition.csv`, y ya se encuentra en el entorno de Coursera, solo debes importarlo.\n",
    "* La variable resultante debe tener el nombre `data_raw`, que representa el conjunto de datos sin modificar."
   ]
  },
  {
   "cell_type": "code",
   "execution_count": 3,
   "metadata": {
    "deletable": false,
    "nbgrader": {
     "cell_type": "code",
     "checksum": "27cbbc8f71555fc8e730e8eb6b02167e",
     "grade": false,
     "grade_id": "E11",
     "locked": false,
     "schema_version": 3,
     "solution": true,
     "task": false
    }
   },
   "outputs": [],
   "source": [
    "ruta = './data/Employee-Attrition.csv'\n",
    "# your code here\n",
    "data_raw = pd.read_csv(ruta, sep=',')"
   ]
  },
  {
   "cell_type": "code",
   "execution_count": 4,
   "metadata": {
    "deletable": false,
    "editable": false,
    "nbgrader": {
     "cell_type": "code",
     "checksum": "dd2add5b150d7f1bf8ea5ffc5980f100",
     "grade": true,
     "grade_id": "E11-tests",
     "locked": true,
     "points": 1,
     "schema_version": 3,
     "solution": false,
     "task": false
    }
   },
   "outputs": [
    {
     "name": "stdout",
     "output_type": "stream",
     "text": [
      "¡Los datos tienen las dimensiones correctas!\n"
     ]
    }
   ],
   "source": [
    "#---------- Celda de Pruebas ----------\n",
    "# El resultado existe\n",
    "# El resultado es un DataFrame\n",
    "# El resultado tiene las dimensiones correctas\n",
    "#--------------------------------------\n",
    "\n",
    "# Se verifica que la variable exista\n",
    "assert data_raw is not None, \"Asegúrate de definir la variable \\'data_raw\\' igualándola a una función de Pandas para leer el archivo.\"\n",
    "\n",
    "# Se verifica que sea un DataFrame\n",
    "assert isinstance(data_raw, pd.DataFrame), \"El resultado debe ser un DataFrame.\"\n",
    "\n",
    "# Se evalúan las dimensiones de la variable\n",
    "assert data_raw.shape == (1470,32), \"¿Verificaste que la ruta del archivo CSV y el nombre de la variable son correctos?\"\n",
    "print(\"¡Los datos tienen las dimensiones correctas!\")"
   ]
  },
  {
   "cell_type": "markdown",
   "metadata": {
    "deletable": false,
    "editable": false,
    "nbgrader": {
     "cell_type": "markdown",
     "checksum": "4f740dbf888295fa84ee025a2e27af4c",
     "grade": false,
     "grade_id": "cell-4b7c64b079903518",
     "locked": true,
     "schema_version": 3,
     "solution": false,
     "task": false
    }
   },
   "source": [
    "## 2. Definición de pasos del preprocesamiento\n",
    "\n",
    "Primero vamos a definir la variable `data` para almacenar un conjunto de datos modificado:"
   ]
  },
  {
   "cell_type": "code",
   "execution_count": 5,
   "metadata": {
    "deletable": false,
    "editable": false,
    "nbgrader": {
     "cell_type": "code",
     "checksum": "d51ed072c626c66aed5f9312b3f6307d",
     "grade": false,
     "grade_id": "cell-cc52690afff7f7cc",
     "locked": true,
     "schema_version": 3,
     "solution": false,
     "task": false
    }
   },
   "outputs": [],
   "source": [
    "data = data_raw.copy()"
   ]
  },
  {
   "cell_type": "markdown",
   "metadata": {
    "deletable": false,
    "editable": false,
    "nbgrader": {
     "cell_type": "markdown",
     "checksum": "478d6db66db2149046f21cbd48d91c22",
     "grade": false,
     "grade_id": "cell-984e0a495d91fddc",
     "locked": true,
     "schema_version": 3,
     "solution": false,
     "task": false
    }
   },
   "source": [
    "Eliminaremos la variable `EmployeeNumber`, correspondiente al identificador del empleado:"
   ]
  },
  {
   "cell_type": "code",
   "execution_count": 6,
   "metadata": {
    "deletable": false,
    "editable": false,
    "nbgrader": {
     "cell_type": "code",
     "checksum": "e52a3692e6198b8dcced194a68ecdc1f",
     "grade": false,
     "grade_id": "cell-0c07396b8c14da4d",
     "locked": true,
     "schema_version": 3,
     "solution": false,
     "task": false
    }
   },
   "outputs": [],
   "source": [
    "data = data.drop('EmployeeNumber', axis=1)"
   ]
  },
  {
   "cell_type": "markdown",
   "metadata": {
    "deletable": false,
    "editable": false,
    "nbgrader": {
     "cell_type": "markdown",
     "checksum": "701de8060ac6c802ddba8b5fd455d9d5",
     "grade": false,
     "grade_id": "cell-df726dac1a82cd88",
     "locked": true,
     "schema_version": 3,
     "solution": false,
     "task": false
    }
   },
   "source": [
    "A continuación verificaremos si hay filas duplicadas:"
   ]
  },
  {
   "cell_type": "code",
   "execution_count": 7,
   "metadata": {
    "deletable": false,
    "editable": false,
    "nbgrader": {
     "cell_type": "code",
     "checksum": "1ad29c4ac79af4b104d14d7103819e97",
     "grade": false,
     "grade_id": "cell-c503b41ec11c2d12",
     "locked": true,
     "schema_version": 3,
     "solution": false,
     "task": false
    }
   },
   "outputs": [
    {
     "data": {
      "text/plain": [
       "0"
      ]
     },
     "execution_count": 7,
     "metadata": {},
     "output_type": "execute_result"
    }
   ],
   "source": [
    "data.duplicated().sum()"
   ]
  },
  {
   "cell_type": "markdown",
   "metadata": {
    "deletable": false,
    "editable": false,
    "nbgrader": {
     "cell_type": "markdown",
     "checksum": "f3d63c16c5a410ce1e62171223defcd8",
     "grade": false,
     "grade_id": "cell-df3200e4690fb112",
     "locked": true,
     "schema_version": 3,
     "solution": false,
     "task": false
    }
   },
   "source": [
    "Además, verificaremos si hay valores faltantes:"
   ]
  },
  {
   "cell_type": "code",
   "execution_count": 8,
   "metadata": {
    "deletable": false,
    "editable": false,
    "nbgrader": {
     "cell_type": "code",
     "checksum": "3b393938fb17052315d15fe237882cca",
     "grade": false,
     "grade_id": "cell-b48e77181586c4da",
     "locked": true,
     "schema_version": 3,
     "solution": false,
     "task": false
    }
   },
   "outputs": [
    {
     "data": {
      "text/plain": [
       "Age                         20\n",
       "Attrition                    0\n",
       "BusinessTravel              41\n",
       "DailyRate                   18\n",
       "Department                  37\n",
       "DistanceFromHome             0\n",
       "Education                   39\n",
       "EducationField              53\n",
       "EnvironmentSatisfaction     19\n",
       "Gender                      58\n",
       "HourlyRate                  31\n",
       "JobInvolvement               6\n",
       "JobLevel                    47\n",
       "JobRole                     53\n",
       "JobSatisfaction             33\n",
       "MaritalStatus               46\n",
       "MonthlyIncome               36\n",
       "MonthlyRate                 59\n",
       "NumCompaniesWorked          60\n",
       "OverTime                    55\n",
       "PercentSalaryHike           23\n",
       "PerformanceRating           56\n",
       "RelationshipSatisfaction     3\n",
       "StockOptionLevel             5\n",
       "TotalWorkingYears           11\n",
       "TrainingTimesLastYear       63\n",
       "WorkLifeBalance              6\n",
       "YearsAtCompany              11\n",
       "YearsInCurrentRole          71\n",
       "YearsSinceLastPromotion     70\n",
       "YearsWithCurrManager        32\n",
       "dtype: int64"
      ]
     },
     "execution_count": 8,
     "metadata": {},
     "output_type": "execute_result"
    }
   ],
   "source": [
    "data.isna().sum()"
   ]
  },
  {
   "cell_type": "markdown",
   "metadata": {
    "deletable": false,
    "editable": false,
    "nbgrader": {
     "cell_type": "markdown",
     "checksum": "f4cfc05d3b9e1d8fa42bfd856f1c802e",
     "grade": false,
     "grade_id": "cell-a82e3ce8ecd7d01f",
     "locked": true,
     "schema_version": 3,
     "solution": false,
     "task": false
    }
   },
   "source": [
    "### Ejercicio 2.1.\n",
    "\n",
    "Primero vamos a dividir el conjunto de datos en entrenamiento y pruebas. Usando el 80% de los datos para entrenar el modelo y el 20% restante para probarlo, utiliza `scikit-learn` para separar el conjunto de datos en dos.\n",
    "\n",
    "* Guarda tu respuesta en dos variables: `train` y `test`. (**Ejemplo: `train, test = <<Función>>`**)\n",
    "* Utiliza el parámetro `random_state=0`. Esto hará que la partición sea siempre la misma.\n",
    "* Encontrarás la línea `train.head()`. Esta línea se usa para que puedas visualizar el resultado del conjunto de entrenamiento. Déjala al final de la celda y no la modifiques."
   ]
  },
  {
   "cell_type": "code",
   "execution_count": 9,
   "metadata": {
    "deletable": false,
    "nbgrader": {
     "cell_type": "code",
     "checksum": "5ccc2d4187297e9e218b45f9fcb57df3",
     "grade": false,
     "grade_id": "E21",
     "locked": false,
     "schema_version": 3,
     "solution": true,
     "task": false
    }
   },
   "outputs": [
    {
     "data": {
      "text/html": [
       "<div>\n",
       "<style scoped>\n",
       "    .dataframe tbody tr th:only-of-type {\n",
       "        vertical-align: middle;\n",
       "    }\n",
       "\n",
       "    .dataframe tbody tr th {\n",
       "        vertical-align: top;\n",
       "    }\n",
       "\n",
       "    .dataframe thead th {\n",
       "        text-align: right;\n",
       "    }\n",
       "</style>\n",
       "<table border=\"1\" class=\"dataframe\">\n",
       "  <thead>\n",
       "    <tr style=\"text-align: right;\">\n",
       "      <th></th>\n",
       "      <th>Age</th>\n",
       "      <th>Attrition</th>\n",
       "      <th>BusinessTravel</th>\n",
       "      <th>DailyRate</th>\n",
       "      <th>Department</th>\n",
       "      <th>DistanceFromHome</th>\n",
       "      <th>Education</th>\n",
       "      <th>EducationField</th>\n",
       "      <th>EnvironmentSatisfaction</th>\n",
       "      <th>Gender</th>\n",
       "      <th>...</th>\n",
       "      <th>PerformanceRating</th>\n",
       "      <th>RelationshipSatisfaction</th>\n",
       "      <th>StockOptionLevel</th>\n",
       "      <th>TotalWorkingYears</th>\n",
       "      <th>TrainingTimesLastYear</th>\n",
       "      <th>WorkLifeBalance</th>\n",
       "      <th>YearsAtCompany</th>\n",
       "      <th>YearsInCurrentRole</th>\n",
       "      <th>YearsSinceLastPromotion</th>\n",
       "      <th>YearsWithCurrManager</th>\n",
       "    </tr>\n",
       "  </thead>\n",
       "  <tbody>\n",
       "    <tr>\n",
       "      <th>1374</th>\n",
       "      <td>58.0</td>\n",
       "      <td>0</td>\n",
       "      <td>Travel_Rarely</td>\n",
       "      <td>605.0</td>\n",
       "      <td>Sales</td>\n",
       "      <td>21.0</td>\n",
       "      <td>3.0</td>\n",
       "      <td>Life Sciences</td>\n",
       "      <td>4.0</td>\n",
       "      <td>Female</td>\n",
       "      <td>...</td>\n",
       "      <td>3.0</td>\n",
       "      <td>3.0</td>\n",
       "      <td>1.0</td>\n",
       "      <td>29.0</td>\n",
       "      <td>2.0</td>\n",
       "      <td>2.0</td>\n",
       "      <td>1.0</td>\n",
       "      <td>0.0</td>\n",
       "      <td>0.0</td>\n",
       "      <td>0.0</td>\n",
       "    </tr>\n",
       "    <tr>\n",
       "      <th>1092</th>\n",
       "      <td>45.0</td>\n",
       "      <td>0</td>\n",
       "      <td>Travel_Rarely</td>\n",
       "      <td>950.0</td>\n",
       "      <td>Research &amp; Development</td>\n",
       "      <td>28.0</td>\n",
       "      <td>3.0</td>\n",
       "      <td>Technical Degree</td>\n",
       "      <td>4.0</td>\n",
       "      <td>Male</td>\n",
       "      <td>...</td>\n",
       "      <td>4.0</td>\n",
       "      <td>4.0</td>\n",
       "      <td>1.0</td>\n",
       "      <td>8.0</td>\n",
       "      <td>3.0</td>\n",
       "      <td>3.0</td>\n",
       "      <td>5.0</td>\n",
       "      <td>4.0</td>\n",
       "      <td>0.0</td>\n",
       "      <td>3.0</td>\n",
       "    </tr>\n",
       "    <tr>\n",
       "      <th>768</th>\n",
       "      <td>40.0</td>\n",
       "      <td>0</td>\n",
       "      <td>Travel_Rarely</td>\n",
       "      <td>300.0</td>\n",
       "      <td>Sales</td>\n",
       "      <td>26.0</td>\n",
       "      <td>3.0</td>\n",
       "      <td>NaN</td>\n",
       "      <td>3.0</td>\n",
       "      <td>Male</td>\n",
       "      <td>...</td>\n",
       "      <td>3.0</td>\n",
       "      <td>2.0</td>\n",
       "      <td>1.0</td>\n",
       "      <td>8.0</td>\n",
       "      <td>3.0</td>\n",
       "      <td>2.0</td>\n",
       "      <td>7.0</td>\n",
       "      <td>7.0</td>\n",
       "      <td>7.0</td>\n",
       "      <td>5.0</td>\n",
       "    </tr>\n",
       "    <tr>\n",
       "      <th>569</th>\n",
       "      <td>36.0</td>\n",
       "      <td>0</td>\n",
       "      <td>Non-Travel</td>\n",
       "      <td>1434.0</td>\n",
       "      <td>Sales</td>\n",
       "      <td>8.0</td>\n",
       "      <td>4.0</td>\n",
       "      <td>Life Sciences</td>\n",
       "      <td>1.0</td>\n",
       "      <td>Male</td>\n",
       "      <td>...</td>\n",
       "      <td>3.0</td>\n",
       "      <td>2.0</td>\n",
       "      <td>0.0</td>\n",
       "      <td>10.0</td>\n",
       "      <td>1.0</td>\n",
       "      <td>3.0</td>\n",
       "      <td>10.0</td>\n",
       "      <td>7.0</td>\n",
       "      <td>0.0</td>\n",
       "      <td>9.0</td>\n",
       "    </tr>\n",
       "    <tr>\n",
       "      <th>911</th>\n",
       "      <td>25.0</td>\n",
       "      <td>1</td>\n",
       "      <td>Travel_Frequently</td>\n",
       "      <td>599.0</td>\n",
       "      <td>Sales</td>\n",
       "      <td>24.0</td>\n",
       "      <td>1.0</td>\n",
       "      <td>Life Sciences</td>\n",
       "      <td>3.0</td>\n",
       "      <td>Male</td>\n",
       "      <td>...</td>\n",
       "      <td>3.0</td>\n",
       "      <td>4.0</td>\n",
       "      <td>0.0</td>\n",
       "      <td>1.0</td>\n",
       "      <td>4.0</td>\n",
       "      <td>3.0</td>\n",
       "      <td>1.0</td>\n",
       "      <td>0.0</td>\n",
       "      <td>1.0</td>\n",
       "      <td>0.0</td>\n",
       "    </tr>\n",
       "  </tbody>\n",
       "</table>\n",
       "<p>5 rows × 31 columns</p>\n",
       "</div>"
      ],
      "text/plain": [
       "       Age  Attrition     BusinessTravel  DailyRate              Department  \\\n",
       "1374  58.0          0      Travel_Rarely      605.0                   Sales   \n",
       "1092  45.0          0      Travel_Rarely      950.0  Research & Development   \n",
       "768   40.0          0      Travel_Rarely      300.0                   Sales   \n",
       "569   36.0          0         Non-Travel     1434.0                   Sales   \n",
       "911   25.0          1  Travel_Frequently      599.0                   Sales   \n",
       "\n",
       "      DistanceFromHome  Education    EducationField  EnvironmentSatisfaction  \\\n",
       "1374              21.0        3.0     Life Sciences                      4.0   \n",
       "1092              28.0        3.0  Technical Degree                      4.0   \n",
       "768               26.0        3.0               NaN                      3.0   \n",
       "569                8.0        4.0     Life Sciences                      1.0   \n",
       "911               24.0        1.0     Life Sciences                      3.0   \n",
       "\n",
       "      Gender  ...  PerformanceRating  RelationshipSatisfaction  \\\n",
       "1374  Female  ...                3.0                       3.0   \n",
       "1092    Male  ...                4.0                       4.0   \n",
       "768     Male  ...                3.0                       2.0   \n",
       "569     Male  ...                3.0                       2.0   \n",
       "911     Male  ...                3.0                       4.0   \n",
       "\n",
       "      StockOptionLevel TotalWorkingYears  TrainingTimesLastYear  \\\n",
       "1374               1.0              29.0                    2.0   \n",
       "1092               1.0               8.0                    3.0   \n",
       "768                1.0               8.0                    3.0   \n",
       "569                0.0              10.0                    1.0   \n",
       "911                0.0               1.0                    4.0   \n",
       "\n",
       "     WorkLifeBalance  YearsAtCompany  YearsInCurrentRole  \\\n",
       "1374             2.0             1.0                 0.0   \n",
       "1092             3.0             5.0                 4.0   \n",
       "768              2.0             7.0                 7.0   \n",
       "569              3.0            10.0                 7.0   \n",
       "911              3.0             1.0                 0.0   \n",
       "\n",
       "      YearsSinceLastPromotion YearsWithCurrManager  \n",
       "1374                      0.0                  0.0  \n",
       "1092                      0.0                  3.0  \n",
       "768                       7.0                  5.0  \n",
       "569                       0.0                  9.0  \n",
       "911                       1.0                  0.0  \n",
       "\n",
       "[5 rows x 31 columns]"
      ]
     },
     "execution_count": 9,
     "metadata": {},
     "output_type": "execute_result"
    }
   ],
   "source": [
    "# your code here\n",
    "train, test = train_test_split(data, test_size=0.2, random_state=0)\n",
    "train.head()"
   ]
  },
  {
   "cell_type": "code",
   "execution_count": 10,
   "metadata": {
    "deletable": false,
    "editable": false,
    "nbgrader": {
     "cell_type": "code",
     "checksum": "609eaafc0f6bfa26cbaf4129a810513a",
     "grade": true,
     "grade_id": "E21-tests",
     "locked": true,
     "points": 1,
     "schema_version": 3,
     "solution": false,
     "task": false
    }
   },
   "outputs": [
    {
     "name": "stdout",
     "output_type": "stream",
     "text": [
      "¡Los conjuntos de entrenamiento y pruebas tienen las dimensiones correctas!\n"
     ]
    }
   ],
   "source": [
    "#---------- Celda de Pruebas ----------\n",
    "# Las variables \"train\" y \"test\" existen\n",
    "# Las variables \"train\" y \"test\" son un DataFrame\n",
    "# Las variables tienen las dimensiones correctas\n",
    "#--------------------------------------\n",
    "\n",
    "# Se verifica que \"train\" y \"test\" están definidas\n",
    "assert train is not None, \"Asegúrate de definir la variable \\'train\\' con el nombre correcto.\"\n",
    "assert test is not None, \"Asegúrate de definir la variable \\'test\\' con el nombre correcto.\"\n",
    "\n",
    "# Se verifica que \"train\" y \"test\" sean un DataFrame\n",
    "assert isinstance(train, pd.DataFrame), \"La variable \\'train\\' debe ser un DataFrame.\"\n",
    "assert isinstance(test, pd.DataFrame), \"La variable \\'test\\' debe ser un DataFrame.\"\n",
    "\n",
    "# Se evalúan las dimensiones de las variables\n",
    "assert train.shape == (1176,31), \"Verifica que estés utilizando el 80% de los datos para el conjunto de entrenamiento.\"\n",
    "assert test.shape == (294,31), \"Verifica que estés utilizando el 20% de los datos para el conjunto de pruebas.\"\n",
    "print(\"¡Los conjuntos de entrenamiento y pruebas tienen las dimensiones correctas!\")"
   ]
  },
  {
   "cell_type": "markdown",
   "metadata": {
    "deletable": false,
    "editable": false,
    "nbgrader": {
     "cell_type": "markdown",
     "checksum": "49bcd8120f1bd5f0dc898a80dd9d813f",
     "grade": false,
     "grade_id": "cell-4001dc7f6ba464c4",
     "locked": true,
     "schema_version": 3,
     "solution": false,
     "task": false
    }
   },
   "source": [
    "### Ejercicio 2.2.\n",
    "\n",
    "Ahora debes aislar la variable objetivo, `Attrition`, de las variables independientes. Utiliza Pandas para crear dos variables, `x_train` y `y_train`, que almacenarán las variables independientes y la variable objetivo, respectivamente.\n",
    "\n",
    "* Crea una variable con nombre `x_train` y asígnale la operación necesaria para almacenar solo las variables independientes del conjunto de entrenamiento. (**Ejemplo: `x_train = train.<<Función>>`**)\n",
    "* Crea una variable con nombre `y_train` y asígnale la operación necesaria para almacenar la variable objetivo del conjunto de entrenamiento. (**Ejemplo: `y_train = <<Consulta>>`**)"
   ]
  },
  {
   "cell_type": "code",
   "execution_count": 11,
   "metadata": {
    "deletable": false,
    "nbgrader": {
     "cell_type": "code",
     "checksum": "96300903460ee780d63e8f7ecc7ad530",
     "grade": false,
     "grade_id": "E22",
     "locked": false,
     "schema_version": 3,
     "solution": true,
     "task": false
    }
   },
   "outputs": [],
   "source": [
    "# Tu respuesta deben ser dos líneas consecutivas:\n",
    "#    x_train = train.<<Función>>\n",
    "#    y_train = <<Consulta>>\n",
    "# your code here\n",
    "x_train = train.drop(['Attrition'],axis=1)\n",
    "y_train = train['Attrition']"
   ]
  },
  {
   "cell_type": "code",
   "execution_count": 12,
   "metadata": {
    "deletable": false,
    "editable": false,
    "nbgrader": {
     "cell_type": "code",
     "checksum": "2abff284c5172c29ba69c01c2788f221",
     "grade": true,
     "grade_id": "E22-tests",
     "locked": true,
     "points": 1,
     "schema_version": 3,
     "solution": false,
     "task": false
    }
   },
   "outputs": [
    {
     "name": "stdout",
     "output_type": "stream",
     "text": [
      "¡Los conjuntos 'x_train' y 'y_train' tienen las dimensiones correctas!\n"
     ]
    }
   ],
   "source": [
    "#---------- Celda de Pruebas ----------\n",
    "# Las variables \"x_train\" y \"y_train\" existen\n",
    "# La variable \"x_train\" es un DataFrame\n",
    "# La variable \"y_train\" es una Serie de Pandas\n",
    "# Las variables tienen las dimensiones correctas\n",
    "#--------------------------------------\n",
    "\n",
    "# Se verifica que las variables están definidas\n",
    "assert x_train is not None, \"Asegúrate de definir la variable \\'x_train\\' correctamente.\"\n",
    "assert y_train is not None, \"Asegúrate de definir la variable \\'y_train\\' correctamente.\"\n",
    "\n",
    "# Se verifica que \"x_train\" sea un DataFrame\n",
    "assert isinstance(x_train, pd.DataFrame), \"El resultado debe ser un DataFrame.\"\n",
    "\n",
    "# Se verifica que \"y_train\" sea una Serie\n",
    "assert isinstance(y_train, pd.Series), \"El resultado debe ser una Serie de Pandas.\"\n",
    "\n",
    "# Se evalúan las dimensiones de las variables\n",
    "assert x_train.shape == (1176,30), \"\\'x_train\\' debe tener el mismo número de filas pero una columna menos que \\'train\\'.\"\n",
    "assert y_train.shape == (1176,), \"\\'y_train\\' solamente contiene una columna.\"\n",
    "print(\"¡Los conjuntos \\'x_train\\' y \\'y_train\\' tienen las dimensiones correctas!\")"
   ]
  },
  {
   "cell_type": "markdown",
   "metadata": {
    "deletable": false,
    "editable": false,
    "nbgrader": {
     "cell_type": "markdown",
     "checksum": "bb1c1462bb22c9e21cb7b028516a4d70",
     "grade": false,
     "grade_id": "cell-0182345c6d7e081c",
     "locked": true,
     "schema_version": 3,
     "solution": false,
     "task": false
    }
   },
   "source": [
    "### Ejercicio 2.3.\n",
    "\n",
    "#### Ejercicio 2.3.1.\n",
    "\n",
    "A continuación, vas a definir las técnicas de imputación para los valores faltantes. Utiliza `scikit-learn` para definir dos imputadores con las siguientes características:\n",
    "\n",
    "* Un imputador para las variables numéricas que utilice la **media** como estrategia. Asigna tu respuesta a una nueva variable con el nombre `num_imputer`. (**Ejemplo: `num_imputer = <<Expresión>>`**)\n",
    "* Un imputador para las variables categóricas que utilice el **valor más frecuente** como estrategia. Asigna tu respuesta a una nueva variable con el nombre `cat_imputer`. (**Ejemplo: `cat_imputer = <<Expresión>>`**)"
   ]
  },
  {
   "cell_type": "code",
   "execution_count": 13,
   "metadata": {
    "deletable": false,
    "nbgrader": {
     "cell_type": "code",
     "checksum": "594a1ce270fdf2fe2975b8a67a84098b",
     "grade": false,
     "grade_id": "E231",
     "locked": false,
     "schema_version": 3,
     "solution": true,
     "task": false
    }
   },
   "outputs": [],
   "source": [
    "# Tu respuesta deben ser dos líneas consecutivas:\n",
    "#    num_imputer = <<Expresión>>\n",
    "#    cat_imputer = <<Expresión>>\n",
    "# your code here\n",
    "cat_imputer = SimpleImputer(strategy='most_frequent')\n",
    "num_imputer = SimpleImputer(strategy='mean')"
   ]
  },
  {
   "cell_type": "code",
   "execution_count": 14,
   "metadata": {
    "deletable": false,
    "editable": false,
    "nbgrader": {
     "cell_type": "code",
     "checksum": "95b59c38ebb7fd9dae2c3979555f95db",
     "grade": true,
     "grade_id": "E231-tests",
     "locked": true,
     "points": 1,
     "schema_version": 3,
     "solution": false,
     "task": false
    }
   },
   "outputs": [
    {
     "name": "stdout",
     "output_type": "stream",
     "text": [
      "¡Los objetos de imputación son correctos!\n"
     ]
    }
   ],
   "source": [
    "#---------- Celda de Pruebas ----------\n",
    "# Las variables 'num_imputer' y 'cat_imputer' existen\n",
    "# Las variables son objetos para imputación de la librería scikit-learn\n",
    "#--------------------------------------\n",
    "\n",
    "# Se verifica que la variable 'num_imputer' existe\n",
    "assert num_imputer is not None, \"Asegúrate de definir la variable \\'num_imputer\\' con una clase de \\'scikit-learn\\'.\"\n",
    "\n",
    "# Se verifica que la variable 'cat_imputer' existe\n",
    "assert cat_imputer is not None, \"Asegúrate de definir la variable \\'cat_imputer\\' con una clase de \\'scikit-learn\\'.\"\n",
    "print(\"¡Los objetos de imputación son correctos!\")"
   ]
  },
  {
   "cell_type": "markdown",
   "metadata": {
    "deletable": false,
    "editable": false,
    "nbgrader": {
     "cell_type": "markdown",
     "checksum": "c5643e588a6d18b02855cdda1e9eb508",
     "grade": false,
     "grade_id": "cell-daff4b8aedf77e2d",
     "locked": true,
     "schema_version": 3,
     "solution": false,
     "task": false
    }
   },
   "source": [
    "#### Ejercicio 2.3.2.\n",
    "\n",
    "A continuación vas a definir un `ColumnTransformer()` para juntar los imputadores en un único paso. Vamos a identificar las variables numéricas y categóricas utilizando el atributo `dtype` del conjunto de entrenamiento y comparando con tipos de numpy (`np.dtype()`):"
   ]
  },
  {
   "cell_type": "code",
   "execution_count": 15,
   "metadata": {
    "deletable": false,
    "editable": false,
    "nbgrader": {
     "cell_type": "code",
     "checksum": "853a24896492cf5141a3f05c5240720b",
     "grade": false,
     "grade_id": "cell-fc7ca734bcbe2466",
     "locked": true,
     "schema_version": 3,
     "solution": false,
     "task": false
    }
   },
   "outputs": [
    {
     "name": "stdout",
     "output_type": "stream",
     "text": [
      "Variables numéricas:\n",
      "[(0, 'Age'), (2, 'DailyRate'), (4, 'DistanceFromHome'), (5, 'Education'), (7, 'EnvironmentSatisfaction'), (9, 'HourlyRate'), (10, 'JobInvolvement'), (11, 'JobLevel'), (13, 'JobSatisfaction'), (15, 'MonthlyIncome'), (16, 'MonthlyRate'), (17, 'NumCompaniesWorked'), (19, 'PercentSalaryHike'), (20, 'PerformanceRating'), (21, 'RelationshipSatisfaction'), (22, 'StockOptionLevel'), (23, 'TotalWorkingYears'), (24, 'TrainingTimesLastYear'), (25, 'WorkLifeBalance'), (26, 'YearsAtCompany'), (27, 'YearsInCurrentRole'), (28, 'YearsSinceLastPromotion'), (29, 'YearsWithCurrManager')]\n",
      "\n",
      "Variables categóricas:\n",
      "[(1, 'BusinessTravel'), (3, 'Department'), (6, 'EducationField'), (8, 'Gender'), (12, 'JobRole'), (14, 'MaritalStatus'), (18, 'OverTime')]\n"
     ]
    }
   ],
   "source": [
    "# Variables numéricas: su tipo es float64 o int64\n",
    "numeric_features = [\n",
    "    i for i, col in enumerate(x_train.columns) \n",
    "    if (x_train.dtypes[col]==np.dtype('int64'))\n",
    "    or (x_train.dtypes[col]==np.dtype('float64'))\n",
    "]\n",
    "# Variables categóricas: su tipo es object\n",
    "categorical_features = [\n",
    "    i for i, col in enumerate(x_train.columns) \n",
    "    if (x_train.dtypes[col]==np.dtype('object'))\n",
    "]\n",
    "\n",
    "# Veremos las tuplas (índice, variable) para los dos tipos\n",
    "print(f\"Variables numéricas:\\n{list(zip(numeric_features, x_train.columns.take(numeric_features)))}\")\n",
    "print(f\"\\nVariables categóricas:\\n{list(zip(categorical_features, x_train.columns.take(categorical_features)))}\")"
   ]
  },
  {
   "cell_type": "markdown",
   "metadata": {
    "deletable": false,
    "editable": false,
    "nbgrader": {
     "cell_type": "markdown",
     "checksum": "e520f0928733bddce6c1e93c0bdde81a",
     "grade": false,
     "grade_id": "cell-55adc09849a7ed0a",
     "locked": true,
     "schema_version": 3,
     "solution": false,
     "task": false
    }
   },
   "source": [
    "Completa el siguiente código para definir el parámetro `transformers` del objeto `imputer`:\n",
    "\n",
    "* Utiliza las variables `numeric_features` y `categorical_features` para indicar qué objeto va a operar sobre qué variables.\n",
    "* Utiliza el nombre `\"num\"` para las variables numéricas y el nombre `\"cat\"` para las variables categóricas."
   ]
  },
  {
   "cell_type": "code",
   "execution_count": 16,
   "metadata": {
    "deletable": false,
    "nbgrader": {
     "cell_type": "code",
     "checksum": "949c28376b08e921b6efee6083a37cc2",
     "grade": false,
     "grade_id": "E232",
     "locked": false,
     "schema_version": 3,
     "solution": true,
     "task": false
    }
   },
   "outputs": [],
   "source": [
    "imputer = ColumnTransformer(\n",
    "    transformers=[\n",
    "    # your code here\n",
    "        (\"num\", num_imputer, numeric_features),\n",
    "        (\"cat\", cat_imputer, categorical_features)\n",
    "    ]\n",
    ")"
   ]
  },
  {
   "cell_type": "code",
   "execution_count": 17,
   "metadata": {
    "deletable": false,
    "editable": false,
    "nbgrader": {
     "cell_type": "code",
     "checksum": "696a5d679b9fade5419fdd81ffb8db32",
     "grade": true,
     "grade_id": "E232-tests",
     "locked": true,
     "points": 1,
     "schema_version": 3,
     "solution": false,
     "task": false
    }
   },
   "outputs": [
    {
     "name": "stdout",
     "output_type": "stream",
     "text": [
      "¡La variable 'imputer' está bien definida!\n"
     ]
    }
   ],
   "source": [
    "#---------- Celda de Pruebas ----------\n",
    "# La variable 'imputer' existe\n",
    "# La variable 'imputer' es un objeto de la clase ColumnTransformer\n",
    "#--------------------------------------\n",
    "\n",
    "# Se verifica que la variable 'imputer' existe\n",
    "assert imputer is not None, \"Asegúrate de definir la variable \\'imputer\\' correctamente.\"\n",
    "\n",
    "# Se verifica que la variable 'imputer' sea un objeto de la clase ColumnTransformer\n",
    "assert type(imputer) == ColumnTransformer, \"La variable \\'imputer\\' debe ser un objeto de la clase ColumnTransformer.\"\n",
    "print(\"¡La variable \\'imputer\\' está bien definida!\")"
   ]
  },
  {
   "cell_type": "markdown",
   "metadata": {
    "deletable": false,
    "editable": false,
    "nbgrader": {
     "cell_type": "markdown",
     "checksum": "78cdea39d74c6ced6278e43870f2a6c7",
     "grade": false,
     "grade_id": "cell-7d75af9328be09f7",
     "locked": true,
     "schema_version": 3,
     "solution": false,
     "task": false
    }
   },
   "source": [
    "### Ejercicio 2.4.\n",
    "\n",
    "Como el modelo de árboles de decisión no requiere estandarización de los datos, solamente definiremos el paso de codificación OneHot para las variables categóricas con `scikit-learn`:\n",
    "\n",
    "#### Ejercicio 2.4.1.\n",
    "\n",
    "Inicializa un objeto de la clase necesaria para realizar la codificación OneHot. Almacena el objeto en una nueva variable con el nombre `onehot_encoder` (**Ejemplo: `onehot_encoder = <<Expresión>>`**)"
   ]
  },
  {
   "cell_type": "code",
   "execution_count": 18,
   "metadata": {
    "deletable": false,
    "nbgrader": {
     "cell_type": "code",
     "checksum": "1c2b82e74b299b2e892cef2e435e9228",
     "grade": false,
     "grade_id": "E241",
     "locked": false,
     "schema_version": 3,
     "solution": true,
     "task": false
    }
   },
   "outputs": [],
   "source": [
    "# your code here\n",
    "onehot_encoder = OneHotEncoder()"
   ]
  },
  {
   "cell_type": "code",
   "execution_count": 19,
   "metadata": {
    "deletable": false,
    "editable": false,
    "nbgrader": {
     "cell_type": "code",
     "checksum": "db6eb9591b0e2ea215f45768dffbf444",
     "grade": true,
     "grade_id": "E241-tests",
     "locked": true,
     "points": 1,
     "schema_version": 3,
     "solution": false,
     "task": false
    }
   },
   "outputs": [
    {
     "name": "stdout",
     "output_type": "stream",
     "text": [
      "¡La variable 'onehot_encoder' está bien definida!\n"
     ]
    }
   ],
   "source": [
    "#---------- Celda de Pruebas ----------\n",
    "# La variable 'onehot_encoder' existe\n",
    "# La variable 'onehot_encoder' es un objeto de la clase correcta\n",
    "#--------------------------------------\n",
    "\n",
    "# Se verifica que la variable 'onehot_encoder' existe\n",
    "assert onehot_encoder is not None, \"Asegúrate de definir la variable \\'onehot_encoder\\' correctamente.\"\n",
    "print(\"¡La variable \\'onehot_encoder\\' está bien definida!\")"
   ]
  },
  {
   "cell_type": "markdown",
   "metadata": {
    "deletable": false,
    "editable": false,
    "nbgrader": {
     "cell_type": "markdown",
     "checksum": "23b4f972179a5694c4733ae52d8084ce",
     "grade": false,
     "grade_id": "cell-c22c224fcdd44cd7",
     "locked": true,
     "schema_version": 3,
     "solution": false,
     "task": false
    }
   },
   "source": [
    "#### Ejercicio 2.4.2.\n",
    "\n",
    "A continuación vas a definir un `ColumnTransformer()` para realizar la codificación OneHot únicamente sobre las variables categóricas. Como ha cambiado el orden de las variables, vamos a redefinir `numeric_features` y `categorical_features`:"
   ]
  },
  {
   "cell_type": "code",
   "execution_count": 20,
   "metadata": {
    "deletable": false,
    "editable": false,
    "nbgrader": {
     "cell_type": "code",
     "checksum": "996f737d478a7ebe662eff90976ecef0",
     "grade": false,
     "grade_id": "cell-4e1d64c847c4c2d8",
     "locked": true,
     "schema_version": 3,
     "solution": false,
     "task": false
    }
   },
   "outputs": [],
   "source": [
    "# Variables numéricas: ahora son las primeras 23 posiciones\n",
    "numeric_features = list(range(23))\n",
    "# Variables categóricas: BusinessTravel, Department, EducationField, Gender, JobRole, MaritalStatus, OverTime\n",
    "categorical_features = list(range(23,30))"
   ]
  },
  {
   "cell_type": "markdown",
   "metadata": {
    "deletable": false,
    "editable": false,
    "nbgrader": {
     "cell_type": "markdown",
     "checksum": "13f1aca0759cd46f1b05bb0070f771b2",
     "grade": false,
     "grade_id": "cell-24cc0298141d705f",
     "locked": true,
     "schema_version": 3,
     "solution": false,
     "task": false
    }
   },
   "source": [
    "Completa el siguiente código para definir el parámetro `transformers` del objeto `encoder`:\n",
    "\n",
    "* Utiliza la variable `categorical_features` para indicar qué variables van a ser modificadas, y la variable `onehot_encoder` para definir la estrategia de codificación.\n",
    "* Utiliza el nombre `\"cat\"` para definir la tupla correspondiente a las variables categóricas.\n",
    "* Encontrarás la tupla `(\"num\", 'passthrough', numeric_features)`, que indica que las variables numéricas no van a ser alteradas. No debes modificar esta expresión."
   ]
  },
  {
   "cell_type": "code",
   "execution_count": 21,
   "metadata": {
    "deletable": false,
    "nbgrader": {
     "cell_type": "code",
     "checksum": "11ac7ea302cd42eee033e88eebf4f7ef",
     "grade": false,
     "grade_id": "E242",
     "locked": false,
     "schema_version": 3,
     "solution": true,
     "task": false
    }
   },
   "outputs": [],
   "source": [
    "encoder = ColumnTransformer(\n",
    "    transformers=[\n",
    "        (\"num\", 'passthrough', numeric_features),\n",
    "    # your code here\n",
    "        (\"cat\", onehot_encoder, categorical_features)\n",
    "    \n",
    "    ]\n",
    ")"
   ]
  },
  {
   "cell_type": "code",
   "execution_count": 22,
   "metadata": {
    "deletable": false,
    "editable": false,
    "nbgrader": {
     "cell_type": "code",
     "checksum": "379bc1cfc2ffc0092a08412ff3dbc9ec",
     "grade": true,
     "grade_id": "E242-tests",
     "locked": true,
     "points": 1,
     "schema_version": 3,
     "solution": false,
     "task": false
    }
   },
   "outputs": [
    {
     "name": "stdout",
     "output_type": "stream",
     "text": [
      "¡La variable 'encoder' está bien definida!\n"
     ]
    }
   ],
   "source": [
    "#---------- Celda de Pruebas ----------\n",
    "# La variable 'encoder' existe\n",
    "# La variable 'encoder' es un objeto de la clase ColumnTransformer\n",
    "#--------------------------------------\n",
    "\n",
    "# Se verifica que la variable 'encoder' existe\n",
    "assert encoder is not None, \"Asegúrate de definir la variable \\'encoder\\' correctamente.\"\n",
    "\n",
    "# Se verifica que la variable 'encoder' sea un objeto de la clase ColumnTransformer\n",
    "assert type(encoder) == ColumnTransformer, \"La variable \\'encoder\\' debe ser un objeto de la clase ColumnTransformer.\"\n",
    "print(\"¡La variable \\'encoder\\' está bien definida!\")"
   ]
  },
  {
   "cell_type": "markdown",
   "metadata": {
    "deletable": false,
    "editable": false,
    "nbgrader": {
     "cell_type": "markdown",
     "checksum": "b60013fb3763a9267fcdbf07c0b78119",
     "grade": false,
     "grade_id": "cell-3dcf26d8bd04fa6a",
     "locked": true,
     "schema_version": 3,
     "solution": false,
     "task": false
    }
   },
   "source": [
    "## 3. Búsqueda de hiperparámetros con un pipeline\n",
    "\n",
    "Con el conjunto de entrenamiento preparado, definiremos un último paso antes de construir el pipeline: el objeto de la clase `DecisionTreeClassifier` para realizar el entrenamiento con un árbol de decisión. Ten en cuenta que usamos el parámetro `random_state=0` para que, después de definir una división, la reorganización de las variables restantes sea siempre la misma:"
   ]
  },
  {
   "cell_type": "code",
   "execution_count": 23,
   "metadata": {
    "deletable": false,
    "editable": false,
    "nbgrader": {
     "cell_type": "code",
     "checksum": "30ad10faeedcf2d04579bffa4efb7359",
     "grade": false,
     "grade_id": "cell-5d8562aa352419a5",
     "locked": true,
     "schema_version": 3,
     "solution": false,
     "task": false
    }
   },
   "outputs": [],
   "source": [
    "decision_tree = DecisionTreeClassifier(random_state=0)"
   ]
  },
  {
   "cell_type": "markdown",
   "metadata": {
    "deletable": false,
    "editable": false,
    "nbgrader": {
     "cell_type": "markdown",
     "checksum": "8d24686335d79472a841c241c707d7ca",
     "grade": false,
     "grade_id": "cell-b5d8aa929e21e22e",
     "locked": true,
     "schema_version": 3,
     "solution": false,
     "task": false
    }
   },
   "source": [
    "Con el último paso definido, podemos agrupar todas las etapas en un arreglo que utilizarás para definir el pipeline:"
   ]
  },
  {
   "cell_type": "code",
   "execution_count": 24,
   "metadata": {
    "deletable": false,
    "editable": false,
    "nbgrader": {
     "cell_type": "code",
     "checksum": "856ed395702857de4316e4891ea7594f",
     "grade": false,
     "grade_id": "cell-c14945f9f5264399",
     "locked": true,
     "schema_version": 3,
     "solution": false,
     "task": false
    }
   },
   "outputs": [],
   "source": [
    "steps = [\n",
    "    (\"imputer\", imputer),\n",
    "    (\"encoder\", encoder),\n",
    "    (\"model\", decision_tree),\n",
    "]"
   ]
  },
  {
   "cell_type": "markdown",
   "metadata": {
    "deletable": false,
    "editable": false,
    "nbgrader": {
     "cell_type": "markdown",
     "checksum": "e7ba970a57319f0a877cc3750c4b00ec",
     "grade": false,
     "grade_id": "cell-a2209576696f70e6",
     "locked": true,
     "schema_version": 3,
     "solution": false,
     "task": false
    }
   },
   "source": [
    "Finalmente, definiremos la variable `kfold` para realizar la validación cruzada con 5 subconjuntos de datos:"
   ]
  },
  {
   "cell_type": "code",
   "execution_count": 25,
   "metadata": {
    "deletable": false,
    "editable": false,
    "nbgrader": {
     "cell_type": "code",
     "checksum": "cf7741807552b5a0bbee929ee3c4be4d",
     "grade": false,
     "grade_id": "cell-767ed79b53f05f0e",
     "locked": true,
     "schema_version": 3,
     "solution": false,
     "task": false
    }
   },
   "outputs": [],
   "source": [
    "kfold = KFold(n_splits=5, shuffle=True, random_state=0)"
   ]
  },
  {
   "cell_type": "markdown",
   "metadata": {
    "deletable": false,
    "editable": false,
    "nbgrader": {
     "cell_type": "markdown",
     "checksum": "39efda86ed859bb5a923ca33bfcf142b",
     "grade": false,
     "grade_id": "cell-534e743eb35b7d7c",
     "locked": true,
     "schema_version": 3,
     "solution": false,
     "task": false
    }
   },
   "source": [
    "### Ejercicio 3.1.\n",
    "\n",
    "Ahora vas a crear el pipeline de procesamiento y entrenamiento para nuestro problema.\n",
    "\n",
    "* Define una variable con el nombre `pipeline` y asígnale la expresión necesaria para definir un pipeline con los pasos almacenados en la variable `steps` (**Ejemplo: `pipeline = <<Expresión>>`**):"
   ]
  },
  {
   "cell_type": "code",
   "execution_count": 26,
   "metadata": {
    "deletable": false,
    "nbgrader": {
     "cell_type": "code",
     "checksum": "88b1b4c6c196af2c4c3e8fa592efce0d",
     "grade": false,
     "grade_id": "E31",
     "locked": false,
     "schema_version": 3,
     "solution": true,
     "task": false
    }
   },
   "outputs": [],
   "source": [
    "# your code here\n",
    "pipeline = Pipeline(steps)"
   ]
  },
  {
   "cell_type": "code",
   "execution_count": 27,
   "metadata": {
    "deletable": false,
    "editable": false,
    "nbgrader": {
     "cell_type": "code",
     "checksum": "63af177fcba61322e89f7aac43adadcc",
     "grade": true,
     "grade_id": "E31-tests",
     "locked": true,
     "points": 1,
     "schema_version": 3,
     "solution": false,
     "task": false
    }
   },
   "outputs": [
    {
     "name": "stdout",
     "output_type": "stream",
     "text": [
      "¡La variable 'pipeline' está bien definida!\n"
     ]
    }
   ],
   "source": [
    "#---------- Celda de Pruebas ----------\n",
    "# La variable 'pipeline' existe\n",
    "# La variable 'pipeline' es un objeto de la clase Pipeline\n",
    "# La variable 'pipeline' tiene pasos bien definidos\n",
    "#--------------------------------------\n",
    "\n",
    "# Se verifica que la variable 'pipeline' existe\n",
    "assert pipeline is not None, \"Asegúrate de definir la variable \\'pipeline\\' correctamente.\"\n",
    "\n",
    "# Se verifica que la variable 'pipeline' sea un objeto de la clase Pipeline\n",
    "assert type(pipeline) == Pipeline, \"La variable \\'pipeline\\' debe ser un objeto de la clase Pipeline.\"\n",
    "print(\"¡La variable \\'pipeline\\' está bien definida!\")"
   ]
  },
  {
   "cell_type": "markdown",
   "metadata": {
    "deletable": false,
    "editable": false,
    "nbgrader": {
     "cell_type": "markdown",
     "checksum": "480bea87aaa2d85ecc855f606b240469",
     "grade": false,
     "grade_id": "cell-7cd5a95ceea10379",
     "locked": true,
     "schema_version": 3,
     "solution": false,
     "task": false
    }
   },
   "source": [
    "### Ejercicio 3.2.\n",
    "\n",
    "El siguiente paso es definir el espacio de búsqueda de los hiperparámetros. En este caso, realizaremos una búsqueda incluyendo la estrategia de imputación para variables numéricas.\n",
    "\n",
    "* Define una variable con el nombre `param_grid` y asígnale la expresión necesaria para crear un diccionario con cuatro tuplas (**Ejemplo: `param_grid = <<Expresión>>`**):\n",
    "    * Llave `imputer__num__strategy` y valor `valores_imputer`.\n",
    "    * Llave `model__criterion` y valor `valores_criterion`.\n",
    "    * Llave `model__max_depth` y valor `valores_max_depth`.\n",
    "    * Llave `model__min_samples_split` y valor `valores_min_samples_split`."
   ]
  },
  {
   "cell_type": "code",
   "execution_count": 28,
   "metadata": {
    "deletable": false,
    "nbgrader": {
     "cell_type": "code",
     "checksum": "2349d467f24bd66eda349ba3e514f495",
     "grade": false,
     "grade_id": "E32",
     "locked": false,
     "schema_version": 3,
     "solution": true,
     "task": false
    }
   },
   "outputs": [],
   "source": [
    "valores_imputer = ['mean', 'median']\n",
    "valores_criterion = ['entropy', 'gini']\n",
    "valores_max_depth = [2, 4, 6]\n",
    "valores_min_samples_split = [2, 3, 5]\n",
    "# your code here\n",
    "param_grid = {\n",
    "    # Paso de imputación\n",
    "    'imputer__num__strategy': valores_imputer,\n",
    "    # Paso de modelado\n",
    "    'model__criterion': valores_criterion,\n",
    "    'model__max_depth': valores_max_depth,\n",
    "    'model__min_samples_split': valores_min_samples_split\n",
    "}"
   ]
  },
  {
   "cell_type": "code",
   "execution_count": 29,
   "metadata": {
    "deletable": false,
    "editable": false,
    "nbgrader": {
     "cell_type": "code",
     "checksum": "c6478fd390bb4cadfe537fc918742a70",
     "grade": true,
     "grade_id": "E32-tests",
     "locked": true,
     "points": 1,
     "schema_version": 3,
     "solution": false,
     "task": false
    }
   },
   "outputs": [
    {
     "name": "stdout",
     "output_type": "stream",
     "text": [
      "¡'param_grid' está definida correctamente!\n"
     ]
    }
   ],
   "source": [
    "#---------- Celda de Pruebas ----------\n",
    "# La variable \"param_grid\" existe\n",
    "# La variable \"param_grid\" es un diccionario\n",
    "# La variable tiene la longitud correcta\n",
    "#--------------------------------------\n",
    "\n",
    "# Se verifica que \"param_grid\" está definida\n",
    "assert param_grid is not None, \"Asegúrate de definir la variable \\'param_grid\\' correctamente.\"\n",
    "\n",
    "# Se verifica que \"param_grid\" sea un diccionario\n",
    "assert isinstance(param_grid, dict), \"El resultado debe ser un diccionario de Python, es decir, no necesitas ninguna función específica de ninguna librería para definir la variable.\"\n",
    "\n",
    "# Se evalúa la longitud de la variable\n",
    "assert len(param_grid) == 4, \"\\'param_grid\\' debe contener cuatro tuplas.\"\n",
    "print(\"¡\\'param_grid\\' está definida correctamente!\")"
   ]
  },
  {
   "cell_type": "markdown",
   "metadata": {
    "deletable": false,
    "editable": false,
    "nbgrader": {
     "cell_type": "markdown",
     "checksum": "e2b9f3c22c116854821e0833d3fb3f63",
     "grade": false,
     "grade_id": "cell-b251c8b2b89bb68c",
     "locked": true,
     "schema_version": 3,
     "solution": false,
     "task": false
    }
   },
   "source": [
    "### Ejercicio 3.3.\n",
    "\n",
    "Finalmente, el último paso antes de realizar la búsqueda de hiperparámetros es crear el objeto de tipo `GridSearchCV`. Utiliza las variables `pipeline`, `param_grid` y `kfold` para definirlo:\n",
    "\n",
    "* Define una variable con el nombre `grid` y asígnale la función necesaria para crear un objeto de la clase `GridSearchCV`. (**Ejemplo: `grid = <<Función>>`**)\n",
    "* Utiliza el parámetro `scoring='accuracy'` para que se seleccione el mejor modelo de acuerdo con los valores de exactitud."
   ]
  },
  {
   "cell_type": "code",
   "execution_count": 30,
   "metadata": {
    "deletable": false,
    "nbgrader": {
     "cell_type": "code",
     "checksum": "432e6bbc6e7be336f7583ec401a5d012",
     "grade": false,
     "grade_id": "E33",
     "locked": false,
     "schema_version": 3,
     "solution": true,
     "task": false
    }
   },
   "outputs": [],
   "source": [
    "# your code here\n",
    "grid = GridSearchCV(pipeline, param_grid, cv=kfold,scoring='accuracy', n_jobs=-1)"
   ]
  },
  {
   "cell_type": "code",
   "execution_count": 31,
   "metadata": {
    "deletable": false,
    "editable": false,
    "nbgrader": {
     "cell_type": "code",
     "checksum": "1311e3aceafb1889a78a1cf8b739cd3a",
     "grade": true,
     "grade_id": "E33-tests",
     "locked": true,
     "points": 1,
     "schema_version": 3,
     "solution": false,
     "task": false
    }
   },
   "outputs": [
    {
     "name": "stdout",
     "output_type": "stream",
     "text": [
      "¡'grid' está definida correctamente!\n"
     ]
    }
   ],
   "source": [
    "#---------- Celda de Pruebas ----------\n",
    "# La variable \"grid\" existe\n",
    "# La variable \"grid\" es un objeto de la clase GridSearchCV\n",
    "# La variable \"grid\" usa la exactitud como método de selección\n",
    "#--------------------------------------\n",
    "\n",
    "# Se verifica que \"grid\" está definida\n",
    "assert grid is not None, \"Asegúrate de definir la variable \\'grid\\' correctamente.\"\n",
    "\n",
    "# Se verifica que \"grid\" es un objeto de la clase GridSearchCV\n",
    "assert type(grid) == GridSearchCV, \"La variable \\'grid\\' debe ser un objeto de la clase GridSearchCV.\"\n",
    "\n",
    "# Se verifica que \"grid\" tiene un atributo \"scoring\" igual a \"accuracy\"\n",
    "assert grid.scoring == 'accuracy', \"La variable \\'grid\\' debe usar la exactitud como método de selección.\"\n",
    "print(\"¡\\'grid\\' está definida correctamente!\")"
   ]
  },
  {
   "cell_type": "markdown",
   "metadata": {
    "deletable": false,
    "editable": false,
    "nbgrader": {
     "cell_type": "markdown",
     "checksum": "769a7a7309d1789d00b84417d8d6bfc4",
     "grade": false,
     "grade_id": "cell-af0d479fbccb7236",
     "locked": true,
     "schema_version": 3,
     "solution": false,
     "task": false
    }
   },
   "source": [
    "### Ejercicio 3.4.\n",
    "\n",
    "A continuación, realiza la búsqueda de hiperparámetros utilizando el conjunto de entrenamiento, compuesto por las variables `x_train` y `y_train`.\n",
    "\n",
    "* Para este ejercicio no debes asignar tu resultado a ninguna variable. Es decir, solo debes ejecutar una función sobre la variable `grid`, utilizando las variables `x_train` y `y_train` como parámetros. (**Ejemplo: `grid.<<Función>>`**)"
   ]
  },
  {
   "cell_type": "code",
   "execution_count": 32,
   "metadata": {
    "deletable": false,
    "nbgrader": {
     "cell_type": "code",
     "checksum": "b3ae0e2e484c539105d9aa416bc78279",
     "grade": false,
     "grade_id": "E34",
     "locked": false,
     "schema_version": 3,
     "solution": true,
     "task": false
    }
   },
   "outputs": [
    {
     "data": {
      "text/plain": [
       "GridSearchCV(cv=KFold(n_splits=5, random_state=0, shuffle=True),\n",
       "             error_score=nan,\n",
       "             estimator=Pipeline(memory=None,\n",
       "                                steps=[('imputer',\n",
       "                                        ColumnTransformer(n_jobs=None,\n",
       "                                                          remainder='drop',\n",
       "                                                          sparse_threshold=0.3,\n",
       "                                                          transformer_weights=None,\n",
       "                                                          transformers=[('num',\n",
       "                                                                         SimpleImputer(add_indicator=False,\n",
       "                                                                                       copy=True,\n",
       "                                                                                       fill_value=None,\n",
       "                                                                                       missing_values=nan,\n",
       "                                                                                       strategy='mean',\n",
       "                                                                                       verbose=0),\n",
       "                                                                         [0,...\n",
       "                                                               min_weight_fraction_leaf=0.0,\n",
       "                                                               presort='deprecated',\n",
       "                                                               random_state=0,\n",
       "                                                               splitter='best'))],\n",
       "                                verbose=False),\n",
       "             iid='deprecated', n_jobs=-1,\n",
       "             param_grid={'imputer__num__strategy': ['mean', 'median'],\n",
       "                         'model__criterion': ['entropy', 'gini'],\n",
       "                         'model__max_depth': [2, 4, 6],\n",
       "                         'model__min_samples_split': [2, 3, 5]},\n",
       "             pre_dispatch='2*n_jobs', refit=True, return_train_score=False,\n",
       "             scoring='accuracy', verbose=0)"
      ]
     },
     "execution_count": 32,
     "metadata": {},
     "output_type": "execute_result"
    }
   ],
   "source": [
    "# your code here\n",
    "grid.fit(x_train, y_train)"
   ]
  },
  {
   "cell_type": "code",
   "execution_count": 33,
   "metadata": {
    "deletable": false,
    "editable": false,
    "nbgrader": {
     "cell_type": "code",
     "checksum": "8da0de38326ad92eeb5d54319748373c",
     "grade": true,
     "grade_id": "E34-tests",
     "locked": true,
     "points": 1,
     "schema_version": 3,
     "solution": false,
     "task": false
    }
   },
   "outputs": [
    {
     "name": "stdout",
     "output_type": "stream",
     "text": [
      "¡Se ha realizado la búsqueda de hiperparámetros correctamente!\n"
     ]
    }
   ],
   "source": [
    "#---------- Celda de Pruebas ----------\n",
    "# El atributo \"best_params_\" de la variable \"grid\" existe\n",
    "# El atributo \"best_estimator_\" de la variable \"grid\" existe\n",
    "#--------------------------------------\n",
    "\n",
    "# El atributo \"best_params_\" está definido\n",
    "assert grid.best_params_ is not None, \"Asegúrate de ejecutar la función de entrenamiento para generar un diccionario con los mejores hiperparámetros.\"\n",
    "\n",
    "# El atributo \"best_estimator_\" está definido\n",
    "assert grid.best_estimator_ is not None, \"Asegúrate de ejecutar la función de entrenamiento para generar un modelo de árboles de decisión con preprocesamiento.\"\n",
    "\n",
    "# Se verifica que \"grid\" haya generado cuatro mejores hiperparámetros\n",
    "assert len(grid.best_params_) == 4, \"Al ejecutar una función usando el objeto \\'grid\\', se deben generar cuatro tuplas con los hiperparámetros.\"\n",
    "\n",
    "# Se verifica que \"grid\" haya generado un pipeline\n",
    "assert isinstance(grid.best_estimator_, Pipeline), \"Al ejecutar una función usando el objeto \\'grid\\', se debe generar un pipeline.\"\n",
    "print(\"¡Se ha realizado la búsqueda de hiperparámetros correctamente!\")"
   ]
  },
  {
   "cell_type": "markdown",
   "metadata": {
    "deletable": false,
    "editable": false,
    "nbgrader": {
     "cell_type": "markdown",
     "checksum": "d8b09628164c5f0036748d5201b66158",
     "grade": false,
     "grade_id": "cell-733b624a18c030ac",
     "locked": true,
     "schema_version": 3,
     "solution": false,
     "task": false
    }
   },
   "source": [
    "Ahora obtendremos los mejores valores de los hiperparámetros usando `grid.best_params_`:"
   ]
  },
  {
   "cell_type": "code",
   "execution_count": 34,
   "metadata": {
    "deletable": false,
    "editable": false,
    "nbgrader": {
     "cell_type": "code",
     "checksum": "804d3f46401624d4099468db43253fac",
     "grade": false,
     "grade_id": "cell-25f14c67373f0722",
     "locked": true,
     "schema_version": 3,
     "solution": false,
     "task": false
    }
   },
   "outputs": [
    {
     "name": "stdout",
     "output_type": "stream",
     "text": [
      "Mejores parámetros: {'imputer__num__strategy': 'mean', 'model__criterion': 'entropy', 'model__max_depth': 2, 'model__min_samples_split': 2}\n"
     ]
    }
   ],
   "source": [
    "print(\"Mejores parámetros: {}\".format(grid.best_params_)) "
   ]
  },
  {
   "cell_type": "markdown",
   "metadata": {
    "deletable": false,
    "editable": false,
    "nbgrader": {
     "cell_type": "markdown",
     "checksum": "409f7dc6b1897e1008e11a43313ff6aa",
     "grade": false,
     "grade_id": "cell-a98356149f3ea5e0",
     "locked": true,
     "schema_version": 3,
     "solution": false,
     "task": false
    }
   },
   "source": [
    "Además, almacenaremos el mejor modelo utilizando `grid.best_estimator_`:"
   ]
  },
  {
   "cell_type": "code",
   "execution_count": 35,
   "metadata": {
    "deletable": false,
    "editable": false,
    "nbgrader": {
     "cell_type": "code",
     "checksum": "7f8a0d267efaf86024342db29754fd33",
     "grade": false,
     "grade_id": "cell-e027f06e18ad7adf",
     "locked": true,
     "schema_version": 3,
     "solution": false,
     "task": false
    }
   },
   "outputs": [],
   "source": [
    "mejor_modelo = grid.best_estimator_"
   ]
  },
  {
   "cell_type": "markdown",
   "metadata": {
    "deletable": false,
    "editable": false,
    "nbgrader": {
     "cell_type": "markdown",
     "checksum": "55207565a40f56c76b86b17654c238d3",
     "grade": false,
     "grade_id": "cell-681947a6f969c413",
     "locked": true,
     "schema_version": 3,
     "solution": false,
     "task": false
    }
   },
   "source": [
    "## 4. Evaluación del modelo\n",
    "\n",
    "Por último, evaluarás el modelo entrenado utilizando el conjunto de pruebas.\n",
    "\n",
    "### Ejercicio 4.1.\n",
    "\n",
    "Separa las variables independientes y la variable objetivo en el conjunto de pruebas. Para ello, utiliza Pandas para crear dos variables, `x_test` y `y_test`, que almacenarán las variables independientes y la variable objetivo, respectivamente.\n",
    "\n",
    "* Crea una variable con nombre `x_test` y asígnale la operación necesaria para almacenar solo las variables independientes del conjunto de pruebas. (**Ejemplo: `x_test = test.<<Función>>`**)\n",
    "* Crea una variable con nombre `y_test` y asígnale la operación necesaria para almacenar la variable objetivo del conjunto de pruebas. (**Ejemplo: `y_test = <<Consulta>>`**)"
   ]
  },
  {
   "cell_type": "code",
   "execution_count": 36,
   "metadata": {
    "deletable": false,
    "nbgrader": {
     "cell_type": "code",
     "checksum": "0e7fcda78ad34849ea4cfd21c22c043f",
     "grade": false,
     "grade_id": "E41",
     "locked": false,
     "schema_version": 3,
     "solution": true,
     "task": false
    }
   },
   "outputs": [],
   "source": [
    "# Tu respuesta deben ser dos líneas consecutivas:\n",
    "#    x_test = test.<<Función>>\n",
    "#    y_test = <<Consulta>>\n",
    "# your code here\n",
    "x_test = test.drop(['Attrition'],axis=1)\n",
    "y_test = test['Attrition']"
   ]
  },
  {
   "cell_type": "code",
   "execution_count": 37,
   "metadata": {
    "deletable": false,
    "editable": false,
    "nbgrader": {
     "cell_type": "code",
     "checksum": "057e6f818d4f90e93b6ff3b9df534ca3",
     "grade": true,
     "grade_id": "E41-tests",
     "locked": true,
     "points": 1,
     "schema_version": 3,
     "solution": false,
     "task": false
    }
   },
   "outputs": [
    {
     "name": "stdout",
     "output_type": "stream",
     "text": [
      "¡Los conjuntos 'x_test' y 'y_test' tienen las dimensiones correctas!\n"
     ]
    }
   ],
   "source": [
    "#---------- Celda de Pruebas ----------\n",
    "# Las variables existen\n",
    "# La variable \"x_test\" es un DataFrame\n",
    "# La variable \"y_test\" es una Serie de Pandas\n",
    "# Las variables tienen las dimensiones correctas\n",
    "#--------------------------------------\n",
    "\n",
    "# Se verifica que las variables están definidas\n",
    "assert x_test is not None, \"Asegúrate de definir la variable con el nombre correcto.\"\n",
    "assert y_test is not None, \"Asegúrate de definir la variable con el nombre correcto.\"\n",
    "\n",
    "# Se verifica que \"x_test\" sea un DataFrame\n",
    "assert isinstance(x_test, pd.DataFrame), \"El resultado debe ser un DataFrame.\"\n",
    "\n",
    "# Se verifica que \"y_test\" sea una Serie\n",
    "assert isinstance(y_test, pd.Series), \"El resultado debe ser una Serie de Pandas.\"\n",
    "\n",
    "# Se evalúan las dimensiones de las variables\n",
    "assert x_test.shape == (294,30), \"\\'x_test\\' debe tener el mismo número de filas pero una columna menos que \\'test\\'.\"\n",
    "assert y_test.shape == (294,), \"\\'y_test\\' solamente contiene una columna.\"\n",
    "print(\"¡Los conjuntos \\'x_test\\' y \\'y_test\\' tienen las dimensiones correctas!\")"
   ]
  },
  {
   "cell_type": "markdown",
   "metadata": {
    "deletable": false,
    "editable": false,
    "nbgrader": {
     "cell_type": "markdown",
     "checksum": "cb4d9c5dfabca50a03d77b2875eb6f04",
     "grade": false,
     "grade_id": "cell-317d208959bc3242",
     "locked": true,
     "schema_version": 3,
     "solution": false,
     "task": false
    }
   },
   "source": [
    "### Ejercicio 4.2.\n",
    "\n",
    "Con el conjunto de pruebas preparado, realiza predicciones con el fin de compararlas con los valores reales almacenados en `y_test`.\n",
    "\n",
    "* Utiliza la variable `mejor_modelo` para realizar las predicciones sobre el mejor modelo. Asigna el resultado a una variable con nombre `y_pred` (**Ejemplo: `y_pred = mejor_modelo.<<Función>>`**)."
   ]
  },
  {
   "cell_type": "code",
   "execution_count": 38,
   "metadata": {
    "deletable": false,
    "nbgrader": {
     "cell_type": "code",
     "checksum": "8207d8c364c4c9c4112412066124625b",
     "grade": false,
     "grade_id": "E42",
     "locked": false,
     "schema_version": 3,
     "solution": true,
     "task": false
    }
   },
   "outputs": [],
   "source": [
    "# your code here\n",
    "y_pred = mejor_modelo.predict(x_test)"
   ]
  },
  {
   "cell_type": "code",
   "execution_count": 39,
   "metadata": {
    "deletable": false,
    "editable": false,
    "nbgrader": {
     "cell_type": "code",
     "checksum": "c68da3a46331baadafc03e418fcf1a5c",
     "grade": true,
     "grade_id": "E42-tests",
     "locked": true,
     "points": 1,
     "schema_version": 3,
     "solution": false,
     "task": false
    }
   },
   "outputs": [
    {
     "name": "stdout",
     "output_type": "stream",
     "text": [
      "¡'y_pred' es un arreglo con las dimensiones correctas!\n"
     ]
    }
   ],
   "source": [
    "#---------- Celda de Pruebas ----------\n",
    "# La variable \"y_pred\" existe\n",
    "# La variable \"y_pred\" es un arreglo\n",
    "# La variable \"y_pred\" tiene las dimensiones correctas\n",
    "#--------------------------------------\n",
    "\n",
    "# Se verifica que \"y_pred\" está definida\n",
    "assert y_pred is not None, \"Asegúrate de definir la variable con el nombre correcto.\"\n",
    "\n",
    "# Se verifica que \"y_pred\" sea un arreglo\n",
    "assert isinstance(y_pred, np.ndarray), \"El resultado debe ser un arreglo de Numpy.\"\n",
    "\n",
    "# Se evalúan las dimensiones de \"y_pred\"\n",
    "assert y_pred.shape == (294,), \"\\'y_pred\\' debe tener el mismo número de filas (predicciones) que \\'x_test\\' y \\'y_test\\'.\"\n",
    "print(\"¡\\'y_pred\\' es un arreglo con las dimensiones correctas!\")"
   ]
  },
  {
   "cell_type": "markdown",
   "metadata": {
    "deletable": false,
    "editable": false,
    "nbgrader": {
     "cell_type": "markdown",
     "checksum": "b7187b590521fd8812c9ec2e5074a066",
     "grade": false,
     "grade_id": "cell-9fb13f41b4a0843c",
     "locked": true,
     "schema_version": 3,
     "solution": false,
     "task": false
    }
   },
   "source": [
    "### Ejercicio 4.3.\n",
    "\n",
    "Utiliza el conjunto de predicciones `y_pred` y el conjunto de valores reales `y_test` para obtener la matriz de confusión del mejor modelo.\n",
    "\n",
    "* Haz un llamado a la función que retorna la matriz de confusión como un arreglo. Asigna el resultado a una nueva variable con el nombre `p43` (**Ejemplo: `p43 = <<Función>>`**).\n",
    "* Encontrarás la línea `p43` al final de la celda. Esta línea se usa para que puedas visualizar la matriz resultante, por lo que no la debes modificar."
   ]
  },
  {
   "cell_type": "code",
   "execution_count": 40,
   "metadata": {
    "deletable": false,
    "nbgrader": {
     "cell_type": "code",
     "checksum": "420eb659de723300f175291cdd2917d1",
     "grade": false,
     "grade_id": "E43",
     "locked": false,
     "schema_version": 3,
     "solution": true,
     "task": false
    }
   },
   "outputs": [],
   "source": [
    "# your code here\n",
    "\n",
    "p43 = confusion_matrix(y_test, y_pred)"
   ]
  },
  {
   "cell_type": "code",
   "execution_count": 41,
   "metadata": {
    "deletable": false,
    "editable": false,
    "nbgrader": {
     "cell_type": "code",
     "checksum": "b19bb94483b618405d9d34216a292355",
     "grade": true,
     "grade_id": "E43-tests",
     "locked": true,
     "points": 1,
     "schema_version": 3,
     "solution": false,
     "task": false
    }
   },
   "outputs": [
    {
     "name": "stdout",
     "output_type": "stream",
     "text": [
      "¡'p43' es un arreglo con las dimensiones correctas!\n"
     ]
    }
   ],
   "source": [
    "#---------- Celda de Pruebas ----------\n",
    "# La variable \"p43\" existe\n",
    "# La variable \"p43\" es un arreglo de numpy\n",
    "# La variable \"p43\" tiene las dimensiones correctas\n",
    "#--------------------------------------\n",
    "\n",
    "# Se verifica que \"p43\" está definida\n",
    "assert p43 is not None, \"Asegúrate de definir la variable con el nombre correcto.\"\n",
    "\n",
    "# Se verifica que \"p43\" sea un arreglo de numpy\n",
    "assert isinstance(p43, np.ndarray), \"El resultado debe ser un arreglo de Numpy.\"\n",
    "\n",
    "# Se evalúan las dimensiones de \"p43\"\n",
    "assert p43.shape == (2,2), \"\\'p43\\' debe tener dos filas y dos columnas, equivalente al número de clases del problema.\"\n",
    "print(\"¡\\'p43\\' es un arreglo con las dimensiones correctas!\")"
   ]
  },
  {
   "cell_type": "markdown",
   "metadata": {
    "deletable": false,
    "editable": false,
    "nbgrader": {
     "cell_type": "markdown",
     "checksum": "040aa7e8e603769ead19fb1ff87f615a",
     "grade": false,
     "grade_id": "cell-ebb4d05f0818914e",
     "locked": true,
     "schema_version": 3,
     "solution": false,
     "task": false
    }
   },
   "source": [
    "En total, puedes observar el rendimiento del mejor modelo usando `classification_report()`:"
   ]
  },
  {
   "cell_type": "code",
   "execution_count": 42,
   "metadata": {
    "deletable": false,
    "editable": false,
    "nbgrader": {
     "cell_type": "code",
     "checksum": "9f5d8c2ed2a1cb1c4b326df99387197c",
     "grade": false,
     "grade_id": "cell-0d1be2c9278f6c67",
     "locked": true,
     "schema_version": 3,
     "solution": false,
     "task": false
    }
   },
   "outputs": [
    {
     "name": "stdout",
     "output_type": "stream",
     "text": [
      "              precision    recall  f1-score   support\n",
      "\n",
      "           0       0.88      0.94      0.91       245\n",
      "           1       0.53      0.33      0.41        49\n",
      "\n",
      "    accuracy                           0.84       294\n",
      "   macro avg       0.70      0.63      0.66       294\n",
      "weighted avg       0.82      0.84      0.82       294\n",
      "\n"
     ]
    }
   ],
   "source": [
    "print(classification_report(y_test, y_pred))"
   ]
  },
  {
   "cell_type": "markdown",
   "metadata": {
    "deletable": false,
    "editable": false,
    "nbgrader": {
     "cell_type": "markdown",
     "checksum": "351c9f0647169eee5a3bd7e30839aa34",
     "grade": false,
     "grade_id": "cell-aab4775875b84eff",
     "locked": true,
     "schema_version": 3,
     "solution": false,
     "task": false
    }
   },
   "source": [
    "## Cierre\n",
    "\n",
    "Al realizar los ejercicios de este taller, has reforzado tus capacidades para construir pipelines y realizar una búsqueda exhaustiva de hiperparámetros, evaluando el mejor modelo utilizando la matriz de confusión y observando su reporte de clasificación.\n",
    "\n",
    "---\n",
    "*Creado por: Nicolás Díaz*  \n",
    "*Revisado por: Haydemar Nuñez*  \n",
    "*Versión de: Marzo 2, 2024*  \n",
    "*Universidad de los Andes*   "
   ]
  },
  {
   "cell_type": "code",
   "execution_count": null,
   "metadata": {},
   "outputs": [],
   "source": []
  }
 ],
 "metadata": {
  "kernelspec": {
   "display_name": "Python 3",
   "language": "python",
   "name": "python3"
  },
  "language_info": {
   "codemirror_mode": {
    "name": "ipython",
    "version": 3
   },
   "file_extension": ".py",
   "mimetype": "text/x-python",
   "name": "python",
   "nbconvert_exporter": "python",
   "pygments_lexer": "ipython3",
   "version": "3.7.6"
  }
 },
 "nbformat": 4,
 "nbformat_minor": 4
}
